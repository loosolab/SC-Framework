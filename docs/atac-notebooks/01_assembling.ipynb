{
 "cells": [
  {
   "cell_type": "code",
   "execution_count": null,
   "id": "d397d25e",
   "metadata": {
    "hide_input": true,
    "init_cell": true
   },
   "outputs": [],
   "source": [
    "import sctoolbox\n",
    "from sctoolbox.utils import bgcolor"
   ]
  },
  {
   "cell_type": "markdown",
   "id": "88a120f5",
   "metadata": {},
   "source": [
    "# 01 - Assembling or loading anndata object\n",
    "<hr style=\"border:2px solid black\"> </hr>"
   ]
  },
  {
   "cell_type": "markdown",
   "id": "682e1a86",
   "metadata": {},
   "source": [
    "## 1 - Description\n",
    "This notebook is dedicated to loading or creating an anndata object suitable for the subsequent analysis pipeline and optionally adding quality control-related metrics. The anndata object is prepared and finally stored as a `.h5ad` file. Based on the available data files there are multiple options to create the anndata object. To satisfy all and especially ATAC-related functionalities indexes are prepared to hold barcodes and feature coordinates.\n",
    "\n",
    "### 1.1 Sources to create the anndata object:\n",
    "1. **`.h5ad` file:**  \n",
    "   Choose this option if you have a `.h5ad` file. The file could be provided by a preprocessing pipeline, a public dataset or a preceding analysis.\n",
    "\n",
    "2. **Convert from R object:**  \n",
    "   This option should be used if the data was processed using R. This can either be a `.rds` or `.robj` file.\n",
    "\n",
    "### 2.2 ATAC specific quality control metrics\n",
    "1. **Nucleosome signal score:**  \n",
    "   This ATAC specific quality control metric scores the fragment length distribution pattern of individual cells. This step utilizes PEAKQC for the score calculation. Choose if this score should be calculated and provide a file containing the fragments of the features. As input a bamfile with the raw reads or a bedfile containing fragments are suitable.\n",
    "\n",
    "2. **Overlap with defined regions:**  \n",
    "   Check for overlaps of the fragments with regions defined in a `.gtf` file. This could be promoters or transcription start sites. Choose if the overlap should be performed and provide the file holding the desired regions.\n"
   ]
  },
  {
   "cell_type": "markdown",
   "id": "e57e5449",
   "metadata": {},
   "source": [
    "___________"
   ]
  },
  {
   "cell_type": "markdown",
   "id": "db480a4c",
   "metadata": {},
   "source": [
    "## 2 - Setup"
   ]
  },
  {
   "cell_type": "code",
   "execution_count": null,
   "id": "c4665377",
   "metadata": {
    "editable": false,
    "run_control": {
     "marked": false
    }
   },
   "outputs": [],
   "source": [
    "# sctoolbox modules \n",
    "import sctoolbox.calc_overlap_pct as overlap\n",
    "import peakqc.fld_scoring as fld\n",
    "from sctoolbox.qc_filter import *\n",
    "from sctoolbox.atac_utils import *\n",
    "import sctoolbox.utils as utils\n",
    "\n",
    "utils.settings_from_config(\"config.yaml\", key=\"01\")"
   ]
  },
  {
   "cell_type": "markdown",
   "id": "620ea886",
   "metadata": {},
   "source": [
    "___"
   ]
  },
  {
   "cell_type": "markdown",
   "id": "416ff23b",
   "metadata": {},
   "source": [
    "## 3 - Read in data\n",
    "<hr style=\"border:2px solid black\"> </hr>"
   ]
  },
  {
   "cell_type": "markdown",
   "id": "c9e8b8fd",
   "metadata": {
    "pycharm": {
     "name": "#%% md\n"
    }
   },
   "source": [
    "<h1><center>⬐ Fill in input data here ⬎</center></h1>"
   ]
  },
  {
   "cell_type": "code",
   "execution_count": null,
   "id": "6d72e82d",
   "metadata": {
    "init_cell": true
   },
   "outputs": [],
   "source": [
    "%bgcolor PowderBlue\n",
    "\n",
    "# Choose one option\n",
    "\n",
    "# For option 1: The path to an existing .h5ad file\n",
    "path_h5ad = \"test_data/scatac_pbmc.h5ad\"\n",
    "\n",
    "# For option 2: This is the path to the Seurat (.rds, .robj) file\n",
    "path_rds = \"\""
   ]
  },
  {
   "cell_type": "markdown",
   "id": "afaba61b",
   "metadata": {},
   "source": [
    "----------------"
   ]
  },
  {
   "cell_type": "code",
   "execution_count": null,
   "id": "fc97707c",
   "metadata": {
    "editable": false,
    "run_control": {
     "marked": false
    }
   },
   "outputs": [],
   "source": [
    "if sum(map(lambda x: x != \"\", [path_h5ad, path_rds])) != 1:\n",
    "    del path_h5ad, path_quant, path_mtx, path_rds\n",
    "    raise ValueError(\"Please set only one of the above variables. Adjust the cell above and re-run.\")"
   ]
  },
  {
   "cell_type": "markdown",
   "id": "90b22b3c",
   "metadata": {},
   "source": [
    "### 3.1 - Option 1: Read from h5ad"
   ]
  },
  {
   "cell_type": "code",
   "execution_count": null,
   "id": "330cc1bd",
   "metadata": {
    "editable": false,
    "run_control": {
     "marked": false
    }
   },
   "outputs": [],
   "source": [
    "if path_h5ad:\n",
    "    adata = utils.load_h5ad(path_h5ad)"
   ]
  },
  {
   "cell_type": "markdown",
   "id": "96fc960b",
   "metadata": {},
   "source": [
    "___"
   ]
  },
  {
   "cell_type": "markdown",
   "id": "ee96d117",
   "metadata": {},
   "source": [
    "### 3.2 - Option 2: Convert from Seurat to anndata object"
   ]
  },
  {
   "cell_type": "code",
   "execution_count": null,
   "id": "be6e671d",
   "metadata": {
    "editable": false,
    "run_control": {
     "marked": false
    }
   },
   "outputs": [],
   "source": [
    "# Converting from Seurat to anndata object\n",
    "if path_rds:\n",
    "    adata = converter.convertToAdata(file=path_rds)"
   ]
  },
  {
   "cell_type": "markdown",
   "id": "62d76ebe",
   "metadata": {},
   "source": [
    "____"
   ]
  },
  {
   "cell_type": "markdown",
   "id": "9a4ecec1",
   "metadata": {},
   "source": [
    "## 4 - Prepare anndata\n",
    "<hr style=\"border:2px solid black\"> </hr>\n",
    "Rename or remove `.obs` and `.var` columns as needed and format their indices. After this step the index of `.var` holds the feature coordinates and `.obs` the cell barcodes."
   ]
  },
  {
   "cell_type": "code",
   "execution_count": null,
   "id": "ff210946",
   "metadata": {
    "editable": false,
    "run_control": {
     "marked": false
    }
   },
   "outputs": [],
   "source": [
    "import pandas as pd\n",
    "\n",
    "with pd.option_context('display.max_rows', 5,'display.max_columns', None):\n",
    "    display(adata.obs)\n",
    "    display(adata.var)"
   ]
  },
  {
   "cell_type": "markdown",
   "id": "d2759a09",
   "metadata": {},
   "source": [
    "<h1><center>⬐ Fill in input data here ⬎</center></h1>"
   ]
  },
  {
   "cell_type": "code",
   "execution_count": null,
   "id": "cc06e2ee",
   "metadata": {
    "init_cell": true
   },
   "outputs": [],
   "source": [
    "%bgcolor PowderBlue\n",
    "\n",
    "## 1. Modify existing columns\n",
    "\n",
    "# .obs column names that should be deleted\n",
    "drop_obs = []\n",
    "\n",
    "# .obs column names that should be changed. E.g. \"old_name\": \"New Name\"\n",
    "rename_obs = {}\n",
    "\n",
    "# .var column names that should be deleted\n",
    "drop_var = []\n",
    "\n",
    "# .var column names that should be changed. E.g. \"old_name\": \"New Name\"\n",
    "rename_var = {}\n",
    "\n",
    "\n",
    "## 2. ATAC specific anndata properties\n",
    "\n",
    "# columns where peak location data is stored (['chr', 'start', 'end'])\n",
    "coordinate_cols = ['chr', 'start', 'end'] # (list:str) \n",
    "\n",
    "# should the adata.var index be formatted, that it matches chr:start-stop\n",
    "set_index = True       # (boolean)\n",
    "\n",
    "# should the .var index be generated from a certain column. Otherwise this is None \n",
    "index_from = None    # (str)"
   ]
  },
  {
   "cell_type": "markdown",
   "id": "fbf6c915",
   "metadata": {},
   "source": [
    "_________"
   ]
  },
  {
   "cell_type": "markdown",
   "id": "b6cadaf4",
   "metadata": {},
   "source": [
    "### 4.1 - Rename and delete columns "
   ]
  },
  {
   "cell_type": "code",
   "execution_count": null,
   "id": "823e88a4",
   "metadata": {
    "editable": false,
    "run_control": {
     "marked": false
    }
   },
   "outputs": [],
   "source": [
    "# change obs\n",
    "obs = adata.obs.copy()\n",
    "\n",
    "obs.drop(columns=drop_obs, inplace=True)\n",
    "obs.rename(columns=rename_obs, errors='raise', inplace=True)\n",
    "\n",
    "# change var\n",
    "var = adata.var.copy()\n",
    "\n",
    "var.drop(columns=drop_var, inplace=True)\n",
    "var.rename(columns=rename_var, errors='raise', inplace=True)\n",
    "\n",
    "# apply changes to adata\n",
    "adata.obs = obs\n",
    "adata.var = var"
   ]
  },
  {
   "cell_type": "markdown",
   "id": "7b82e1ed",
   "metadata": {},
   "source": [
    "___"
   ]
  },
  {
   "cell_type": "markdown",
   "id": "e4072a64",
   "metadata": {},
   "source": [
    "### 4.2 - Format anndata indices"
   ]
  },
  {
   "cell_type": "code",
   "execution_count": null,
   "id": "addc7586",
   "metadata": {
    "editable": false,
    "run_control": {
     "marked": false
    }
   },
   "outputs": [],
   "source": [
    "adata = utils.prepare_atac_anndata(adata,\n",
    "                   coordinate_cols=coordinate_cols,\n",
    "                   set_index=set_index,\n",
    "                   index_from=index_from)"
   ]
  },
  {
   "cell_type": "markdown",
   "id": "7dadb1da",
   "metadata": {},
   "source": [
    "________"
   ]
  },
  {
   "cell_type": "markdown",
   "id": "e1ece1e2",
   "metadata": {},
   "source": [
    "## 5 - Add ATAC specific metrices\n",
    "<hr style=\"border:2px solid black\"> </hr>\n",
    "Add ATAC specific QC-metrics to the `.obs` table."
   ]
  },
  {
   "cell_type": "markdown",
   "id": "95a9afdf",
   "metadata": {},
   "source": [
    "<h1><center>⬐ Fill in input data here ⬎</center></h1>"
   ]
  },
  {
   "cell_type": "code",
   "execution_count": null,
   "id": "00720186",
   "metadata": {
    "init_cell": true
   },
   "outputs": [],
   "source": [
    "%bgcolor PowderBlue\n",
    "\n",
    "## 1. Source of fragments\n",
    "\n",
    "# Either provide a bamfile or a bedfile containing fragments\n",
    "fragments_file = 'test_data/scatac_pbmc_fragments.bed'\n",
    "\n",
    "# If a bamfile was provided, which column contains the barcode information\n",
    "barcode_tag = 'CB'\n",
    "\n",
    "## 2. Choose actions to be done\n",
    "\n",
    "# 2.1 calculate fragment length distribution score\n",
    "calculate_fld_score = True\n",
    "\n",
    "# 2.2 calculate overlap between fragments and regions\n",
    "calculate_overlap = True\n",
    "\n",
    "# Additional settings for the overlap\n",
    "region_name = 'promoters'\n",
    "regions_file = 'test_data/homo_sapiens.104.promoters2000.gtf'\n",
    "\n",
    "# Number of threads available\n",
    "threads = 8"
   ]
  },
  {
   "cell_type": "markdown",
   "id": "f9ea7100",
   "metadata": {},
   "source": [
    "---------"
   ]
  },
  {
   "cell_type": "markdown",
   "id": "3611bba7",
   "metadata": {},
   "source": [
    "### 5.1 - Check barcode tag \n",
    "If a bamfile is provided this checks if the barcodes are available in the anndata object"
   ]
  },
  {
   "cell_type": "code",
   "execution_count": null,
   "id": "621ae737",
   "metadata": {
    "editable": false,
    "run_control": {
     "marked": false
    }
   },
   "outputs": [],
   "source": [
    "use_bam = fragments_file.endswith(\"bam\")\n",
    "if use_bam:\n",
    "    check_barcode_tag(adata, fragments_file, barcode_tag)"
   ]
  },
  {
   "cell_type": "markdown",
   "id": "bbd1316c",
   "metadata": {},
   "source": [
    "____"
   ]
  },
  {
   "cell_type": "markdown",
   "id": "179aa69b",
   "metadata": {},
   "source": [
    "### 5.2 - Score fragment length distributions"
   ]
  },
  {
   "cell_type": "code",
   "execution_count": null,
   "id": "10909efd",
   "metadata": {
    "editable": false,
    "run_control": {
     "marked": false
    }
   },
   "outputs": [],
   "source": [
    "if calculate_fld_score:\n",
    "\n",
    "    fld.add_fld_metrics(adata=adata,\n",
    "                        fragments=fragments_file,\n",
    "                        barcode_col=None,\n",
    "                        barcode_tag=barcode_tag,\n",
    "                        chunk_size_bam=1000000,\n",
    "                        regions=None,\n",
    "                        peaks_thr=10,\n",
    "                        wavelength=150,\n",
    "                        sigma=0.4,\n",
    "                        plot=False,\n",
    "                        save_density=None,\n",
    "                        save_overview=None,\n",
    "                        sample=0)\n",
    "\n",
    "    adata.obs"
   ]
  },
  {
   "cell_type": "markdown",
   "id": "ce3d362e",
   "metadata": {},
   "source": [
    "_____"
   ]
  },
  {
   "cell_type": "markdown",
   "id": "d52e715e",
   "metadata": {},
   "source": [
    "### 5.3 - Calculate an overlap"
   ]
  },
  {
   "cell_type": "code",
   "execution_count": null,
   "id": "f47c42db",
   "metadata": {
    "editable": false,
    "run_control": {
     "marked": false
    }
   },
   "outputs": [],
   "source": [
    "if calculate_overlap:\n",
    "    \n",
    "    if use_bam:\n",
    "        fc_fragments_in_regions(adata=adata,\n",
    "                                regions_file=regions_file,\n",
    "                                bam_file=fragments_file,\n",
    "                                cb_col=None,\n",
    "                                cb_tag=barcode_tag,\n",
    "                                regions_name=region_name,\n",
    "                                threads=threads,\n",
    "                                temp_dir=None)\n",
    "        \n",
    "    else:\n",
    "        fc_fragments_in_regions(adata=adata,\n",
    "                                regions_file=regions_file,\n",
    "                                fragments_file=fragments_file,\n",
    "                                cb_col=None,\n",
    "                                regions_name=region_name,\n",
    "                                threads=threads,\n",
    "                                temp_dir=None)\n",
    "        \n",
    "    adata.obs"
   ]
  },
  {
   "cell_type": "code",
   "execution_count": null,
   "id": "0c4ebdf2",
   "metadata": {
    "editable": false,
    "run_control": {
     "marked": false
    }
   },
   "outputs": [],
   "source": [
    "adata.obs"
   ]
  },
  {
   "cell_type": "markdown",
   "id": "aae94f08",
   "metadata": {},
   "source": [
    "________"
   ]
  },
  {
   "cell_type": "markdown",
   "id": "28f21370",
   "metadata": {},
   "source": [
    "## 6 - Saving the anndata object"
   ]
  },
  {
   "cell_type": "code",
   "execution_count": null,
   "id": "07246f8d",
   "metadata": {
    "editable": false,
    "run_control": {
     "marked": false
    }
   },
   "outputs": [],
   "source": [
    "# Overview of loaded adata\n",
    "display(adata)"
   ]
  },
  {
   "cell_type": "code",
   "execution_count": null,
   "id": "6d1ee030",
   "metadata": {
    "editable": false,
    "run_control": {
     "marked": false
    }
   },
   "outputs": [],
   "source": [
    "# Saving the data\n",
    "adata_output = \"anndata_1.h5ad\"\n",
    "utils.save_h5ad(adata, adata_output)"
   ]
  },
  {
   "cell_type": "code",
   "execution_count": null,
   "id": "09b955ce",
   "metadata": {
    "editable": false,
    "run_control": {
     "marked": false
    }
   },
   "outputs": [],
   "source": [
    "sctoolbox.settings.close_logfile()"
   ]
  }
 ],
 "metadata": {
  "kernelspec": {
   "display_name": "sctoolbox",
   "language": "python",
   "name": "sctoolbox"
  },
  "language_info": {
   "codemirror_mode": {
    "name": "ipython",
    "version": 3
   },
   "file_extension": ".py",
   "mimetype": "text/x-python",
   "name": "python",
   "nbconvert_exporter": "python",
   "pygments_lexer": "ipython3",
   "version": "3.10.13"
  }
 },
 "nbformat": 4,
 "nbformat_minor": 5
}
