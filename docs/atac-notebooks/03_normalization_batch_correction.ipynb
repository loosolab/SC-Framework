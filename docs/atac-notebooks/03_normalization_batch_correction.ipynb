{
 "cells": [
  {
   "cell_type": "code",
   "execution_count": null,
   "id": "01b04638",
   "metadata": {
    "hide_input": true,
    "init_cell": true
   },
   "outputs": [],
   "source": [
    "import sctoolbox\n",
    "from sctoolbox.utilities import bgcolor"
   ]
  },
  {
   "cell_type": "markdown",
   "id": "edf8be50",
   "metadata": {},
   "source": [
    "# 03 - Batch effect correction and comparisons\n",
    "<hr style=\"border:2px solid black\"> </hr>"
   ]
  },
  {
   "cell_type": "markdown",
   "id": "774d3dd8",
   "metadata": {},
   "source": [
    "## 1 - Description\n",
    "\n",
    "Batch effects are variances in the data that are not intended by the experimental design (e.g. technical variance). They can be introduced through various sources for example sequencing samples at different timepoints may introduce batch effects. As batch effects could interfere with downstream analysis they are typically removed. However, it can be challenging to identify and correct for batch effects as this is highly dependent on the experimental setup of the dataset. \n",
    "DOI: https://doi.org/10.1038/nrg2825\n",
    "\n",
    "To determine the strength of a batch effect the Local Inverse Simpson's Index (LISI) can be used by measuring the heterogenity.\n",
    "DOI: https://doi.org/10.1038/s41592-019-0619-0\n",
    "\n",
    "Another important property of our data its the high dimensionality. For subsequent steps like the embedding and clustering. The dimensionality has to be reduced. To do that algorithms like Principle Component Analysis (PCA) can be used. \n",
    "DOI: https://doi.org/10.1038/nmeth.4346\n",
    "\n",
    "This notebooks aims to prepare our data for the subsequent embedding and clustering, by normalization and batch correction. To infer the effects of the batch correction and normalization an embedding is calculated for visualization, beside the LISI score. For the embedding and following notebooks a PCA is performed and components selected."
   ]
  },
  {
   "cell_type": "markdown",
   "id": "f81bef47",
   "metadata": {},
   "source": [
    "________"
   ]
  },
  {
   "cell_type": "markdown",
   "id": "1352490e",
   "metadata": {},
   "source": [
    "## 2 - Setup"
   ]
  },
  {
   "cell_type": "code",
   "execution_count": null,
   "id": "2459bc13",
   "metadata": {
    "editable": false,
    "run_control": {
     "marked": false
    }
   },
   "outputs": [],
   "source": [
    "import sctoolbox.tools as tools\n",
    "import sctoolbox.plotting as pl\n",
    "import sctoolbox.utils as utils\n",
    "import scanpy as sc\n",
    "import episcanpy as epi\n",
    "import numpy as np\n",
    "import pandas as pd\n",
    "import matplotlib.pyplot as plt\n",
    "utils.settings_from_config(\"config.yaml\", key=\"03\")\n",
    "\n",
    "sc.set_figure_params(vector_friendly=True, dpi_save=600, scanpy=False)"
   ]
  },
  {
   "cell_type": "markdown",
   "id": "92dd8863",
   "metadata": {},
   "source": [
    "________"
   ]
  },
  {
   "cell_type": "markdown",
   "id": "45f7cb1b",
   "metadata": {},
   "source": [
    "## 3 - Load anndata\n",
    "Loads the anndata.h5ad from the last notebook and provides a basic overview."
   ]
  },
  {
   "cell_type": "code",
   "execution_count": null,
   "id": "e2d7fd4d",
   "metadata": {
    "editable": false,
    "run_control": {
     "marked": false
    }
   },
   "outputs": [],
   "source": [
    "adata = utils.load_h5ad(\"anndata_2.h5ad\")\n",
    "\n",
    "with pd.option_context(\"display.max.rows\", 5, \"display.max.columns\", None):\n",
    "    display(adata)\n",
    "    display(adata.obs)\n",
    "    display(adata.var)"
   ]
  },
  {
   "cell_type": "markdown",
   "id": "a68d8b92",
   "metadata": {},
   "source": [
    "_________"
   ]
  },
  {
   "cell_type": "markdown",
   "id": "1a4b99e7",
   "metadata": {},
   "source": [
    "## 4 - General input"
   ]
  },
  {
   "cell_type": "markdown",
   "id": "046d5d70",
   "metadata": {},
   "source": [
    "<h1><center>⬐ Fill in input data here ⬎</center></h1>"
   ]
  },
  {
   "cell_type": "code",
   "execution_count": null,
   "id": "1f494d31",
   "metadata": {
    "init_cell": true
   },
   "outputs": [],
   "source": [
    "%bgcolor PowderBlue\n",
    "\n",
    "# Choose normalization method\n",
    "norm_methods = ['tfidf', 'total']  # can be 'tfidf' and/or 'total'\n",
    "\n",
    "# Choose if highly variable features should be used\n",
    "use_highly_variable=True\n",
    "\n",
    "# Set number of neighbors\n",
    "n_neighbors = 15  #Default=15\n",
    "\n",
    "# UMAP related settings \n",
    "metacol = 'sample'\n",
    "\n",
    "# batch correction: If True, several batch correction methods will be performed,\n",
    "# you can choose the best one after\n",
    "batch_column = \"sample\"\n",
    "perform_batch_correction = True\n",
    "batch_methods = [\"bbknn\", \"harmony\"] # \"mnn\", \"scanorama\"\n",
    "threads = 8"
   ]
  },
  {
   "cell_type": "markdown",
   "id": "28bb7da7",
   "metadata": {},
   "source": [
    "________________"
   ]
  },
  {
   "cell_type": "code",
   "execution_count": null,
   "id": "51d7e2c0",
   "metadata": {
    "editable": false,
    "run_control": {
     "marked": false
    }
   },
   "outputs": [],
   "source": [
    "# Ensure that the batch column is of type category\n",
    "adata.obs[batch_column] = adata.obs[batch_column].astype(str).astype(\"category\")"
   ]
  },
  {
   "cell_type": "markdown",
   "id": "6839ff17",
   "metadata": {},
   "source": [
    "____"
   ]
  },
  {
   "cell_type": "markdown",
   "id": "39ab515b",
   "metadata": {},
   "source": [
    "## 5 - Normalization\n",
    "<hr style=\"border:2px solid black\"> </hr>\n",
    "This section performs the selected normalization methods and computes the PCA as a first embedding for each applied method. "
   ]
  },
  {
   "cell_type": "code",
   "execution_count": null,
   "id": "1566415a",
   "metadata": {
    "editable": false,
    "run_control": {
     "marked": false
    }
   },
   "outputs": [],
   "source": [
    "normalizations = tools.normalize_adata(adata, norm_methods, use_highly_variable=use_highly_variable)"
   ]
  },
  {
   "cell_type": "code",
   "execution_count": null,
   "id": "b6dd0e4b",
   "metadata": {
    "editable": false,
    "run_control": {
     "marked": false
    }
   },
   "outputs": [],
   "source": [
    "_ = pl.compare_embeddings(list(normalizations.values()), adata_names=list(normalizations.keys()),\n",
    "                          var_list=[batch_column], embedding=\"pca\")"
   ]
  },
  {
   "cell_type": "markdown",
   "id": "c88125d6",
   "metadata": {},
   "source": [
    "___________"
   ]
  },
  {
   "cell_type": "markdown",
   "id": "63d72df3",
   "metadata": {},
   "source": [
    "## 6 - PCA and neighbors for uncorrected data\n",
    "<hr style=\"border:2px solid black\"> </hr>\n",
    "This section is about the selection of principal components (PCs) for the subsequent analysis. As lower number of PCs decreases the needed computing resources of many upcoming steps, PCs explaining low variance are excluded. However, some high variance explaining principal components (PCs) of the PCA may be driven by none biological or other unwanted factors (e.g. number of active genes, cell cycle, etc.) as such they should be excluded as well from the following analysis.\n",
    "\n",
    "The following PCA plot and heatmaps are intended to identify potentially unwanted PCs by showing the PCs in combination with available observations (cell-related metrics) and variables (feature-related metrics). In general, **selected PCs should avoid correlations with metrics**, but the importance of metrics and the stringency of thresholds depends on the experiment and the underlying questions, and therefore requires careful consideration by the analyst."
   ]
  },
  {
   "cell_type": "code",
   "execution_count": null,
   "id": "59a1fd7b",
   "metadata": {
    "init_cell": true
   },
   "outputs": [],
   "source": [
    "%bgcolor PowderBlue\n",
    "\n",
    "# number of PCs shown within the heatmap\n",
    "n_pcs_heatmap = 15"
   ]
  },
  {
   "cell_type": "markdown",
   "id": "d5aedbf1",
   "metadata": {},
   "source": [
    "____"
   ]
  },
  {
   "cell_type": "markdown",
   "id": "2d828239",
   "metadata": {},
   "source": [
    "### 6.1 - Plot correlations "
   ]
  },
  {
   "cell_type": "code",
   "execution_count": null,
   "id": "0fda7c2a",
   "metadata": {
    "editable": false,
    "run_control": {
     "marked": false
    }
   },
   "outputs": [],
   "source": [
    "# PCA correlations with obs and var variables\n",
    "for method, adata_norm in normalizations.items():\n",
    "    \n",
    "    _ = pl.plot_pca_correlation(adata_norm, \n",
    "                                n_components=n_pcs_heatmap,\n",
    "                                which=\"obs\", \n",
    "                                title=f\"Normalization method = {method}\\nCorrelation of .obs columns with PCA loadings\",\n",
    "                                save=f\"PCA_{method}_correlation_obs.pdf\")\n",
    "    \n",
    "    _ = pl.plot_pca_correlation(adata_norm, \n",
    "                                n_components=n_pcs_heatmap,\n",
    "                                which=\"var\", \n",
    "                                title=f\"Normalization method = {method}\\nCorrelation of .var columns with PCA loadings\",\n",
    "                                save=f\"PCA_{method}_correlation_var.pdf\")"
   ]
  },
  {
   "cell_type": "markdown",
   "id": "b3a6470b",
   "metadata": {},
   "source": [
    "_________"
   ]
  },
  {
   "cell_type": "markdown",
   "id": "525b0d76",
   "metadata": {},
   "source": [
    "### 6.2 - Choose a subset of PCs"
   ]
  },
  {
   "cell_type": "markdown",
   "id": "d6cfc9cd",
   "metadata": {},
   "source": [
    "In case the above plots showed undesired correlation this section can be used to subset the PCs.\n",
    "\n",
    "| Parameter | Description | Options |\n",
    "|:---:|:---|:---|\n",
    "| subset_pcs | Whether the PCs should be filtered. | `True` or `False` |\n",
    "| corr_thresh | Highest absolute correlation that is allowed. Will take the maximum correlation for each PC as shown in the heatmap above. | Expects a value between `0-1`. |\n",
    "| perc_thresh | Top percentile of PCs that should be kept. | A value between `0-100`%. |\n",
    "| filter_methods | The PCs will be filtered based on the given methods. E.g. for \"variance\" and \"correlation\" PCs are filtered on values from both methods and the intersection is used as the final subset. | Any combination of `[\"variance\", \"cumulative variance\", \"correlation\"]` |\n",
    "| basis | Compute correlation based on observations (cells) or variables (genes). | Either `obs` or `var`. |"
   ]
  },
  {
   "cell_type": "markdown",
   "id": "6926c215",
   "metadata": {},
   "source": [
    "<h1><center>⬐ Fill in input data here ⬎</center></h1>"
   ]
  },
  {
   "cell_type": "code",
   "execution_count": null,
   "id": "a1f82b1e",
   "metadata": {
    "init_cell": true
   },
   "outputs": [],
   "source": [
    "%bgcolor PowderBlue\n",
    "\n",
    "# Whether PCs should be filtered\n",
    "subset_pcs = True\n",
    "\n",
    "corr_thresh = 0.3  # PCs with an absolut correlation above this will be filtered\n",
    "perc_thresh = 50  # Top percentile of PCs that should be kept\n",
    "filter_methods = ['variance', 'correlation']  # propose PCs based on the provided methods\n",
    "basis = 'obs'  # base correlation on obs or var"
   ]
  },
  {
   "cell_type": "markdown",
   "id": "372a515c",
   "metadata": {},
   "source": [
    "________"
   ]
  },
  {
   "cell_type": "code",
   "execution_count": null,
   "id": "67265f39",
   "metadata": {
    "editable": false,
    "run_control": {
     "marked": false
    }
   },
   "outputs": [],
   "source": [
    "if subset_pcs:\n",
    "    for key, adata_normed in normalizations.items():\n",
    "        \n",
    "        selected_pcs = tools.propose_pcs(anndata=adata_normed,\n",
    "                                 how=filter_methods,\n",
    "                                 corr_thresh=corr_thresh,\n",
    "                                 perc_thresh=perc_thresh,\n",
    "                                 corr_kwargs={'method': 'spearmanr', 'which': basis})\n",
    "        \n",
    "        # Plot and select number of PCs\n",
    "        _, ax = plt.subplots()\n",
    "        ax.set_title(key, y=1.15)\n",
    "        _ = pl.plot_pca_variance(adata_normed, \n",
    "                                 save=key + \"_PCA_variance_selected.pdf\",selected=selected_pcs,\n",
    "                                 n_pcs=50,\n",
    "                                 n_thresh=max(selected_pcs),\n",
    "                                 corr_plot='spearmanr',\n",
    "                                 corr_thresh=corr_thresh,\n",
    "                                 corr_on=basis, \n",
    "                                 ax=ax)\n",
    "        \n",
    "        tools.subset_PCA(adata_normed, select=selected_pcs)\n",
    "        \n",
    "        normalizations[key] = adata_normed"
   ]
  },
  {
   "cell_type": "markdown",
   "id": "084779da",
   "metadata": {},
   "source": [
    "___________"
   ]
  },
  {
   "cell_type": "markdown",
   "id": "aadff57d",
   "metadata": {},
   "source": [
    "### 6.3 - Calculate neighbors"
   ]
  },
  {
   "cell_type": "code",
   "execution_count": null,
   "id": "9ed6cd6c",
   "metadata": {
    "editable": false,
    "run_control": {
     "marked": false
    }
   },
   "outputs": [],
   "source": [
    " for adata in normalizations.values():\n",
    "    sc.pp.neighbors(adata, n_neighbors=n_neighbors, method='umap', metric='euclidean')"
   ]
  },
  {
   "cell_type": "markdown",
   "id": "21b1930a",
   "metadata": {},
   "source": [
    "________"
   ]
  },
  {
   "cell_type": "markdown",
   "id": "153d3217",
   "metadata": {},
   "source": [
    "### 6.4 - Wrap UMAP"
   ]
  },
  {
   "cell_type": "code",
   "execution_count": null,
   "id": "dcd0a078",
   "metadata": {
    "editable": false,
    "run_control": {
     "marked": false
    }
   },
   "outputs": [],
   "source": [
    "tools.wrap_umap(normalizations.values())"
   ]
  },
  {
   "cell_type": "markdown",
   "id": "922b09e7",
   "metadata": {},
   "source": [
    "_________"
   ]
  },
  {
   "cell_type": "markdown",
   "id": "13eac7d5",
   "metadata": {},
   "source": [
    "### 6.5 - Choose a normalization"
   ]
  },
  {
   "cell_type": "code",
   "execution_count": null,
   "id": "0316ea1c",
   "metadata": {
    "editable": false,
    "run_control": {
     "marked": false
    }
   },
   "outputs": [],
   "source": [
    "# Plot the overview of batch correction methods\n",
    "_ = pl.anndata_overview(normalizations, \n",
    "                        plots=[\"PCA\", \"PCA-var\", \"UMAP\"],\n",
    "                        color_by=[\"n_features\"], \n",
    "                        output=None)"
   ]
  },
  {
   "cell_type": "markdown",
   "id": "444cb981",
   "metadata": {},
   "source": [
    "<h1><center>⬐ Fill in input data here ⬎</center></h1>"
   ]
  },
  {
   "cell_type": "code",
   "execution_count": null,
   "id": "30c4ad63",
   "metadata": {
    "init_cell": true
   },
   "outputs": [],
   "source": [
    "%bgcolor PowderBlue\n",
    "\n",
    "# Choose the final normalization method\n",
    "norm_method = \"tfidf\""
   ]
  },
  {
   "cell_type": "markdown",
   "id": "a22516c9",
   "metadata": {},
   "source": [
    "_____"
   ]
  },
  {
   "cell_type": "code",
   "execution_count": null,
   "id": "41f9c393",
   "metadata": {
    "editable": false,
    "run_control": {
     "marked": false
    }
   },
   "outputs": [],
   "source": [
    "adata = normalizations[norm_method]\n",
    "\n",
    "sc.pl.pca_overview(adata, color=['n_features'], show=False)\n",
    "\n",
    "_ = pl.plot_pca_correlation(adata, which=\"var\", \n",
    "                            title=f\"Normalization method = {method}\\nCorrelation of .var columns with PCA loadings\",\n",
    "                            save=f\"PCA_{method}_correlation_var.pdf\")"
   ]
  },
  {
   "cell_type": "markdown",
   "id": "eada6617",
   "metadata": {},
   "source": [
    "______"
   ]
  },
  {
   "cell_type": "markdown",
   "id": "a66fe08e",
   "metadata": {},
   "source": [
    "## 7 - Batch correction\n",
    "<hr style=\"border:2px solid black\"> </hr>\n",
    "Batch correction is performed to remove technically introduced artifacts that would affect and potentially degrade the biological results of the data. There are several batch correction methods available, which may perform differently depending on the data set. Therefore, an overview is provided to compare batch correction methods and select the best performing one. To help in the decision making process, several metrics are shown that can be selected below and a score (LISI) is provided that explains whether the batches are well mixed after applying the correction."
   ]
  },
  {
   "cell_type": "code",
   "execution_count": null,
   "id": "ef074edc",
   "metadata": {
    "editable": false,
    "run_control": {
     "marked": false
    }
   },
   "outputs": [],
   "source": [
    "if perform_batch_correction:\n",
    "    batch_corrections = tools.wrap_corrections(adata, \n",
    "                                                  batch_key=batch_column,\n",
    "                                                  methods=batch_methods)\n",
    "else:\n",
    "    batch_corrections = {\"uncorrected\": adata}"
   ]
  },
  {
   "cell_type": "markdown",
   "id": "bf45a278",
   "metadata": {},
   "source": [
    "__________"
   ]
  },
  {
   "cell_type": "markdown",
   "id": "131f3791",
   "metadata": {},
   "source": [
    "### 7.1 - Plot overview of batch corrections"
   ]
  },
  {
   "cell_type": "code",
   "execution_count": null,
   "id": "4d575554",
   "metadata": {
    "editable": false,
    "run_control": {
     "marked": false
    }
   },
   "outputs": [],
   "source": [
    "#Run standard umap for all adatas\n",
    "tools.wrap_umap(batch_corrections.values(), threads=threads)"
   ]
  },
  {
   "cell_type": "markdown",
   "id": "4d98a521",
   "metadata": {},
   "source": [
    "<h1><center>⬐ Fill in input data here ⬎</center></h1>"
   ]
  },
  {
   "cell_type": "code",
   "execution_count": null,
   "id": "50187d2f",
   "metadata": {
    "init_cell": true
   },
   "outputs": [],
   "source": [
    "%bgcolor PowderBlue\n",
    "\n",
    "# Should preliminary clustering be performed?\n",
    "do_clustering = True #True or False\n",
    "\n",
    "# select additional metrics shown in the overview plot below\n",
    "# accepts adata.obs column names or genes (adata.var.index)\n",
    "color_by = ['total_counts',\n",
    "            'pct_counts_is_ribo',\n",
    "            'pct_counts_is_mito',\n",
    "            'n_genes',\n",
    "            'phase']"
   ]
  },
  {
   "cell_type": "markdown",
   "id": "9ca7db29",
   "metadata": {},
   "source": [
    "_____________"
   ]
  },
  {
   "cell_type": "code",
   "execution_count": null,
   "id": "82f7984e",
   "metadata": {
    "editable": false,
    "run_control": {
     "marked": false
    }
   },
   "outputs": [],
   "source": [
    "# Perform additional clustering if it was chosen\n",
    "color_by = []\n",
    "if do_clustering:\n",
    "    for adata in batch_corrections.values():\n",
    "        sc.tl.leiden(adata, 0.1)\n",
    "    color_by.append(\"leiden\")\n",
    "    \n",
    "# Calculate LISI scores for batch\n",
    "tools.wrap_batch_evaluation(batch_corrections, batch_key=batch_column, threads=threads, inplace=True)"
   ]
  },
  {
   "cell_type": "code",
   "execution_count": null,
   "id": "668cafc4",
   "metadata": {
    "editable": false,
    "run_control": {
     "marked": false
    }
   },
   "outputs": [],
   "source": [
    "#Plot the overview of batch correction methods\n",
    "adata.obs[batch_column] = adata.obs[batch_column].astype(\"category\") #ensure that batch column is a category\n",
    "\n",
    "_ = pl.anndata_overview(batch_corrections, color_by=color_by + [batch_column], \n",
    "                        output=None)"
   ]
  },
  {
   "cell_type": "markdown",
   "id": "e378503b",
   "metadata": {},
   "source": [
    "<h1><center>⬐ Fill in input data here ⬎</center></h1>"
   ]
  },
  {
   "cell_type": "code",
   "execution_count": null,
   "id": "99c7c54e",
   "metadata": {
    "init_cell": true
   },
   "outputs": [],
   "source": [
    "%bgcolor PowderBlue\n",
    "\n",
    "#Choose an anndata object to proceed\n",
    "selected = \"bbknn\""
   ]
  },
  {
   "cell_type": "code",
   "execution_count": null,
   "id": "54a4c2aa",
   "metadata": {},
   "outputs": [],
   "source": [
    "adata_corrected = batch_corrections[selected]"
   ]
  },
  {
   "cell_type": "markdown",
   "id": "1e5d8236",
   "metadata": {},
   "source": [
    "_________"
   ]
  },
  {
   "cell_type": "code",
   "execution_count": null,
   "id": "76015510",
   "metadata": {
    "editable": false,
    "run_control": {
     "marked": false
    }
   },
   "outputs": [],
   "source": [
    "if not perform_batch_correction and selected != \"uncorrected\":\n",
    "    import warnings\n",
    "    warnings.warn(f\"Selected batch correction '{selected}' but batch correction is disabled. Falling back to 'uncorrected'.\")\n",
    "    \n",
    "    selected = \"uncorrected\"\n",
    "elif selected not in batch_corrections:\n",
    "    raise KeyError(f\"'{selected}' is not a key in batch_corrections. Choose one of: {list(batch_corrections.keys())}\")"
   ]
  },
  {
   "cell_type": "code",
   "execution_count": null,
   "id": "04551f2b",
   "metadata": {
    "editable": false,
    "run_control": {
     "marked": false
    }
   },
   "outputs": [],
   "source": [
    "adata = batch_corrections[selected]"
   ]
  },
  {
   "cell_type": "markdown",
   "id": "a995f37c",
   "metadata": {},
   "source": [
    "______________"
   ]
  },
  {
   "cell_type": "markdown",
   "id": "04f56dcd",
   "metadata": {},
   "source": [
    "## 8 - Saving adata for the next notebook"
   ]
  },
  {
   "cell_type": "code",
   "execution_count": null,
   "id": "c3739f3c",
   "metadata": {
    "editable": false,
    "run_control": {
     "marked": false
    }
   },
   "outputs": [],
   "source": [
    "adata"
   ]
  },
  {
   "cell_type": "code",
   "execution_count": null,
   "id": "fe9c110c",
   "metadata": {
    "editable": false,
    "run_control": {
     "marked": false
    }
   },
   "outputs": [],
   "source": [
    "#Saving the data\n",
    "adata_output = \"anndata_3.h5ad\"\n",
    "utils.save_h5ad(adata, adata_output)"
   ]
  },
  {
   "cell_type": "code",
   "execution_count": null,
   "id": "986639c1",
   "metadata": {
    "editable": false,
    "run_control": {
     "marked": false
    }
   },
   "outputs": [],
   "source": [
    "sctoolbox.settings.close_logfile()"
   ]
  }
 ],
 "metadata": {
  "kernelspec": {
   "display_name": "sctoolbox",
   "language": "python",
   "name": "sctoolbox"
  },
  "language_info": {
   "codemirror_mode": {
    "name": "ipython",
    "version": 3
   },
   "file_extension": ".py",
   "mimetype": "text/x-python",
   "name": "python",
   "nbconvert_exporter": "python",
   "pygments_lexer": "ipython3",
   "version": "3.10.13"
  }
 },
 "nbformat": 4,
 "nbformat_minor": 5
}
