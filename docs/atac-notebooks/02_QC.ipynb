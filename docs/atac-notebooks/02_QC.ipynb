{
 "cells": [
  {
   "cell_type": "code",
   "execution_count": null,
   "id": "d161b950",
   "metadata": {
    "hide_input": true,
    "init_cell": true
   },
   "outputs": [],
   "source": [
    "import sctoolbox\n",
    "from sctoolbox.utilities import bgcolor"
   ]
  },
  {
   "cell_type": "markdown",
   "id": "b1db09e0",
   "metadata": {},
   "source": [
    "# 02 - QC and filtering\n",
    "<hr style=\"border:2px solid black\"> </hr>"
   ]
  },
  {
   "cell_type": "markdown",
   "id": "6b816a75",
   "metadata": {},
   "source": [
    "## 1 - Description\n",
    "\n",
    "**Quality control**\n",
    "\n",
    "We must ensure that all cellular barcode data correspond to viable cells.\n",
    "\n",
    "To ensure this quality control (QC) is mandatory and for ATAC-seq data based on 4 key aspects:\n",
    "\n",
    "1. The signal-to-noise, either via i) the enrichment of known regions, or ii) the determination of the ratio of fragments in peaks (FRiP).\n",
    "2. The total number of unique fragments, also known as library complexity.\n",
    "3. The fraction of reads derived from mitochondrial DNA vs. nuclear DNA.\n",
    "4. The Fragment Length Distribution.\n",
    "\n",
    "**DOI: 10.1186/s13059-020-1929-3**\n",
    "\n",
    "On the single cell scale additional aspects, such as multiplets have to be taken into account.\n",
    "\n",
    "**DOI: 10.1038/s41467-021-21583-9**\n",
    "\n",
    "Based on QC related columns stored in the .obs we can filter for high quality cells based on all these aspects in this notebook.\n",
    "\n",
    "**Feature Selection**\n",
    "\n",
    "For subsequent processing steps such as dimension reduction, embedding and clustering, the filtering of features and the selection of highly variable features can be conducive.\n",
    "\n",
    "Therefore this notebooks provides steps to exclude regions from sex chromosomes and mitochondrial chromosomes and to select highly variabele features."
   ]
  },
  {
   "cell_type": "markdown",
   "id": "b0b72544",
   "metadata": {},
   "source": [
    "____________"
   ]
  },
  {
   "cell_type": "markdown",
   "id": "4c19ceca",
   "metadata": {},
   "source": [
    "## 2 - Setup"
   ]
  },
  {
   "cell_type": "code",
   "execution_count": null,
   "id": "b1a26b64",
   "metadata": {
    "editable": false,
    "run_control": {
     "marked": false
    }
   },
   "outputs": [],
   "source": [
    "# sctoolbox modules\n",
    "import sctoolbox.utils as utils\n",
    "import sctoolbox.tools as tools\n",
    "import sctoolbox.plotting as pl\n",
    "import sctoolbox.tools.qc_filter as qc\n",
    "\n",
    "import scanpy as sc\n",
    "import matplotlib.pyplot as plt\n",
    "import episcanpy as epi\n",
    "import numpy as np\n",
    "import pandas as pd\n",
    "import scrublet as scr\n",
    "\n",
    "utils.settings_from_config(\"config.yaml\", key=\"02\")"
   ]
  },
  {
   "cell_type": "markdown",
   "id": "7cbac54c",
   "metadata": {},
   "source": [
    "_____________"
   ]
  },
  {
   "cell_type": "markdown",
   "id": "07cefa40",
   "metadata": {},
   "source": [
    "## 3 - Load anndata\n",
    "Uses the anndata object written by the previous notebook."
   ]
  },
  {
   "cell_type": "code",
   "execution_count": null,
   "id": "b7cf8ea7",
   "metadata": {
    "editable": false,
    "run_control": {
     "marked": false
    }
   },
   "outputs": [],
   "source": [
    "adata = utils.load_h5ad(\"anndata_1.h5ad\")\n",
    "\n",
    "with pd.option_context(\"display.max.rows\", 5, \"display.max.columns\", None):\n",
    "    display(adata)\n",
    "    display(adata.obs)\n",
    "    display(adata.var)"
   ]
  },
  {
   "cell_type": "markdown",
   "id": "cc563c62",
   "metadata": {},
   "source": [
    "____________"
   ]
  },
  {
   "cell_type": "markdown",
   "id": "305a31f4",
   "metadata": {},
   "source": [
    "## 4 - QC and filtering\n",
    "<hr style=\"border:2px solid black\"> </hr>"
   ]
  },
  {
   "cell_type": "markdown",
   "id": "7167dd6f",
   "metadata": {},
   "source": [
    "<h1><center>⬐ Fill in input data here ⬎</center></h1>"
   ]
  },
  {
   "cell_type": "code",
   "execution_count": null,
   "id": "5285011f",
   "metadata": {
    "init_cell": true
   },
   "outputs": [],
   "source": [
    "%bgcolor PowderBlue\n",
    "\n",
    "# Set the column in adata.obs containing the biological condition to evaluate\n",
    "condition_column = \"sample\"\n",
    "\n",
    "# Absolute minimum number of features for pre-selection of cells before QC \n",
    "min_genes = 1\n",
    "\n",
    "# Choose whether to binarize the X matrix\n",
    "binarize_mtx = True  # True or False; convert matrix to binary\n",
    "\n",
    "# Optional: Plot STARsolo quality if a path is given\n",
    "quant_folder = \"\"\n",
    "\n",
    "#----------------------- Doublet removal ------------------------\n",
    "\n",
    "# Decide whether to remove doublets using scrublet (True) or to skip doublet calculation (False)\n",
    "filter_doublets = True  \n",
    "\n",
    "# Use native scrublet or the scanpy wrapper (scanpy: optimized for RNA)\n",
    "use_native_scrublet = True\n",
    "\n",
    "# Default threshold to apply doublet removal on\n",
    "doublet_threshold = 0.2\n",
    "\n",
    "# Apply doublet filtering on each condition separately\n",
    "use_condition_column = False\n",
    "\n",
    "# If latter is False choose another column  \n",
    "condition_doublet_removal = None\n",
    "\n",
    "# Available threads\n",
    "threads = 2"
   ]
  },
  {
   "cell_type": "markdown",
   "id": "16ccabdd",
   "metadata": {},
   "source": [
    "----------------------"
   ]
  },
  {
   "cell_type": "code",
   "execution_count": null,
   "id": "f9c90df2",
   "metadata": {
    "editable": false,
    "run_control": {
     "marked": false
    }
   },
   "outputs": [],
   "source": [
    "# Ensure that condition column is a category\n",
    "adata.obs[condition_column] = adata.obs[condition_column].astype(\"category\")"
   ]
  },
  {
   "cell_type": "markdown",
   "id": "681301d5",
   "metadata": {},
   "source": [
    "### 4.1 - Show STARsolo quality (optional)\n",
    "\n",
    "If the data was mapped using STARsolo, use the parameter to set the path to the STARsolo runs and plot quality measures across runs. The path must be a folder, e.g. \"path/to/starsolo_output\", which contains folders per condition e.g. \"cond1\", \"cond2\", etc."
   ]
  },
  {
   "cell_type": "code",
   "execution_count": null,
   "id": "e025f9da",
   "metadata": {
    "editable": false,
    "run_control": {
     "marked": false
    }
   },
   "outputs": [],
   "source": [
    "if quant_folder != \"\":\n",
    "    _ = pl.plot_starsolo_quality(quant_folder, save=\"starsolo_quality.pdf\")\n",
    "    _ = pl.plot_starsolo_UMI(quant_folder, ncol=3, save=\"starsolo_cell_selection.pdf\")"
   ]
  },
  {
   "cell_type": "markdown",
   "id": "30eeb32b",
   "metadata": {},
   "source": [
    "_______"
   ]
  },
  {
   "cell_type": "markdown",
   "id": "b81c2b44",
   "metadata": {},
   "source": [
    "### 4.2 - Remove empty cells and features"
   ]
  },
  {
   "cell_type": "code",
   "execution_count": null,
   "id": "bd563625",
   "metadata": {
    "editable": false,
    "run_control": {
     "marked": false
    }
   },
   "outputs": [],
   "source": [
    "print('original shape: ')\n",
    "print(adata.shape)\n",
    "print('Removing empty features and cells...')\n",
    "\n",
    "adata = adata[adata.X.sum(axis=1) > 0]\n",
    "adata = adata[:, adata.X.sum(axis=0) > 0]\n",
    "\n",
    "print('new shape:')\n",
    "print(adata.shape)"
   ]
  },
  {
   "cell_type": "markdown",
   "id": "d5616f22",
   "metadata": {},
   "source": [
    "________"
   ]
  },
  {
   "cell_type": "markdown",
   "id": "4d5044fe",
   "metadata": {},
   "source": [
    "### 4.3 - Binarize matrix"
   ]
  },
  {
   "cell_type": "code",
   "execution_count": null,
   "id": "7d0bf272",
   "metadata": {
    "editable": false,
    "run_control": {
     "marked": false
    }
   },
   "outputs": [],
   "source": [
    "# save raw matrix\n",
    "adata.layers[\"raw\"] = adata.X.copy()\n",
    "# binarize\n",
    "if binarize_mtx:\n",
    "    epi.pp.binarize(adata)"
   ]
  },
  {
   "cell_type": "markdown",
   "id": "ac673840",
   "metadata": {},
   "source": [
    "_______"
   ]
  },
  {
   "cell_type": "markdown",
   "id": "2e59c701",
   "metadata": {},
   "source": [
    "### 4.4 Calculate and remove doublets"
   ]
  },
  {
   "cell_type": "code",
   "execution_count": null,
   "id": "5bd623e5",
   "metadata": {
    "editable": false,
    "run_control": {
     "marked": false
    }
   },
   "outputs": [],
   "source": [
    " if filter_doublets:\n",
    "        \n",
    "    if use_condition_column:\n",
    "        condition_doublet_removal = condition_column\n",
    "    \n",
    "    if use_native_scrublet:\n",
    "        # TODO: Implement Wrapper function for sctoolbox\n",
    "        adata.obs['doublet_score'] = float('NaN')\n",
    "        adata.obs['predicted_doublet'] = None\n",
    "\n",
    "        sample_dict = {}\n",
    "        for sample in adata.obs[condition_column].unique():\n",
    "            print('Run scrublet for condition: ' + sample)\n",
    "            X = adata.X[adata.obs[condition_column] == sample]\n",
    "            scrub = scr.Scrublet(X)\n",
    "            doublet_scores, predicted_doublets = scrub.scrub_doublets()\n",
    "            adata.obs.loc[adata.obs[condition_column]==sample, 'doublet_score'] = doublet_scores\n",
    "            adata.obs.loc[adata.obs[condition_column]==sample, 'predicted_doublet'] = predicted_doublets\n",
    "            \n",
    "        adata.obs['predicted_doublet'] = adata.obs['predicted_doublet'].astype(bool)\n",
    "        \n",
    "    else:\n",
    "        qc.estimate_doublets(adata, groupby=condition_doublet_removal, threads=threads, threshold=doublet_threshold)\n",
    "    \n",
    "    #Remove the duplicates from adata\n",
    "    tools.filter_cells(adata, \"predicted_doublet\", remove_bool=True)"
   ]
  },
  {
   "cell_type": "code",
   "execution_count": null,
   "id": "a866ebec",
   "metadata": {
    "editable": false,
    "run_control": {
     "marked": false
    }
   },
   "outputs": [],
   "source": [
    "# remove empty features\n",
    "adata = adata[adata.X.sum(axis=1) > 0]\n",
    "adata = adata[:, adata.X.sum(axis=0) > 0]"
   ]
  },
  {
   "cell_type": "markdown",
   "id": "ea4e79f9",
   "metadata": {},
   "source": [
    "______"
   ]
  },
  {
   "cell_type": "markdown",
   "id": "2f7b9a9e",
   "metadata": {},
   "source": [
    "### 4.6 - Cell filtering\n",
    "<hr style=\"border:1px solid black\"> </hr>"
   ]
  },
  {
   "cell_type": "code",
   "execution_count": null,
   "id": "eafd0635",
   "metadata": {
    "editable": false,
    "run_control": {
     "marked": false
    }
   },
   "outputs": [],
   "source": [
    "# Recalculate standard QC metrics (counts...)\n",
    "adata = tools.calculate_qc_metrics(adata, var_type='features')\n",
    "\n",
    "#Remove genes with 0 count\n",
    "zero_bool = adata.var[\"n_cells_by_counts\"] == 0\n",
    "adata = adata[:,~zero_bool]"
   ]
  },
  {
   "cell_type": "code",
   "execution_count": null,
   "id": "396b0706",
   "metadata": {
    "editable": false,
    "run_control": {
     "marked": false
    }
   },
   "outputs": [],
   "source": [
    "# available obs columns\n",
    "adata.obs.columns"
   ]
  },
  {
   "cell_type": "markdown",
   "id": "820559d4",
   "metadata": {},
   "source": [
    "<h1><center>⬐ Fill in input data here ⬎</center></h1>"
   ]
  },
  {
   "cell_type": "code",
   "execution_count": null,
   "id": "70fcf6fa",
   "metadata": {
    "init_cell": true
   },
   "outputs": [],
   "source": [
    "%bgcolor PowderBlue\n",
    "\n",
    "# Decide whether to estimate thresholds individual per condition (False) or globally (True)\n",
    "global_threshold = False\n",
    "\n",
    "## Set default filter thresholds\n",
    "\n",
    "# This will be applied to all samples - the thresholds can be changed manually when plotted \n",
    "use_default_thresholds = True  # set to False to ignore default_thresholds\n",
    "default_thresholds = {\n",
    "                      'n_features': {'min': 100, 'max': 5000},\n",
    "                      'fld_score_cwt': {'min': 0.01, 'max': 0.6}\n",
    "                      # add additional columns if needed\n",
    "                     }"
   ]
  },
  {
   "cell_type": "markdown",
   "id": "03688ee6",
   "metadata": {},
   "source": [
    "__________"
   ]
  },
  {
   "cell_type": "markdown",
   "id": "c0e4c081",
   "metadata": {},
   "source": [
    "#### 4.6.1 Adapt thresholds"
   ]
  },
  {
   "cell_type": "code",
   "execution_count": null,
   "id": "453736e3",
   "metadata": {
    "editable": false,
    "run_control": {
     "marked": false
    }
   },
   "outputs": [],
   "source": [
    "groupby = condition_column if global_threshold is False else None\n",
    "initial_thresholds = tools.get_thresholds_wrapper(adata, default_thresholds, \n",
    "                                                  only_automatic_thresholds=False, groupby=groupby)\n",
    "obs_columns = list(initial_thresholds.keys())\n",
    "tools.thresholds_as_table(initial_thresholds)"
   ]
  },
  {
   "cell_type": "code",
   "execution_count": null,
   "id": "217588bb",
   "metadata": {
    "editable": false,
    "run_control": {
     "marked": false
    }
   },
   "outputs": [],
   "source": [
    "%matplotlib widget\n",
    "\n",
    "#Plot violins and sliders\n",
    "obs_figure, obs_slider_dict = pl.quality_violin(adata, columns=obs_columns,\n",
    "                                                groupby=condition_column,\n",
    "                                                which=\"obs\",\n",
    "                                                thresholds=initial_thresholds,\n",
    "                                                global_threshold=global_threshold,\n",
    "                                                title=\"Cell quality control (before)\",\n",
    "                                                save=\"cell_filtering.png\")\n",
    "obs_figure"
   ]
  },
  {
   "cell_type": "markdown",
   "id": "2e002f23",
   "metadata": {},
   "source": [
    "#### 4.6.2 - Apply gene filtering"
   ]
  },
  {
   "cell_type": "code",
   "execution_count": null,
   "id": "87ffedc6",
   "metadata": {
    "editable": false,
    "run_control": {
     "marked": false
    }
   },
   "outputs": [],
   "source": [
    "# Get final thresholds\n",
    "final_thresholds = pl.get_slider_thresholds(obs_slider_dict)\n",
    "tools.thresholds_as_table(final_thresholds) # show thresholds"
   ]
  },
  {
   "cell_type": "code",
   "execution_count": null,
   "id": "044fa5cb",
   "metadata": {
    "editable": false,
    "run_control": {
     "marked": false
    }
   },
   "outputs": [],
   "source": [
    "# Show pairwise comparisons of column values w/ thresholds (mean values in case thresholds are grouped)\n",
    "%matplotlib inline\n",
    "plt.close()  # close previous figure\n",
    "if len(final_thresholds) > 1:\n",
    "    mean_thresholds = qc.get_mean_thresholds(final_thresholds)\n",
    "    _ = pl.pairwise_scatter(adata.obs, obs_columns, thresholds=mean_thresholds, save=\"cell_filtering_scatter.pdf\")"
   ]
  },
  {
   "cell_type": "code",
   "execution_count": null,
   "id": "7439a879",
   "metadata": {
    "editable": false,
    "run_control": {
     "marked": false
    }
   },
   "outputs": [],
   "source": [
    "tools.apply_qc_thresholds(adata, final_thresholds, groupby=groupby)\n",
    "\n",
    "# remove empty features after cell filtering\n",
    "adata = adata[:, adata.X.sum(axis=0) > 0]"
   ]
  },
  {
   "cell_type": "markdown",
   "id": "ea362bc6",
   "metadata": {},
   "source": [
    "#### 4.6.3 - Show data after filtering"
   ]
  },
  {
   "cell_type": "code",
   "execution_count": null,
   "id": "cb46aa75",
   "metadata": {
    "editable": false,
    "run_control": {
     "marked": false
    }
   },
   "outputs": [],
   "source": [
    "%matplotlib inline \n",
    "\n",
    "#Plot violins and sliders\n",
    "figure, slider_dict = pl.quality_violin(adata, columns=obs_columns,\n",
    "                                        groupby=condition_column,\n",
    "                                        which=\"obs\", ncols=3,\n",
    "                                        global_threshold = global_threshold,\n",
    "                                        title=\"Cell quality control (after)\",\n",
    "                                        save=\"cell_filtering_final.pdf\")\n",
    "figure "
   ]
  },
  {
   "cell_type": "markdown",
   "id": "e04587be",
   "metadata": {},
   "source": [
    "## 5 - Feature processing\n",
    "<hr style=\"border:2px solid black\"> </hr>"
   ]
  },
  {
   "cell_type": "markdown",
   "id": "1638be73",
   "metadata": {},
   "source": [
    "<h1><center>⬐ Fill in input data here ⬎</center></h1>"
   ]
  },
  {
   "cell_type": "code",
   "execution_count": null,
   "id": "e52f2381",
   "metadata": {
    "init_cell": true
   },
   "outputs": [],
   "source": [
    "%bgcolor PowderBlue\n",
    "\n",
    "# Removal of gene subsets\n",
    "filter_chrM = True  # True or False; filtering out chrM\n",
    "filter_xy = True    # True or False; filtering out chrX and chrY\n",
    "\n",
    "# Highly Variable Features options \n",
    "select_highly_variable = True\n",
    "min_cells = 5 # This one is mandatory\n",
    "max_cells = None"
   ]
  },
  {
   "cell_type": "markdown",
   "id": "6cfc08ea",
   "metadata": {},
   "source": [
    "__________"
   ]
  },
  {
   "cell_type": "markdown",
   "id": "9d46eb3c",
   "metadata": {},
   "source": [
    "### 5.1 - Filter additional marked features"
   ]
  },
  {
   "cell_type": "code",
   "execution_count": null,
   "id": "a417a16e",
   "metadata": {
    "editable": false,
    "run_control": {
     "marked": false
    }
   },
   "outputs": [],
   "source": [
    "if filter_chrM:\n",
    "    print(\"Removing chromosomal features...\")\n",
    "    non_m = [name for name in adata.var_names if not name.startswith('chrM')]  # remove chrM\n",
    "    adata = adata[:, non_m]\n",
    "    \n",
    "if filter_xy:\n",
    "    print(\"Removing gender related features...\")\n",
    "    non_xy = [name for name in adata.var_names if not name.startswith('chrY') | name.startswith('chrX')]\n",
    "    adata = adata[:, non_xy]"
   ]
  },
  {
   "cell_type": "markdown",
   "id": "e5e2824e",
   "metadata": {},
   "source": [
    "_________"
   ]
  },
  {
   "cell_type": "markdown",
   "id": "d767606e",
   "metadata": {},
   "source": [
    "### 5.2 - Select highly variable features"
   ]
  },
  {
   "cell_type": "code",
   "execution_count": null,
   "id": "013122ed",
   "metadata": {
    "editable": false,
    "run_control": {
     "marked": false
    }
   },
   "outputs": [],
   "source": [
    "# update number of cells per feature\n",
    "adata = tools.calculate_qc_metrics(adata, var_type='features')\n",
    "if select_highly_variable:\n",
    "    # get highly variable features\n",
    "    tools.get_variable_features(adata, max_cells, min_cells)\n",
    "    #Number of variable genes selected\n",
    "    adata.var[\"highly_variable\"].sum()\n",
    "    # plot HVF violin\n",
    "    pl.violin_HVF_distribution(adata)"
   ]
  },
  {
   "cell_type": "markdown",
   "id": "f5e6ac08",
   "metadata": {},
   "source": [
    "________"
   ]
  },
  {
   "cell_type": "markdown",
   "id": "9e8a51ce",
   "metadata": {},
   "source": [
    "## 6 - Save filtered adata\n",
    "<hr style=\"border:2px solid black\"> </hr>\n",
    "Store the final results"
   ]
  },
  {
   "cell_type": "code",
   "execution_count": null,
   "id": "8a3d4f95",
   "metadata": {
    "editable": false,
    "run_control": {
     "marked": false
    }
   },
   "outputs": [],
   "source": [
    "adata"
   ]
  },
  {
   "cell_type": "code",
   "execution_count": null,
   "id": "8120db57",
   "metadata": {
    "editable": false,
    "run_control": {
     "marked": false
    }
   },
   "outputs": [],
   "source": [
    "#Saving the data\n",
    "adata_output = \"anndata_2.h5ad\"\n",
    "utils.save_h5ad(adata, adata_output)"
   ]
  },
  {
   "cell_type": "code",
   "execution_count": null,
   "id": "1c24ffba",
   "metadata": {
    "editable": false,
    "run_control": {
     "marked": false
    }
   },
   "outputs": [],
   "source": [
    "sctoolbox.settings.close_logfile()"
   ]
  }
 ],
 "metadata": {
  "kernelspec": {
   "display_name": "sctoolbox",
   "language": "python",
   "name": "sctoolbox"
  },
  "language_info": {
   "codemirror_mode": {
    "name": "ipython",
    "version": 3
   },
   "file_extension": ".py",
   "mimetype": "text/x-python",
   "name": "python",
   "nbconvert_exporter": "python",
   "pygments_lexer": "ipython3",
   "version": "3.10.13"
  }
 },
 "nbformat": 4,
 "nbformat_minor": 5
}
