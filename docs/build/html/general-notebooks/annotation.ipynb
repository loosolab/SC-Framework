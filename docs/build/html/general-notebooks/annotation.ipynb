{
 "cells": [
  {
   "cell_type": "code",
   "execution_count": null,
   "id": "e388ba22",
   "metadata": {
    "editable": false,
    "hide_input": true,
    "init_cell": true
   },
   "outputs": [],
   "source": [
    "from sctoolbox.utilities import bgcolor\n",
    "from sctoolbox import settings"
   ]
  },
  {
   "cell_type": "markdown",
   "id": "0f123ffb",
   "metadata": {},
   "source": [
    "# Cell type annotation and marker list assembly\n",
    "<hr style=\"border:2px solid black\"> </hr>"
   ]
  },
  {
   "cell_type": "markdown",
   "id": "32f27ac3",
   "metadata": {},
   "source": [
    "## 1 - Description\n",
    "This Jupyter Notebook is designed for annotating cell types in clustered AnnData objects. It is divided into two main parts:\n",
    "\n",
    "- **Marker List Assembly**: This part is used when no existing marker lists are available. It enables users to assemble custom marker lists using the MarkerRepo.\n",
    "\n",
    "- **Annotation**: This section applies the created or provided marker lists to annotate cell types in AnnData objects.\n",
    "\n",
    "The parameters are organized in three tables:\n",
    "1. The first table contains basic parameters necessary for the annotation process.\n",
    "2. The second table lists parameters specific to the Marker List Assembly section.\n",
    "3. The third table lists parameters related to the Annotation section.\n",
    "\n",
    "For a basic analysis, the parameters in the first table should be sufficient. However, for more advanced fine-tuning and detailed control of the analysis, the parameters in the second and third tables become critical.\n",
    "\n",
    "\n",
    "## 1.1 - Parameter Overview\n",
    "\n",
    "### 1.1.1 - Essential input data\n",
    "\n",
    "| Parameter | Description | Options |\n",
    "|-----------|-------------|--------------|\n",
    "| `clustered_adata` | Name of the clustered AnnData file for use. | String |\n",
    "| `clustering_column` | `.obs` column used for cell type assignment. | `None` (select interactively) or String (e.g., `\"leiden\"`) |\n",
    "| `celltype_column_name` | Name for the column with the final cell type annotation. If `None`, keeps all annotation columns. | `None` or String (e.g., `\"pred_celltype\"`) |\n",
    "| `marker_lists` | Paths to marker lists. If `None`, assemble lists using MarkerRepo. | `None` or String or list of Strings (e.g., `\"/path/my_markers\"` or `[\"/heart_markers/markers\", \"/human/panglao\"]` |\n",
    "\n",
    "### 1.1.2 - Marker List Assembly: `wrap.create_multiple_marker_lists`\n",
    "\n",
    "| Parameter | Description | Options |\n",
    "|-----------|-------------|---------|\n",
    "| `organism` | Specifies the organism for marker list assembly. | `None` or String (e.g., `\"human\"`) |\n",
    "| `column_specific_terms` | Search terms for marker list assembly, targeting specific columns. | `None` or Dictionary (e.g., `{\"Source\": \"panglao.se\"}`) |\n",
    "| `cml_parameters` | Additional parameters for marker list assembly. One marker list is created per dictionary. | `None` or List of dictionaries (e.g., `[{\"style\":\"two_column\", \"file_name\":\"two_column\"}, {\"style\":\"score\", \"file_name\":\"score\"}]`|\n",
    "| `repo_path` | Path to MarkerRepo. | String |\n",
    "| `lists_path` | Path to a custom marker lists folder. If `None`, the lists folder of the `repo_path` will be used. | `None` or String (e.g., `\"/path/my_markers\"`) |\n",
    "| `style` | The style of the marker lists. Options include \"two_column\" and \"score\". | String |\n",
    "| `file_name` | The name of the exported marker lists. | `None` (enter interactively) or String |\n",
    "| `ensembl` | Use Ensembl IDs instead of gene symbols. | Boolean |\n",
    "| `force_homology` | Create marker lists via homology even if lists for the organism exist. | Boolean |\n",
    "| `show_lists` | Display the marker lists of the query. | Boolean |\n",
    "| `adata` | Add marker list IDs to the `.uns` table of an AnnData object, if provided. | `None` or AnnData |\n",
    "\n",
    "If `column_specific_terms` and `cml_parameters` are `None`, you can assemble marker lists interactively.\n",
    "\n",
    "The following columns are currently available for the MarkerRepo query: `\"ID\"`, `\"List name\"`, `\"Date\"`, `\"Source\"`, `\"Organism name\"`, `\"Taxonomy ID\"`, `\"Submitter name\"`, `\"Email\"`, `\"Tags\"`, `\"Genotype\"`, `\"Gender\"`, `\"Life stage\"`, `\"Tissue\"` and more.\n",
    "\n",
    "\n",
    "### 1.1.3 - Annotation Parameters: `wrap.run_annotation`\n",
    "\n",
    "| Parameter | Description | Options/Type |\n",
    "|-----------|-------------|--------------|\n",
    "| `adata` | The AnnData object to annotate. | AnnData object |\n",
    "| `marker_repo` | Use MarkerRepo for annotation. | Boolean |\n",
    "| `SCSA` | Use SCSA for annotation. | Boolean |\n",
    "| `marker_lists` | Paths to marker list files. | String or list of Strings (e.g., `\"/path/my_markers\"` or `[\"/heart_markers/markers\", \"/human/panglao\"]` |\n",
    "| `mr_obs` | `.obs` prefix for MarkerRepo annotation. | String (e.g., \"mr\") |\n",
    "| `scsa_obs` | `.obs` prefix for SCSA annotation. | String (e.g., \"scsa\") |\n",
    "| `rank_genes_column` | Column of `.uns` table with rank genes scores. If `None`, the ranking will be performed on the clustering_column. | `None` or String |\n",
    "| `clustering_column` | `.obs` column used for cell type assignment. | `None` (select interactively) or String (e.g., `\"leiden\"`) |\n",
    "| `reference_obs` | A reference annotation in `.obs` for comparison. | `None` or String |\n",
    "| `keep_all` | If True, keeps all annotation columns. | Boolean |\n",
    "| `verbose` | Enables printing of additional information. | Boolean |\n",
    "| `show_ct_tables` | Shows additional MarkerRepo annotation tables with the first five top-ranked cell types per cluster. | Boolean |\n",
    "| `show_plots` | Displays UMAP plots of the annotation, if available. | Boolean |\n",
    "| `show_comparison` | Displays all annotations in one table. | Boolean |\n",
    "| `ignore_overwrite` | Overwrites existing files without confirmation if True. | Boolean |\n",
    "| `celltype_column_name` | Name for the column with the final cell type annotation. If `None`, keeps all annotation columns. | `None` or String (e.g., `\"pred_celltype\"`) |\n",
    "\n",
    "For more information about MarkerRepo, click [here](https://gitlab.gwdg.de/loosolab/software/annotate_by_marker_and_features)."
   ]
  },
  {
   "cell_type": "markdown",
   "id": "5bd3d82a",
   "metadata": {},
   "source": [
    "--------------"
   ]
  },
  {
   "cell_type": "markdown",
   "id": "c33b11ce",
   "metadata": {},
   "source": [
    "## 2- Setup"
   ]
  },
  {
   "cell_type": "code",
   "execution_count": null,
   "id": "0f2d9d93",
   "metadata": {
    "editable": false,
    "hide_input": false
   },
   "outputs": [],
   "source": [
    "import sctoolbox.utilities as utils\n",
    "import pandas as pd\n",
    "pd.set_option('display.max_columns', None)  #no limit to the number of columns shown"
   ]
  },
  {
   "cell_type": "code",
   "execution_count": null,
   "id": "9489125c",
   "metadata": {
    "editable": false,
    "hide_input": false
   },
   "outputs": [],
   "source": [
    "try:\n",
    "    import markerrepo.wrappers as wrap\n",
    "    import markerrepo.marker_repo as mr\n",
    "except ModuleNotFoundError:\n",
    "    raise ModuleNotFoundError(\"Please install the latest MarkerRepo version.\")"
   ]
  },
  {
   "cell_type": "markdown",
   "id": "a0b462fb",
   "metadata": {},
   "source": [
    "<h1><center>⬐ Fill in input data here ⬎</center></h1>"
   ]
  },
  {
   "cell_type": "code",
   "execution_count": null,
   "id": "d14e02b0",
   "metadata": {
    "hide_input": false,
    "init_cell": true
   },
   "outputs": [],
   "source": [
    "%bgcolor PowderBlue\n",
    "\n",
    "# sctoolbox settings\n",
    "settings.adata_input_dir = \"../adatas/\"\n",
    "settings.adata_output_dir = \"../adatas/\"\n",
    "\n",
    "clustered_adata = \"anndata_4.h5ad\""
   ]
  },
  {
   "cell_type": "markdown",
   "id": "f4b227d5",
   "metadata": {},
   "source": [
    "___"
   ]
  },
  {
   "cell_type": "markdown",
   "id": "f51d3a6b",
   "metadata": {},
   "source": [
    "## 3 - Loading adata"
   ]
  },
  {
   "cell_type": "code",
   "execution_count": null,
   "id": "e099e3a4",
   "metadata": {
    "editable": false,
    "hide_input": false
   },
   "outputs": [],
   "source": [
    "adata = utils.load_h5ad(clustered_adata)"
   ]
  },
  {
   "cell_type": "code",
   "execution_count": null,
   "id": "0793596e",
   "metadata": {
    "editable": false,
    "hide_input": false
   },
   "outputs": [],
   "source": [
    "with pd.option_context(\"display.max.rows\", 5, \"display.max.columns\", None):\n",
    "    display(adata)\n",
    "    display(adata.obs)\n",
    "    display(adata.var)"
   ]
  },
  {
   "cell_type": "markdown",
   "id": "e6f53dad",
   "metadata": {},
   "source": [
    "___"
   ]
  },
  {
   "cell_type": "markdown",
   "id": "f53b01f3",
   "metadata": {},
   "source": [
    "## 4 - Essential Input"
   ]
  },
  {
   "cell_type": "markdown",
   "id": "234cd969",
   "metadata": {},
   "source": [
    "<h1><center>⬐ Fill in input data here ⬎</center></h1>"
   ]
  },
  {
   "cell_type": "code",
   "execution_count": null,
   "id": "1612d966",
   "metadata": {
    "hide_input": false,
    "init_cell": true
   },
   "outputs": [],
   "source": [
    "%bgcolor PowderBlue\n",
    "\n",
    "# Annotation settings\n",
    "clustering_column = \"leiden_0.1\"\n",
    "celltype_column_name = None\n",
    "marker_lists = None\n",
    "\n",
    "# Marker list assembly\n",
    "if not marker_lists:\n",
    "    organism = \"human\"\n",
    "    column_specific_terms = {\"Organism name\":organism, \"Source\":\"panglao\"}\n",
    "    \n",
    "    cml_parameters = [{\"file_name\":\"panglao_two_column\", \"style\":\"two_column\"}, \n",
    "                      {\"file_name\":\"panglao_score\", \"style\":\"score\"},\n",
    "                      {\"file_name\":\"tissues_two_column\", \"style\":\"two_column\", \n",
    "                       \"column_specific_terms\":{\"Tissue\":[\"skin\", \"blood\"]}}]\n",
    "    \n",
    "    repo_path = \"./test_data/marker_repo/\"\n",
    "    lists_path = \"./test_data/marker_repo/marker_lists/\""
   ]
  },
  {
   "cell_type": "markdown",
   "id": "e6f1b8d8",
   "metadata": {},
   "source": [
    "--------------"
   ]
  },
  {
   "cell_type": "markdown",
   "id": "f5113a12",
   "metadata": {},
   "source": [
    "## 5 - Assemble marker lists"
   ]
  },
  {
   "cell_type": "markdown",
   "id": "075575c5",
   "metadata": {},
   "source": [
    "The marker list paths are stored in the <b>marker_lists</b> variable. They work as input for the actual cell type annotation of the next cell."
   ]
  },
  {
   "cell_type": "code",
   "execution_count": null,
   "id": "5b4da604",
   "metadata": {
    "editable": false,
    "hide_input": false
   },
   "outputs": [],
   "source": [
    "if not marker_lists:\n",
    "    marker_lists = wrap.create_multiple_marker_lists(\n",
    "        cml_parameters=cml_parameters, \n",
    "        repo_path=repo_path, \n",
    "        lists_path=lists_path,\n",
    "        organism=organism, \n",
    "        ensembl=mr.check_ensembl(adata), \n",
    "        column_specific_terms=column_specific_terms, \n",
    "        show_lists=True\n",
    "    )"
   ]
  },
  {
   "cell_type": "markdown",
   "id": "10fe0c90",
   "metadata": {},
   "source": [
    "--------------"
   ]
  },
  {
   "cell_type": "markdown",
   "id": "74aa1db9",
   "metadata": {},
   "source": [
    "## 6 - Annotate adata\n",
    "<hr style=\"border:2px solid black\"> </hr>"
   ]
  },
  {
   "cell_type": "markdown",
   "id": "9a1b486e",
   "metadata": {},
   "source": [
    "<h1><center>⬐ Fill in input data here ⬎</center></h1>"
   ]
  },
  {
   "cell_type": "code",
   "execution_count": null,
   "id": "c60c7d22",
   "metadata": {
    "hide_input": false,
    "init_cell": true
   },
   "outputs": [],
   "source": [
    "%bgcolor PowderBlue\n",
    "\n",
    "marker_repo = True\n",
    "SCSA = True\n",
    "mr_obs = \"MR\"\n",
    "scsa_obs = \"SCSA\"\n",
    "rank_genes_column = None\n",
    "reference_obs = None \n",
    "show_comparison = True \n",
    "ignore_overwrite = True \n",
    "show_plots = True"
   ]
  },
  {
   "cell_type": "markdown",
   "id": "cb89835a",
   "metadata": {},
   "source": [
    "___"
   ]
  },
  {
   "cell_type": "code",
   "execution_count": null,
   "id": "1fd7660e",
   "metadata": {
    "editable": false,
    "hide_input": false
   },
   "outputs": [],
   "source": [
    "wrap.run_annotation(\n",
    "    adata, \n",
    "    marker_repo=marker_repo, \n",
    "    SCSA=SCSA, \n",
    "    marker_lists=marker_lists, \n",
    "    mr_obs=mr_obs, \n",
    "    scsa_obs=scsa_obs, \n",
    "    rank_genes_column=rank_genes_column, \n",
    "    clustering_column=clustering_column, \n",
    "    reference_obs=reference_obs, \n",
    "    show_comparison=show_comparison, \n",
    "    ignore_overwrite=ignore_overwrite, \n",
    "    show_plots=show_plots, \n",
    "    celltype_column_name=celltype_column_name\n",
    ")"
   ]
  },
  {
   "cell_type": "markdown",
   "id": "4b288700",
   "metadata": {},
   "source": [
    "--------------"
   ]
  },
  {
   "cell_type": "markdown",
   "id": "d3e686bd",
   "metadata": {},
   "source": [
    "### 6.1 - Show annotated .obs table"
   ]
  },
  {
   "cell_type": "code",
   "execution_count": null,
   "id": "f3e452b1",
   "metadata": {
    "editable": false,
    "hide_input": false
   },
   "outputs": [],
   "source": [
    "display(adata.obs)"
   ]
  },
  {
   "cell_type": "markdown",
   "id": "46678440",
   "metadata": {},
   "source": [
    "--------------"
   ]
  },
  {
   "cell_type": "markdown",
   "id": "f84f0579",
   "metadata": {},
   "source": [
    "## 7 - Save adata"
   ]
  },
  {
   "cell_type": "code",
   "execution_count": null,
   "id": "b684b120",
   "metadata": {
    "editable": false,
    "hide_input": false
   },
   "outputs": [],
   "source": [
    "utils.save_h5ad(adata, \"anndata_annotated.h5ad\")"
   ]
  }
 ],
 "metadata": {
  "kernelspec": {
   "display_name": "sctoolbox",
   "language": "python",
   "name": "sctoolbox"
  },
  "language_info": {
   "codemirror_mode": {
    "name": "ipython",
    "version": 3
   },
   "file_extension": ".py",
   "mimetype": "text/x-python",
   "name": "python",
   "nbconvert_exporter": "python",
   "pygments_lexer": "ipython3",
   "version": "3.10.14"
  }
 },
 "nbformat": 4,
 "nbformat_minor": 5
}
