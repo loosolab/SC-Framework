{
 "cells": [
  {
   "cell_type": "code",
   "execution_count": null,
   "metadata": {
    "editable": false,
    "hide_input": true,
    "init_cell": true
   },
   "outputs": [],
   "source": [
    "import sctoolbox\n",
    "from sctoolbox.utilities import bgcolor"
   ]
  },
  {
   "cell_type": "markdown",
   "metadata": {},
   "source": [
    "# 04 - Embedding and clustering\n",
    "<hr style=\"border:2px solid black\"> </hr>"
   ]
  },
  {
   "cell_type": "markdown",
   "metadata": {
    "ExecuteTime": {
     "end_time": "2024-04-03T11:42:38.889920Z",
     "start_time": "2024-04-03T11:42:38.885868Z"
    }
   },
   "source": [
    "## 1 - Description\n",
    "### 1.1 Embedding\n",
    "Embeddings are dimension reduction methods to transform high-dimensional data into lower-dimensional representations while preserving the inherent structure and relationships between individual cells.\n",
    "The sctoolbox supports the [Uniform Manifold Approximation and Projection (UMAP)](https://arxiv.org/abs/1802.03426) and the [t-distributed stochastic neighbor embedding (t-SNE)](https://www.jmlr.org/papers/volume9/vandermaaten08a/vandermaaten08a.pdf) methods for dimension reduction, with UMAP being set as the default value.\n",
    "To learn more about the differences between those methods and get more insight in the parameter selction have a look [here for umap](https://pair-code.github.io/understanding-umap/) and [here for t-SNE](https://distill.pub/2016/misread-tsne/?_ga=2.135835192.888864733.1531353600-1779571267.1531353600).\n",
    "### 1.2 Clustering\n",
    "Single cell clustering is used to group individual cells into clusters based on similarities in their gene expression. The clustering allows to identify distinct cell types and characterize cellular heterogeneity within a population.\n",
    "The sctoolbox supports the [leiden](https://www.nature.com/articles/s41598-019-41695-z) and the [louvain](https://iopscience.iop.org/article/10.1088/1742-5468/2008/10/P10008) clustering methods, with the leiden clustering algorithm being newer and recommended to use."
   ]
  },
  {
   "cell_type": "markdown",
   "metadata": {},
   "source": [
    "-----------"
   ]
  },
  {
   "cell_type": "markdown",
   "metadata": {},
   "source": [
    "## 2 - Setup"
   ]
  },
  {
   "cell_type": "code",
   "execution_count": null,
   "metadata": {
    "editable": false,
    "hide_input": false
   },
   "outputs": [],
   "source": [
    "import scanpy as sc\n",
    "import matplotlib.pyplot as plt\n",
    "import sctoolbox.utils as utils\n",
    "import sctoolbox.tools as tools\n",
    "import sctoolbox.plotting as pl\n",
    "import pandas as pd\n",
    "\n",
    "utils.settings_from_config(\"config.yaml\", key=\"04\")\n",
    "\n",
    "# Set additional options for figures\n",
    "sc.set_figure_params(vector_friendly=True, dpi_save=600, scanpy=False)"
   ]
  },
  {
   "cell_type": "markdown",
   "metadata": {},
   "source": [
    "-----------"
   ]
  },
  {
   "cell_type": "markdown",
   "metadata": {},
   "source": [
    "## 3 - Load anndata"
   ]
  },
  {
   "cell_type": "code",
   "execution_count": null,
   "metadata": {
    "editable": false,
    "hide_input": false
   },
   "outputs": [],
   "source": [
    "adata = utils.load_h5ad(\"anndata_3.h5ad\")\n",
    "\n",
    "with pd.option_context(\"display.max.rows\", 5, \"display.max.columns\", None):\n",
    "    display(adata)\n",
    "    display(adata.obs)\n",
    "    display(adata.var)"
   ]
  },
  {
   "cell_type": "markdown",
   "metadata": {},
   "source": [
    "------------"
   ]
  },
  {
   "cell_type": "markdown",
   "metadata": {},
   "source": [
    "## 4 - General input"
   ]
  },
  {
   "cell_type": "markdown",
   "metadata": {},
   "source": [
    "<h1><center>⬐ Fill in input data here ⬎</center></h1>"
   ]
  },
  {
   "cell_type": "code",
   "execution_count": null,
   "metadata": {
    "hide_input": false,
    "init_cell": true
   },
   "outputs": [],
   "source": [
    "%bgcolor PowderBlue\n",
    "\n",
    "#Column to show in UMAPs\n",
    "condition_column = \"sample\"\n",
    "\n",
    "#Number of threads to use for multiprocessing\n",
    "threads = 4\n",
    "\n",
    "# Search embedding parameters (or set parameters later)\n",
    "embedding = \"umap\"   #umap or tsne\n",
    "search_parameters = True\n",
    "dist_range = (0.1, 1, 0.2) # Set min_dist range for umap\n",
    "spread_range = (1.0, 2.0, 0.5) # Set spread range for umap\n",
    "n_components = 2 # Number of components for umap\n",
    "perplexity_range = (30, 60, 10)        # perplexity range for tsne\n",
    "learning_rate_range = (600, 1000, 200)   # learning_rate for tsne\n",
    "\n",
    "\n",
    "# Search different clustering resolutions\n",
    "search_clustering_parameters = True\n",
    "clustering_method = \"leiden\" #leiden/louvain"
   ]
  },
  {
   "cell_type": "markdown",
   "metadata": {},
   "source": [
    "_____________"
   ]
  },
  {
   "cell_type": "markdown",
   "metadata": {},
   "source": [
    "## 5 - Calculate UMAP/TSNE and find best setting"
   ]
  },
  {
   "cell_type": "markdown",
   "metadata": {},
   "source": [
    "- NOTE: min_dist: distances between points to make the plot looks more 'clustered'\n",
    "- NOTE: spread: The effective scale of embedded points value be de default is 1"
   ]
  },
  {
   "cell_type": "code",
   "execution_count": null,
   "metadata": {
    "editable": false,
    "hide_input": false
   },
   "outputs": [],
   "source": [
    "if search_parameters:\n",
    "    if embedding == \"umap\":\n",
    "        pl.search_umap_parameters(adata, \n",
    "                                  min_dist_range=dist_range,\n",
    "                                  spread_range=spread_range,\n",
    "                                  color=condition_column,\n",
    "                                  n_components=n_components,\n",
    "                                  threads=threads,\n",
    "                                  save=\"UMAP_parameter_search.pdf\")\n",
    "    elif embedding == \"tsne\":\n",
    "        pl.search_tsne_parameters(adata, \n",
    "                                  perplexity_range=perplexity_range,\n",
    "                                  learning_rate_range=learning_rate_range,\n",
    "                                  color=condition_column,\n",
    "                                  threads=threads,\n",
    "                                  save=\"TSNE_parameter_search.pdf\")"
   ]
  },
  {
   "cell_type": "markdown",
   "metadata": {},
   "source": [
    "<h1><center>⬐ Fill in input data here ⬎</center></h1>"
   ]
  },
  {
   "cell_type": "code",
   "execution_count": null,
   "metadata": {
    "hide_input": false,
    "init_cell": true
   },
   "outputs": [],
   "source": [
    "%bgcolor PowderBlue\n",
    "\n",
    "# Final choice of spread / dist for umap\n",
    "min_dist = 0.4\n",
    "spread = 2.5\n",
    "\n",
    "# Final choice of perplexity_range / perplexity_range for tsne\n",
    "perplexity = 50\n",
    "learning_rate = 800"
   ]
  },
  {
   "cell_type": "markdown",
   "metadata": {},
   "source": [
    "___"
   ]
  },
  {
   "cell_type": "code",
   "execution_count": null,
   "metadata": {
    "editable": false,
    "hide_input": false
   },
   "outputs": [],
   "source": [
    "# Calculate final embedding\n",
    "if embedding == \"umap\":\n",
    "    sc.tl.umap(adata, min_dist=min_dist, spread=spread, n_components=n_components)\n",
    "elif embedding == \"tsne\":\n",
    "    sc.tl.tsne(adata, perplexity=perplexity, learning_rate=learning_rate)"
   ]
  },
  {
   "cell_type": "markdown",
   "metadata": {},
   "source": [
    "___"
   ]
  },
  {
   "cell_type": "markdown",
   "metadata": {},
   "source": [
    "## 6 - Plot final embedding with quality measures"
   ]
  },
  {
   "cell_type": "code",
   "execution_count": null,
   "metadata": {
    "editable": false,
    "hide_input": false
   },
   "outputs": [],
   "source": [
    "# Adjust qc columns to show in plot\n",
    "qc_columns = [condition_column] + list(adata.uns[\"sctoolbox\"][\"obs_metrics\"])"
   ]
  },
  {
   "cell_type": "code",
   "execution_count": null,
   "metadata": {
    "editable": false,
    "hide_input": false
   },
   "outputs": [],
   "source": [
    "# Plot final umap/tsne with quality measures\n",
    "sc.pl.embedding(adata, basis=embedding, color=qc_columns, ncols=3, show=False)\n",
    "pl._save_figure(\"embedding_quality.pdf\")"
   ]
  },
  {
   "cell_type": "code",
   "execution_count": null,
   "metadata": {
    "editable": false,
    "hide_input": false
   },
   "outputs": [],
   "source": [
    "# Plot distribution of samples in embedding\n",
    "_ = pl.plot_group_embeddings(adata, groupby=condition_column, embedding=embedding,\n",
    "                             save=\"embedding_sample_distribution.pdf\")"
   ]
  },
  {
   "cell_type": "markdown",
   "metadata": {},
   "source": [
    "----------"
   ]
  },
  {
   "cell_type": "markdown",
   "metadata": {},
   "source": [
    "## 7 - Cell clustering\n",
    "<hr style=\"border:2px solid black\"> </hr>\n",
    "- NOTE: resolution: controls the coarseness of the clustering. Higher values lead to more clusters."
   ]
  },
  {
   "cell_type": "code",
   "execution_count": null,
   "metadata": {
    "editable": false,
    "hide_input": false
   },
   "outputs": [],
   "source": [
    "if search_clustering_parameters:\n",
    "    pl.search_clustering_parameters(adata, ncols=4, method=clustering_method, \n",
    "                                    embedding=embedding,\n",
    "                                    save=\"clustering_search.png\")"
   ]
  },
  {
   "cell_type": "markdown",
   "metadata": {},
   "source": [
    "<h1><center>⬐ Fill in input data here ⬎</center></h1>"
   ]
  },
  {
   "cell_type": "code",
   "execution_count": null,
   "metadata": {
    "hide_input": false,
    "init_cell": true
   },
   "outputs": [],
   "source": [
    "%bgcolor PowderBlue\n",
    "\n",
    "#Choose final resolution\n",
    "clustering_column = \"leiden_0.5\""
   ]
  },
  {
   "cell_type": "markdown",
   "metadata": {},
   "source": [
    "___"
   ]
  },
  {
   "cell_type": "markdown",
   "metadata": {},
   "source": [
    "### 7.1 - Reclustering (optional)"
   ]
  },
  {
   "cell_type": "markdown",
   "metadata": {},
   "source": [
    "Here you can use the `tools.recluster` function to iteratively adjust clustering. The two cells below are provided as a template for either *joining* clusters (first cell) or *splitting* clusters (second cell) __copy the cells as needed__. Fill in the list at the top of the respective cell to activate *joining* or *splitting*."
   ]
  },
  {
   "cell_type": "code",
   "execution_count": null,
   "metadata": {
    "hide_input": false,
    "init_cell": true
   },
   "outputs": [],
   "source": [
    "%bgcolor PowderBlue\n",
    "\n",
    "# combine multiple clusters into one\n",
    "# skipped when empty\n",
    "combine = [] # add cluster names\n",
    "\n",
    "if combine:\n",
    "    tools.recluster(adata=adata,\n",
    "                    column=clustering_column,\n",
    "                    clusters=combine,\n",
    "                    task=\"join\",\n",
    "                    embedding=embedding,\n",
    "                    key_added=\"recluster\"\n",
    "                   )\n",
    "\n",
    "    clustering_column = \"recluster\""
   ]
  },
  {
   "cell_type": "code",
   "execution_count": null,
   "metadata": {
    "hide_input": false,
    "init_cell": true
   },
   "outputs": [],
   "source": [
    "%bgcolor PowderBlue\n",
    "\n",
    "# split (recluster) one or more clusters\n",
    "# skipped when empty\n",
    "split = [] # add cluster names\n",
    "resolution=0.15 # 0-1, small values create less clusters\n",
    "\n",
    "if split:\n",
    "    tools.recluster(adata=adata, \n",
    "                    column=clustering_column,\n",
    "                    clusters=split,\n",
    "                    task=\"split\",\n",
    "                    resolution=resolution,\n",
    "                    embedding=embedding,\n",
    "                    key_added=\"recluster\"\n",
    "                   )\n",
    "    \n",
    "    clustering_column = \"recluster\""
   ]
  },
  {
   "cell_type": "code",
   "execution_count": null,
   "metadata": {
    "editable": false,
    "hide_input": false
   },
   "outputs": [],
   "source": [
    "# Create final clustering\n",
    "adata.obs[\"clustering\"] = utils.rename_categories(adata.obs[clustering_column])\n",
    "adata.uns[\"sctoolbox\"][\"obs_metrics\"] = list(adata.uns[\"sctoolbox\"][\"obs_metrics\"]) + [\"clustering\"]"
   ]
  },
  {
   "cell_type": "markdown",
   "metadata": {},
   "source": [
    "___"
   ]
  },
  {
   "cell_type": "markdown",
   "metadata": {},
   "source": [
    "### 7.2 - Final clustering of cells"
   ]
  },
  {
   "cell_type": "code",
   "execution_count": null,
   "metadata": {
    "editable": false,
    "hide_input": false
   },
   "outputs": [],
   "source": [
    "#Plot final leiden\n",
    "sc.pl.embedding(adata, basis=\"X_\" + embedding, color=[condition_column, \"clustering\"], show=False)\n",
    "pl._save_figure(\"embedding_clustering.pdf\")"
   ]
  },
  {
   "cell_type": "markdown",
   "metadata": {},
   "source": [
    "---------"
   ]
  },
  {
   "cell_type": "markdown",
   "metadata": {},
   "source": [
    "## 8 - Plot distribution of cells across clusters"
   ]
  },
  {
   "cell_type": "code",
   "execution_count": null,
   "metadata": {
    "editable": false,
    "hide_input": false
   },
   "outputs": [],
   "source": [
    "_ = pl.n_cells_barplot(adata, \"clustering\", groupby=condition_column, \n",
    "                       save=\"cell_distribution_barplot.pdf\")"
   ]
  },
  {
   "cell_type": "markdown",
   "metadata": {},
   "source": [
    "------"
   ]
  },
  {
   "cell_type": "markdown",
   "metadata": {},
   "source": [
    "## 9 - Generating 3D Object with UMAP coordinates in HTML"
   ]
  },
  {
   "cell_type": "markdown",
   "metadata": {},
   "source": [
    "<h1><center>⬐ Fill in input data here ⬎</center></h1>"
   ]
  },
  {
   "cell_type": "code",
   "execution_count": null,
   "metadata": {
    "hide_input": false,
    "init_cell": true
   },
   "outputs": [],
   "source": [
    "%bgcolor PowderBlue\n",
    "\n",
    "#plot 3D html for the \"clustering\" adata.obs, change to individual leiden or other columns if needed\n",
    "column_3d = \"clustering\""
   ]
  },
  {
   "cell_type": "markdown",
   "metadata": {},
   "source": [
    "___"
   ]
  },
  {
   "cell_type": "code",
   "execution_count": null,
   "metadata": {
    "editable": false,
    "hide_input": false
   },
   "outputs": [],
   "source": [
    "if embedding == \"umap\" and n_components > 2:\n",
    "    pl.plot_3D_UMAP(adata, column_3d, save=f\"umap_3d_{column_3d}\")\n",
    "    html_file = sctoolbox.settings.full_figure_prefix + f\"umap_3d_{column_3d}.html\"\n",
    "    \n",
    "    from IPython.display import IFrame\n",
    "    display(IFrame(src=html_file, width=800, height=400))"
   ]
  },
  {
   "cell_type": "markdown",
   "metadata": {},
   "source": [
    "---------"
   ]
  },
  {
   "cell_type": "markdown",
   "metadata": {
    "ExecuteTime": {
     "end_time": "2022-02-23T08:59:45.129236Z",
     "start_time": "2022-02-23T08:59:31.820370Z"
    }
   },
   "source": [
    "## 10 - Saving adata for next notebook"
   ]
  },
  {
   "cell_type": "code",
   "execution_count": null,
   "metadata": {
    "editable": false,
    "hide_input": false
   },
   "outputs": [],
   "source": [
    "utils.save_h5ad(adata, \"anndata_4.h5ad\")"
   ]
  },
  {
   "cell_type": "code",
   "execution_count": null,
   "metadata": {
    "editable": false,
    "hide_input": false
   },
   "outputs": [],
   "source": [
    "sctoolbox.settings.close_logfile()"
   ]
  }
 ],
 "metadata": {
  "kernelspec": {
   "display_name": "sctoolbox",
   "language": "python",
   "name": "sctoolbox"
  },
  "language_info": {
   "codemirror_mode": {
    "name": "ipython",
    "version": 3
   },
   "file_extension": ".py",
   "mimetype": "text/x-python",
   "name": "python",
   "nbconvert_exporter": "python",
   "pygments_lexer": "ipython3",
   "version": "3.10.14"
  }
 },
 "nbformat": 4,
 "nbformat_minor": 4
}
