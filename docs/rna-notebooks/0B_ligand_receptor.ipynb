{
 "cells": [
  {
   "cell_type": "code",
   "execution_count": null,
   "id": "7cfc7753",
   "metadata": {
    "editable": false,
    "hide_input": true,
    "init_cell": true
   },
   "outputs": [],
   "source": [
    "from sctoolbox.utilities import bgcolor"
   ]
  },
  {
   "cell_type": "markdown",
   "id": "e8f92cf5",
   "metadata": {
    "ExecuteTime": {
     "end_time": "2024-01-29T11:38:56.136472Z",
     "start_time": "2024-01-29T11:38:56.126793Z"
    }
   },
   "source": [
    "# 0B - Receptor-Ligand Analysis\n",
    "<hr style=\"border:2px solid black\"> </hr>"
   ]
  },
  {
   "cell_type": "markdown",
   "id": "6eb2f99c",
   "metadata": {},
   "source": [
    "## 1 - Description\n",
    "\n",
    "**Note: Requires notebook 04_clustering to be run prior to this notebook.**\n",
    "\n",
    "Receptor-ligand interactions play a crucial role in mediating cellular communication and signaling processes in biological systems. In the context of single-cell data analysis, studying receptor-ligand interactions provides insights into cell-cell communication networks and their impact on various cellular functions and behaviors.  \n",
    "This notebook provides the tools to investigate and visualize the ligand-receptor interactions between conditions and/or clusters."
   ]
  },
  {
   "cell_type": "markdown",
   "id": "25b04078",
   "metadata": {},
   "source": [
    "--------------"
   ]
  },
  {
   "cell_type": "markdown",
   "id": "0b949b6b",
   "metadata": {},
   "source": [
    "## 2 - Setup"
   ]
  },
  {
   "cell_type": "code",
   "execution_count": null,
   "id": "41a19f00",
   "metadata": {
    "editable": false,
    "hide_input": false
   },
   "outputs": [],
   "source": [
    "import scanpy\n",
    "import sctoolbox.receptor_ligand as rl\n",
    "import sctoolbox.utilities as utils\n",
    "import pandas as pd\n",
    "from sctoolbox import settings\n",
    "utils.settings_from_config(\"config.yaml\", key=\"0B\")"
   ]
  },
  {
   "cell_type": "markdown",
   "id": "1d47feee",
   "metadata": {},
   "source": [
    "--------------"
   ]
  },
  {
   "cell_type": "markdown",
   "id": "b1c7691c",
   "metadata": {},
   "source": [
    "## 3 - Load adata\n",
    "The dataset must be clustered for a receptor-ligand analysis."
   ]
  },
  {
   "cell_type": "markdown",
   "id": "8c8e401d",
   "metadata": {},
   "source": [
    "<h1><center>⬐ Fill in input data here ⬎</center></h1>"
   ]
  },
  {
   "cell_type": "code",
   "execution_count": null,
   "id": "dc918405",
   "metadata": {
    "hide_input": false,
    "init_cell": true
   },
   "outputs": [],
   "source": [
    "%bgcolor PowderBlue\n",
    "\n",
    "anndata_file = \"anndata_4.h5ad\""
   ]
  },
  {
   "cell_type": "markdown",
   "id": "3b42b796",
   "metadata": {},
   "source": [
    "___"
   ]
  },
  {
   "cell_type": "code",
   "execution_count": null,
   "id": "cd45e497",
   "metadata": {
    "editable": false,
    "hide_input": false
   },
   "outputs": [],
   "source": [
    "adata = utils.load_h5ad(anndata_file)\n",
    "\n",
    "with pd.option_context(\"display.max.rows\", 5, \"display.max.columns\", None):\n",
    "    display(adata)\n",
    "    display(adata.obs)\n",
    "    display(adata.var)"
   ]
  },
  {
   "cell_type": "markdown",
   "id": "e9aabcb7",
   "metadata": {},
   "source": [
    "--------------"
   ]
  },
  {
   "cell_type": "markdown",
   "id": "b713208e",
   "metadata": {},
   "source": [
    "## 4 - General input"
   ]
  },
  {
   "cell_type": "markdown",
   "id": "ad45b912",
   "metadata": {},
   "source": [
    "<h1><center>⬐ Fill in input data here ⬎</center></h1>"
   ]
  },
  {
   "cell_type": "code",
   "execution_count": null,
   "id": "6e324673",
   "metadata": {
    "hide_input": false,
    "init_cell": true
   },
   "outputs": [],
   "source": [
    "%bgcolor PowderBlue\n",
    "\n",
    "# Path to receptor ligand database\n",
    "db_path = f'http://tcm.zju.edu.cn/celltalkdb/download/processed_data/human_lr_pair.txt'\n",
    "ligand_column = 'ligand_gene_symbol'\n",
    "receptor_column = 'receptor_gene_symbol'\n",
    "\n",
    "# Comput interactions\n",
    "cluster_col = \"clustering\"\n",
    "normalize = 1000 # Correct clusters to given size.\n",
    "gene_col = None # Column that holds gene name /id. Set to None to use index\n",
    "overwrite = False # Overwrite existing interaction table\n",
    "\n",
    "# Plotting\n",
    "\n",
    "dpi = 100\n",
    "\n",
    "## Violin\n",
    "violin_min_perc = 0 # Minimum percentage of cells in a cluster that express the respective gene.\n",
    "violin_out_suffix = \"violin\" # Suffix of output file\n",
    "violin_figsize = (5, 30) # Figure size\n",
    "\n",
    "## Network\n",
    "net_min_perc = 0 # Minimum percentage of cells in a cluster that express the respective gene.\n",
    "net_interaction_score = 0 # Interaction score must be above this threshold for the interaction to be counted in the graph.\n",
    "net_interaction_perc = 90 # Select interaction scores above or equal to the given percentile. Will overwrite parameter interaction_score.\n",
    "net_out_suffix = \"network\" # Suffix of output file\n",
    "net_title = None # Plot title\n",
    "net_color_min = 0 # Min value for color range\n",
    "net_color_max = None # Max value for color range\n",
    "net_restrict_to = [] # Only show given clusters provided in list.\n",
    "net_show_count = True # Show the interaction count\n",
    "\n",
    "## Connection plot\n",
    "con_restrict_to = None # Restrict plot to given cluster names.\n",
    "con_figsize = (5, 10) # Figure size\n",
    "con_out_suffix=\"connectionPlot\" # Suffix of output file\n",
    "con_title = None # Plot title\n",
    "con_filter = con_filter = \"receptor_score > 0 & ligand_score > 0 & interaction_score > 0 & receptor_percent >= 50 & ligand_percent >= 50\" # Conditions to filter the interaction table\n",
    "con_lw_multiplier = 2 # Linewidth multiplier\n",
    "con_wspace = 0.4 # Width between plots\n",
    "con_lig_whitelist = None # List of ligand genes that should be exclusively shown.\n",
    "con_rec_whitelist = None # List of receptor genes that should be exclusively shown.\n",
    "\n",
    "## Filter for interaction table\n",
    "tab_min_perc = 0\n",
    "tab_interaction_score = 0\n",
    "tab_interaction_perc = 90\n",
    "tab_out_suffix = \"interaction_table\"\n",
    "group_a = None\n",
    "group_b = None"
   ]
  },
  {
   "cell_type": "markdown",
   "id": "2a862666",
   "metadata": {},
   "source": [
    "__Use `help(<function_name>)` for information on the parameters. E.g. `help(rl.download_db)`__"
   ]
  },
  {
   "cell_type": "markdown",
   "id": "8fad7331",
   "metadata": {},
   "source": [
    "_______"
   ]
  },
  {
   "cell_type": "markdown",
   "id": "8d234315",
   "metadata": {},
   "source": [
    "## 5 - Download receptor-ligand database\n",
    "Provide a path to a table with receptor-ligand interactions. Will be stored in the adata object (`adata.uns['receptor-ligand]['database']`)."
   ]
  },
  {
   "cell_type": "code",
   "execution_count": null,
   "id": "e16291e6",
   "metadata": {
    "editable": false,
    "hide_input": false
   },
   "outputs": [],
   "source": [
    "rl.download_db(adata=adata,\n",
    "               db_path=db_path,\n",
    "               ligand_column=ligand_column,\n",
    "               receptor_column=receptor_column,\n",
    "               inplace=True,\n",
    "               overwrite=False)"
   ]
  },
  {
   "cell_type": "markdown",
   "id": "ad8196ad",
   "metadata": {},
   "source": [
    "--------------"
   ]
  },
  {
   "cell_type": "markdown",
   "id": "ae0934e8",
   "metadata": {
    "code_folding": []
   },
   "source": [
    "## 6 - Compute interactions\n",
    "Create a table of receptor-ligand interactions between given groups. This table is used for plotting. Will be stored in the adata object (`adata.uns['receptor-ligand']['interactions']`)"
   ]
  },
  {
   "cell_type": "code",
   "execution_count": null,
   "id": "49132f76",
   "metadata": {
    "editable": false,
    "hide_input": false
   },
   "outputs": [],
   "source": [
    "rl.calculate_interaction_table(adata=adata,\n",
    "                               cluster_column=cluster_col,\n",
    "                               gene_index=gene_col,\n",
    "                               normalize=normalize,\n",
    "                               inplace=True,\n",
    "                               overwrite=overwrite)"
   ]
  },
  {
   "cell_type": "markdown",
   "id": "009f7c43",
   "metadata": {},
   "source": [
    "--------------"
   ]
  },
  {
   "cell_type": "markdown",
   "id": "6fcae646",
   "metadata": {},
   "source": [
    "## 7 - Plotting\n",
    "<hr style=\"border:2px solid black\"> </hr>"
   ]
  },
  {
   "cell_type": "markdown",
   "id": "9f075f5e",
   "metadata": {},
   "source": [
    "### 7.1 - Violin\n",
    "Show the distribution of interaction scores for all group combinations.\n",
    "\n",
    "Scores `> 0` can be interpreted as receptor-ligand interactions enriched for group combination.  \n",
    "Scores `< 0` can be interpreted as receptor-ligand interactions depleted for group combination."
   ]
  },
  {
   "cell_type": "code",
   "execution_count": null,
   "id": "35a60053",
   "metadata": {
    "editable": false,
    "hide_input": false
   },
   "outputs": [],
   "source": [
    "rl.interaction_violin_plot(adata,\n",
    "                           min_perc=violin_min_perc,\n",
    "                           save=f\"rl_{violin_out_suffix}.pdf\",\n",
    "                           figsize=violin_figsize,\n",
    "                           dpi=dpi)"
   ]
  },
  {
   "cell_type": "markdown",
   "id": "cf75cc26",
   "metadata": {},
   "source": [
    "__________"
   ]
  },
  {
   "cell_type": "markdown",
   "id": "cb6ca70d",
   "metadata": {},
   "source": [
    "### 7.2 - Network\n",
    "Show a network graph of number of interactions between groups."
   ]
  },
  {
   "cell_type": "code",
   "execution_count": null,
   "id": "fea164b4",
   "metadata": {
    "editable": false,
    "hide_input": false
   },
   "outputs": [],
   "source": [
    "rl.hairball(adata,\n",
    "            min_perc=net_min_perc,\n",
    "            interaction_score=net_interaction_score,\n",
    "            interaction_perc=net_interaction_perc,\n",
    "            save=f\"rl_{net_out_suffix}.pdf\",\n",
    "            title=net_title,\n",
    "            color_min=net_color_min,\n",
    "            color_max=net_color_max,\n",
    "            restrict_to=net_restrict_to,\n",
    "            show_count=net_show_count\n",
    "           )"
   ]
  },
  {
   "cell_type": "markdown",
   "id": "7b8a3129",
   "metadata": {},
   "source": [
    "__________"
   ]
  },
  {
   "cell_type": "markdown",
   "id": "fbc63b48",
   "metadata": {},
   "source": [
    "### 7.3 - Receptor-ligand connections\n",
    "Show a detailed view on receptor-ligand pairs and their strength between groups.\n",
    "\n",
    "- __receptor-/ ligand score__: Gene enriched (`> 0`) or depleted (`< 0`) for specific group.\n",
    "- __receptor-/ ligand percent__: Percent of cells in a group expressing gene.\n",
    "- __interaction score__: Receptor-ligand pair enriched (`> 0`) or depleted (`< 0`) between groups."
   ]
  },
  {
   "cell_type": "code",
   "execution_count": null,
   "id": "6305aa84",
   "metadata": {
    "editable": false,
    "hide_input": false
   },
   "outputs": [],
   "source": [
    "rl.connectionPlot(adata=adata, \n",
    "                  restrict_to=con_restrict_to,\n",
    "                  figsize=con_figsize,\n",
    "                  dpi=dpi,\n",
    "                  connection_alpha=\"interaction_score\",\n",
    "                  save=f\"rl_{con_out_suffix}.pdf\",\n",
    "                  title=con_title,\n",
    "                  receptor_cluster_col=\"receptor_cluster\",\n",
    "                  receptor_col=\"receptor_gene\",\n",
    "                  receptor_hue=\"receptor_score\",\n",
    "                  receptor_size=\"receptor_percent\",\n",
    "                  receptor_genes=con_rec_whitelist,\n",
    "                  ligand_cluster_col=\"ligand_cluster\",\n",
    "                  ligand_col=\"ligand_gene\",\n",
    "                  ligand_hue=\"ligand_score\",\n",
    "                  ligand_size=\"ligand_percent\",\n",
    "                  ligand_genes=con_lig_whitelist,\n",
    "                  filter=con_filter,\n",
    "                  lw_multiplier=con_lw_multiplier,\n",
    "                  wspace=con_wspace,\n",
    "                  line_colors=\"rainbow\")"
   ]
  },
  {
   "cell_type": "markdown",
   "id": "07a4bb20",
   "metadata": {},
   "source": [
    "__________"
   ]
  },
  {
   "cell_type": "markdown",
   "id": "a97d61d0",
   "metadata": {},
   "source": [
    "## 8 - Get interaction table"
   ]
  },
  {
   "cell_type": "code",
   "execution_count": null,
   "id": "84500ec0",
   "metadata": {
    "editable": false,
    "hide_input": false
   },
   "outputs": [],
   "source": [
    "interaction_table = rl.get_interactions(adata,\n",
    "                                        min_perc = tab_min_perc,\n",
    "                                        interaction_score = tab_interaction_score,\n",
    "                                        interaction_perc = tab_interaction_perc,\n",
    "                                        group_a = group_a,\n",
    "                                        group_b = group_b,\n",
    "                                        save = f\"rl_{tab_out_suffix}.tsv\")"
   ]
  }
 ],
 "metadata": {
  "kernelspec": {
   "display_name": "sctoolbox",
   "language": "python",
   "name": "sctoolbox"
  },
  "language_info": {
   "codemirror_mode": {
    "name": "ipython",
    "version": 3
   },
   "file_extension": ".py",
   "mimetype": "text/x-python",
   "name": "python",
   "nbconvert_exporter": "python",
   "pygments_lexer": "ipython3",
   "version": "3.10.14"
  }
 },
 "nbformat": 4,
 "nbformat_minor": 5
}
