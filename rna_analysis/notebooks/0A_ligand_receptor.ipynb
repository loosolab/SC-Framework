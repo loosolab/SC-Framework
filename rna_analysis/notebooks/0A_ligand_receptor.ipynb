{
 "cells": [
  {
   "cell_type": "code",
   "execution_count": null,
   "id": "7cfc7753",
   "metadata": {
    "editable": false,
    "hide_input": true,
    "init_cell": true
   },
   "outputs": [],
   "source": [
    "from sctoolbox.utils.jupyter import bgcolor, _compare_version\n",
    "\n",
    "# change the background of input cells\n",
    "bgcolor(\"PowderBlue\", select=[2, 4, 6, 8, 10, 13, 15, 17])\n",
    "\n",
    "nb_name = \"0A_ligand_receptor.ipynb\"\n",
    "\n",
    "_compare_version(nb_name)"
   ]
  },
  {
   "cell_type": "markdown",
   "id": "e8f92cf5",
   "metadata": {
    "ExecuteTime": {
     "end_time": "2024-01-29T11:38:56.136472Z",
     "start_time": "2024-01-29T11:38:56.126793Z"
    }
   },
   "source": [
    "# 0A - Receptor-Ligand Analysis\n",
    "<hr style=\"border:2px solid black\"> </hr>"
   ]
  },
  {
   "cell_type": "markdown",
   "id": "6eb2f99c",
   "metadata": {},
   "source": [
    "## 1 - Description\n",
    "\n",
    "**Requires an anndata object with precomputed clusters. Clusters can be generated with the clustering notebook (`rna_analysis/notebooks/04_clustering.ipynb`).**\n",
    "\n",
    "Receptor-ligand interactions play a crucial role in mediating cellular communication and signaling processes in biological systems. In the context of single-cell data analysis, studying receptor-ligand interactions provides insights into cell-cell communication networks and their impact on various cellular functions and behaviors.  \n",
    "This notebook provides the tools to investigate and visualize the ligand-receptor interactions between conditions and/or clusters."
   ]
  },
  {
   "cell_type": "markdown",
   "id": "25b04078",
   "metadata": {},
   "source": [
    "--------------"
   ]
  },
  {
   "cell_type": "markdown",
   "id": "0b949b6b",
   "metadata": {},
   "source": [
    "## 2 - Setup"
   ]
  },
  {
   "cell_type": "code",
   "execution_count": null,
   "id": "41a19f00",
   "metadata": {
    "editable": false,
    "hide_input": false
   },
   "outputs": [],
   "source": [
    "import sctoolbox.tools.receptor_ligand as rl\n",
    "import sctoolbox.utils as utils\n",
    "import pandas as pd\n",
    "from sctoolbox import settings\n",
    "settings.settings_from_config(\"config.yaml\", key=\"0A\")"
   ]
  },
  {
   "cell_type": "markdown",
   "id": "1d47feee",
   "metadata": {},
   "source": [
    "--------------"
   ]
  },
  {
   "cell_type": "markdown",
   "id": "b1c7691c",
   "metadata": {},
   "source": [
    "## 3 - Load adata"
   ]
  },
  {
   "cell_type": "markdown",
   "id": "8c8e401d",
   "metadata": {},
   "source": [
    "<h1><center>⬐ Fill in input data here ⬎</center></h1>"
   ]
  },
  {
   "cell_type": "code",
   "execution_count": null,
   "id": "dc918405",
   "metadata": {
    "hide_input": false
   },
   "outputs": [],
   "source": [
    "anndata_file = \"anndata_4.h5ad\""
   ]
  },
  {
   "cell_type": "markdown",
   "id": "3b42b796",
   "metadata": {},
   "source": [
    "___"
   ]
  },
  {
   "cell_type": "code",
   "execution_count": null,
   "id": "cd45e497",
   "metadata": {
    "editable": false,
    "hide_input": false
   },
   "outputs": [],
   "source": [
    "adata = utils.adata.load_h5ad(anndata_file)\n",
    "\n",
    "with pd.option_context(\"display.max.rows\", 5, \"display.max.columns\", None):\n",
    "    display(adata)\n",
    "    display(adata.obs)\n",
    "    display(adata.var)"
   ]
  },
  {
   "cell_type": "markdown",
   "id": "e9aabcb7",
   "metadata": {},
   "source": [
    "--------------"
   ]
  },
  {
   "cell_type": "markdown",
   "id": "8d234315",
   "metadata": {},
   "source": [
    "## 4 - Download receptor-ligand database\n",
    "\n",
    "Supply a receptor-ligand database. This can be done in two ways:\n",
    "\n",
    "1. Provide the name of a recognized [LIANA resource](https://liana-py.readthedocs.io/en/latest/notebooks/prior_knowledge.html#Ligand-Receptor-Interactions).\n",
    "\n",
    "2. Provide a path or link to a table that consists of at least two columns - one for the receptors and one for the    ligands. Each row of this table must correspond to a unique interaction, e.g. `http://tcm.zju.edu.cn/celltalkdb/download/processed_data/human_lr_pair.txt`\n",
    "\n",
    "The databse will be stored in the adata object (`adata.uns['receptor-ligand]['database']`)."
   ]
  },
  {
   "cell_type": "markdown",
   "id": "dc8f1f0f",
   "metadata": {},
   "source": [
    "<h1><center>⬐ Fill in input data here ⬎</center></h1>"
   ]
  },
  {
   "cell_type": "code",
   "execution_count": null,
   "id": "0506290e",
   "metadata": {
    "hide_input": false
   },
   "outputs": [],
   "source": [
    "# Either a path/link to a table or the name of a LIANA resource\n",
    "db_path = 'consensus'\n",
    "\n",
    "ligand_column = 'ligand'\n",
    "receptor_column = 'receptor'"
   ]
  },
  {
   "cell_type": "markdown",
   "id": "025da530",
   "metadata": {},
   "source": [
    "_______"
   ]
  },
  {
   "cell_type": "code",
   "execution_count": null,
   "id": "e16291e6",
   "metadata": {
    "editable": false,
    "hide_input": false
   },
   "outputs": [],
   "source": [
    "rl.download_db(adata=adata,\n",
    "               db_path=db_path,\n",
    "               ligand_column=ligand_column,\n",
    "               receptor_column=receptor_column,\n",
    "               inplace=True,\n",
    "               overwrite=False)"
   ]
  },
  {
   "cell_type": "markdown",
   "id": "ad8196ad",
   "metadata": {},
   "source": [
    "--------------"
   ]
  },
  {
   "cell_type": "markdown",
   "id": "ae0934e8",
   "metadata": {
    "code_folding": []
   },
   "source": [
    "## 5 - Compute interactions\n",
    "Calculate a table of receptor-ligand interactions between given groups using the previously downloaded database. The resulting table is used to generate the plots in the next steps.\n",
    "The resulting table contains:\n",
    "- __receptor-/ ligand score__: Gene enriched (`> 0`) or depleted (`< 0`) for specific group.\n",
    "- __receptor-/ ligand percent__: Percent of cells in a group expressing gene.\n",
    "- __interaction score__: Receptor-ligand pair enriched (`> 0`) or depleted (`< 0`) between groups.\n",
    "\n",
    "The interaction score is calculated by adding the receptor score to the ligand score with each score being multiplied by the respective cluster proportion to correct for cluster size:\n",
    "\n",
    "$$\\text{interaction_score} = score_{receptor} \\times proportion_{\\text{receptor cluster}} + score_{ligand} \\times proportion_{\\text{ligand cluster}} $$\n",
    "\n",
    "The result table is stored in the adata object (`adata.uns['receptor-ligand']['interactions']`)"
   ]
  },
  {
   "cell_type": "markdown",
   "id": "4f490471",
   "metadata": {},
   "source": [
    "<h1><center>⬐ Fill in input data here ⬎</center></h1>"
   ]
  },
  {
   "cell_type": "code",
   "execution_count": null,
   "id": "2a6a420e",
   "metadata": {
    "hide_input": false
   },
   "outputs": [],
   "source": [
    "# Comput interactions\n",
    "cluster_col = \"clustering\"  # Name of the cluster column in adata.obs.\n",
    "normalize = 1000  # Correct clusters to given size\n",
    "gene_col = None  # Column in adata.var that holds gene symbols/ ids. Set to None to use index\n",
    "overwrite = False  # Overwrite existing interaction table"
   ]
  },
  {
   "cell_type": "markdown",
   "id": "7d0a5aea",
   "metadata": {},
   "source": [
    "_______"
   ]
  },
  {
   "cell_type": "code",
   "execution_count": null,
   "id": "49132f76",
   "metadata": {
    "editable": false,
    "hide_input": false
   },
   "outputs": [],
   "source": [
    "rl.calculate_interaction_table(adata=adata,\n",
    "                               cluster_column=cluster_col,\n",
    "                               gene_index=gene_col,\n",
    "                               normalize=normalize,\n",
    "                               inplace=True,\n",
    "                               overwrite=overwrite)"
   ]
  },
  {
   "cell_type": "markdown",
   "id": "009f7c43",
   "metadata": {},
   "source": [
    "--------------"
   ]
  },
  {
   "cell_type": "markdown",
   "id": "6fcae646",
   "metadata": {},
   "source": [
    "## 6 - Plotting\n",
    "<hr style=\"border:2px solid black\"> </hr>"
   ]
  },
  {
   "cell_type": "markdown",
   "id": "9f075f5e",
   "metadata": {},
   "source": [
    "### 6.1 - Violin\n",
    "Show the distribution of interaction scores for all group combinations.\n",
    "\n",
    "Scores `> 0` can be interpreted as receptor-ligand interactions enriched for group combination.  \n",
    "Scores `< 0` can be interpreted as receptor-ligand interactions depleted for group combination."
   ]
  },
  {
   "cell_type": "markdown",
   "id": "321cf3e0",
   "metadata": {},
   "source": [
    "<h1><center>⬐ Fill in input data here ⬎</center></h1>"
   ]
  },
  {
   "cell_type": "code",
   "execution_count": null,
   "id": "3be5e9c1",
   "metadata": {
    "hide_input": false
   },
   "outputs": [],
   "source": [
    "# Violin plotting\n",
    "\n",
    "dpi = 100  # The resolution of the figure in dots-per-inch\n",
    "violin_min_perc = 0  # Minimum percentage of cells in a cluster that express the respective gene.\n",
    "violin_out_suffix = \"violin\"  # Suffix of output file\n",
    "violin_figsize = (5, 30)  # Figure size"
   ]
  },
  {
   "cell_type": "markdown",
   "id": "eb5803b3",
   "metadata": {},
   "source": [
    "_______"
   ]
  },
  {
   "cell_type": "code",
   "execution_count": null,
   "id": "35a60053",
   "metadata": {
    "editable": false,
    "hide_input": false
   },
   "outputs": [],
   "source": [
    "_ = rl.interaction_violin_plot(\n",
    "    adata,\n",
    "    min_perc=violin_min_perc,\n",
    "    save=f\"rl_{violin_out_suffix}.pdf\",\n",
    "    figsize=violin_figsize,\n",
    "    dpi=dpi\n",
    ")"
   ]
  },
  {
   "cell_type": "markdown",
   "id": "cf75cc26",
   "metadata": {},
   "source": [
    "__________"
   ]
  },
  {
   "cell_type": "markdown",
   "id": "cb6ca70d",
   "metadata": {},
   "source": [
    "### 6.2 - Network\n",
    "Show a network graph of number of interactions between groups.\n",
    "Provided are two plots showing the interactions between groups:\n",
    "1. Hairball plot: A simple network plot with the groups shown as nodes and the edges corresponding to the interactions between the groups.\n",
    "2. Cyclone plot: A more stylized cicular plot with each segment represents one group and each edge also corresponding to the interactions between the groups. In addition to the network plot the cyclone plot can also show the top X receptors and ligands of each segment and is able to show the direction of the interactions (ligand -> receptor)"
   ]
  },
  {
   "cell_type": "markdown",
   "id": "94510eb5",
   "metadata": {},
   "source": [
    "<h1><center>⬐ Fill in input data here ⬎</center></h1>"
   ]
  },
  {
   "cell_type": "code",
   "execution_count": null,
   "id": "6316b139",
   "metadata": {
    "hide_input": false
   },
   "outputs": [],
   "source": [
    "# Network plotting\n",
    "\n",
    "net_min_perc = 0  # Minimum percentage of cells in a cluster that express the respective gene.\n",
    "net_interaction_score = 0  # Interaction score must be above this threshold for the interaction to be counted in the graph.\n",
    "net_interaction_perc = None  # Select interaction scores above or equal to the given percentile. Will overwrite parameter interaction_score.\n",
    "net_out_suffix = \"network\"  # Suffix of output file\n",
    "net_title = None  # Plot title\n",
    "net_color_min = 0  # Min value for color range\n",
    "net_color_max = None  # Max value for color range\n",
    "\n",
    "# hairball specific parameters\n",
    "net_restrict_to = []  # Only show given clusters provided in list.\n",
    "net_show_count = True  # Show the interaction count\n",
    "\n",
    "# cyclone specific parameters\n",
    "net_directional = False  # Show the direction of the interactions (ligand -> receptor)\n",
    "net_sector_size_is_cluster_size = False  # Sector width is based on number of cells\n",
    "net_show_genes = True  # Show the top receptor & ligand genes for each cluster\n",
    "net_gene_amount = 5  # The amount of top receptor & ligand genes that are shown for each cluster"
   ]
  },
  {
   "cell_type": "markdown",
   "id": "7f2b2cc6",
   "metadata": {},
   "source": [
    "_______"
   ]
  },
  {
   "cell_type": "code",
   "execution_count": null,
   "id": "fea164b4",
   "metadata": {
    "editable": false,
    "hide_input": false
   },
   "outputs": [],
   "source": [
    "_ = rl.hairball(\n",
    "    adata,\n",
    "    min_perc=net_min_perc,\n",
    "    interaction_score=net_interaction_score,\n",
    "    interaction_perc=net_interaction_perc,\n",
    "    save=f\"rl_hairball_{net_out_suffix}.pdf\",\n",
    "    title=net_title,\n",
    "    color_min=net_color_min,\n",
    "    color_max=net_color_max,\n",
    "    restrict_to=net_restrict_to,\n",
    "    show_count=net_show_count\n",
    ")"
   ]
  },
  {
   "cell_type": "code",
   "execution_count": null,
   "id": "91ef7512",
   "metadata": {
    "editable": false
   },
   "outputs": [],
   "source": [
    "_ = rl.cyclone(\n",
    "    adata=adata,\n",
    "    min_perc=net_min_perc,\n",
    "    interaction_score=net_interaction_score,\n",
    "    interaction_perc=net_interaction_perc,\n",
    "    save=f\"rl_cyclone_{net_out_suffix}.pdf\",\n",
    "    color_min=net_color_min,\n",
    "    color_max=net_color_max,\n",
    "    title=net_title,\n",
    "    directional=net_directional,\n",
    "    sector_size_is_cluster_size=net_sector_size_is_cluster_size,\n",
    "    show_genes=net_show_genes,\n",
    "    gene_amount=net_gene_amount\n",
    ")"
   ]
  },
  {
   "cell_type": "markdown",
   "id": "7b8a3129",
   "metadata": {},
   "source": [
    "__________"
   ]
  },
  {
   "cell_type": "markdown",
   "id": "fbc63b48",
   "metadata": {},
   "source": [
    "### 6.3 - Receptor-ligand connections\n",
    "Show a detailed view on receptor-ligand pairs and their strength between groups."
   ]
  },
  {
   "cell_type": "markdown",
   "id": "eee500cf",
   "metadata": {},
   "source": [
    "<h1><center>⬐ Fill in input data here ⬎</center></h1>"
   ]
  },
  {
   "cell_type": "code",
   "execution_count": null,
   "id": "71d5c566",
   "metadata": {
    "hide_input": false
   },
   "outputs": [],
   "source": [
    "## Connection plot\n",
    "dpi = 100  # The resolution of the figure in dots-per-inch\n",
    "con_restrict_to = None  # Restrict plot to given cluster names.\n",
    "con_figsize = (5, 10)  # Figure size\n",
    "con_out_suffix=\"connectionPlot\"  # Suffix of output file\n",
    "con_title = None  # Plot title\n",
    "con_filter = \"receptor_score > 0 & ligand_score > 0 & interaction_score > 0 & receptor_percent >= 50 & ligand_percent >= 50\"  # Conditions to filter the interaction table\n",
    "con_lw_multiplier = 2  # Linewidth multiplier\n",
    "con_wspace = 0.4  # Width between plots\n",
    "con_lig_whitelist = None  # List of ligand genes that should be exclusively shown.\n",
    "con_rec_whitelist = None  # List of receptor genes that should be exclusively shown.\n",
    "con_dot_size = (10, 100)  # Min and max size of the dots.\n",
    "con_line_colors = \"rainbow\" #  Color scheme used to color the connection lines.\n",
    "con_dot_colors = \"flare\"  # Color scheme used to color the dots.\n",
    "con_xlabel_order = None  # A list of all xlabels. Will order the xlabels in the given order. None = alphabetically\n",
    "con_alpha_range = None  # A min-max tuple (e.g. `(0, 10)`). Set the legend range of the lines alpha values. None = use data min and max."
   ]
  },
  {
   "cell_type": "markdown",
   "id": "ba861480",
   "metadata": {},
   "source": [
    "_______"
   ]
  },
  {
   "cell_type": "code",
   "execution_count": null,
   "id": "6305aa84",
   "metadata": {
    "editable": false,
    "hide_input": false
   },
   "outputs": [],
   "source": [
    "_ = rl.connectionPlot(\n",
    "    adata=adata,\n",
    "    restrict_to=con_restrict_to,\n",
    "    figsize=con_figsize,\n",
    "    dpi=dpi,\n",
    "    connection_alpha=\"interaction_score\",\n",
    "    save=f\"rl_{con_out_suffix}.pdf\",\n",
    "    title=con_title,\n",
    "    receptor_cluster_col=\"receptor_cluster\",\n",
    "    receptor_col=\"receptor_gene\",\n",
    "    receptor_hue=\"receptor_score\",\n",
    "    receptor_size=\"receptor_percent\",\n",
    "    receptor_genes=con_rec_whitelist,\n",
    "    ligand_cluster_col=\"ligand_cluster\",\n",
    "    ligand_col=\"ligand_gene\",\n",
    "    ligand_hue=\"ligand_score\",\n",
    "    ligand_size=\"ligand_percent\",\n",
    "    ligand_genes=con_lig_whitelist,\n",
    "    filter=con_filter,\n",
    "    lw_multiplier=con_lw_multiplier,\n",
    "    dot_size=con_dot_size,\n",
    "    wspace=con_wspace,\n",
    "    line_colors=con_line_colors,\n",
    "    dot_colors=con_dot_colors,\n",
    "    xlabel_order=con_xlabel_order,\n",
    "    alpha_range=con_alpha_range\n",
    ")"
   ]
  },
  {
   "cell_type": "markdown",
   "id": "07a4bb20",
   "metadata": {},
   "source": [
    "__________"
   ]
  },
  {
   "cell_type": "markdown",
   "id": "a97d61d0",
   "metadata": {},
   "source": [
    "## 7 - Get interaction table"
   ]
  },
  {
   "cell_type": "markdown",
   "id": "4d73e3df",
   "metadata": {},
   "source": [
    "Filter and write receptor ligand interactions table from the anndata object to a .tsv file. "
   ]
  },
  {
   "cell_type": "markdown",
   "id": "497ce59b",
   "metadata": {},
   "source": [
    "<h1><center>⬐ Fill in input data here ⬎</center></h1>"
   ]
  },
  {
   "cell_type": "code",
   "execution_count": null,
   "id": "9dc4bd5e",
   "metadata": {
    "hide_input": false
   },
   "outputs": [],
   "source": [
    "## Filter for interaction table\n",
    "tab_min_perc = 0  # Minimum percent of cells in a cluster that express the ligand/ receptor gene.\n",
    "tab_interaction_score = 0  # Filter receptor-ligand interactions below given score.\n",
    "tab_interaction_perc = 90  # Filter receptor-ligand interactions below the given percentile. Overwrite `interaction_score`.\n",
    "tab_out_suffix = \"interaction_table\"  # file name suffix\n",
    "group_a = None  # List of cluster names that must be present in any given receptor-ligand interaction.\n",
    "group_b = None  # List of cluster names that must be present in any given receptor-ligand interaction."
   ]
  },
  {
   "cell_type": "markdown",
   "id": "8f192515",
   "metadata": {},
   "source": [
    "_______"
   ]
  },
  {
   "cell_type": "code",
   "execution_count": null,
   "id": "84500ec0",
   "metadata": {
    "editable": false,
    "hide_input": false
   },
   "outputs": [],
   "source": [
    "interaction_table = rl.get_interactions(\n",
    "    adata,\n",
    "    min_perc = tab_min_perc,\n",
    "    interaction_score = tab_interaction_score,\n",
    "    interaction_perc = tab_interaction_perc,\n",
    "    group_a = group_a,\n",
    "    group_b = group_b,\n",
    "    save = f\"rl_{tab_out_suffix}.tsv\"\n",
    ")"
   ]
  }
 ],
 "metadata": {
  "kernelspec": {
   "display_name": "sctoolbox",
   "language": "python",
   "name": "sctoolbox"
  },
  "language_info": {
   "codemirror_mode": {
    "name": "ipython",
    "version": 3
   },
   "file_extension": ".py",
   "mimetype": "text/x-python",
   "name": "python",
   "nbconvert_exporter": "python",
   "pygments_lexer": "ipython3",
   "version": "3.12.6"
  },
  "sc_framework": {
   "version": "0.12.0"
  }
 },
 "nbformat": 4,
 "nbformat_minor": 5
}
