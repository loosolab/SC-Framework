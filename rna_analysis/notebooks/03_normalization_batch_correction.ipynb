{
 "cells": [
  {
   "cell_type": "code",
   "execution_count": null,
   "metadata": {
    "editable": false,
    "hide_input": true,
    "init_cell": true
   },
   "outputs": [],
   "source": [
    "from sctoolbox.utils.jupyter import bgcolor, _compare_version\n",
    "\n",
    "# change the background of input cells\n",
    "bgcolor(\"PowderBlue\", select=[3, 6, 10, 15, 19, 22, 25, 27, 31, 35])\n",
    "\n",
    "nb_name = \"03_normalization_batch_correction.ipynb\"\n",
    "\n",
    "_compare_version(nb_name)"
   ]
  },
  {
   "cell_type": "markdown",
   "metadata": {},
   "source": [
    "# 03 - Normalization and Batch effect correction\n",
    "<hr style=\"border:2px solid black\"> </hr>"
   ]
  },
  {
   "cell_type": "markdown",
   "metadata": {},
   "source": [
    "## 1 - Description\n",
    "\n",
    "Similar to quality control and filtering this step is aimed to prepare the data to facilitate better results in the following analysis steps. However, with normalization and batch effect correction the aim is to refine the data points in a way that\n",
    "\n",
    "1. comparability between e.g. samples is enhanced\n",
    "2. the influence of outliers is mitigated\n",
    "3. variances introduced by technical or otherwise unwanted sources are omitted from the dataset.\n",
    "\n",
    "Since this reduces the overall noise, the embedding and clustering steps in particular benefit from these adjustments."
   ]
  },
  {
   "cell_type": "markdown",
   "metadata": {},
   "source": [
    "___________"
   ]
  },
  {
   "cell_type": "markdown",
   "metadata": {},
   "source": [
    "## 2 - Setup"
   ]
  },
  {
   "cell_type": "code",
   "execution_count": null,
   "metadata": {
    "editable": false,
    "hide_input": false
   },
   "outputs": [],
   "source": [
    "import pandas as pd\n",
    "import scanpy as sc\n",
    "\n",
    "import sctoolbox\n",
    "import sctoolbox.utils as utils\n",
    "import sctoolbox.tools as tools\n",
    "import sctoolbox.plotting as pl\n",
    "\n",
    "sctoolbox.settings.settings_from_config(\"config.yaml\", key=\"03\")\n",
    "\n",
    "# Set additional options for figures\n",
    "sc.set_figure_params(vector_friendly=True, dpi_save=600, scanpy=False)"
   ]
  },
  {
   "cell_type": "markdown",
   "metadata": {},
   "source": [
    "___________"
   ]
  },
  {
   "cell_type": "markdown",
   "metadata": {},
   "source": [
    "## 3 - Load anndata\n",
    "Loads the anndata.h5ad from the last notebook and provides a basic overview."
   ]
  },
  {
   "cell_type": "code",
   "execution_count": null,
   "metadata": {
    "editable": false,
    "hide_input": false
   },
   "outputs": [],
   "source": [
    "adata = utils.adata.load_h5ad(\"anndata_2.h5ad\")\n",
    "\n",
    "with pd.option_context(\"display.max.rows\", 5, \"display.max.columns\", None):\n",
    "    display(adata)\n",
    "    display(adata.obs)\n",
    "    display(adata.var)"
   ]
  },
  {
   "cell_type": "markdown",
   "metadata": {},
   "source": [
    "___________"
   ]
  },
  {
   "cell_type": "markdown",
   "metadata": {},
   "source": [
    "## 4 - General input\n",
    "<hr style=\"border:2px solid black\"> </hr>\n",
    "\n",
    "### 4.1 - Parameter Overview\n",
    "\n",
    "| Parameter | Description | Options |\n",
    "|-----------|-------------|---------|\n",
    "| species | The species of your data | `human`, `mouse`, `zebrafish`, `rat` |\n",
    "| groupby | The name of a column in `adata.obs` to **plot** cell cycle phase cell counts per group | e.g. `sample` or `condition` column. If None, the counts for each phase in the whole dataset will be plotted |\n",
    "| threads | the number of cores to use for multiprocessing | Default 4 |\n",
    "| batch_column | For **batch correction**: A column in `adata.obs` (see table above) containing batch information | e.g. `batch` |"
   ]
  },
  {
   "cell_type": "markdown",
   "metadata": {},
   "source": [
    "<h1><center>⬐ Fill in input data here ⬎</center></h1>"
   ]
  },
  {
   "cell_type": "code",
   "execution_count": null,
   "metadata": {
    "hide_input": false
   },
   "outputs": [],
   "source": [
    "species = \"human\"\n",
    "\n",
    "groupby = 'sample'\n",
    "\n",
    "threads = 4\n",
    "\n",
    "batch_column = \"batch\""
   ]
  },
  {
   "cell_type": "markdown",
   "metadata": {},
   "source": [
    "---------"
   ]
  },
  {
   "cell_type": "code",
   "execution_count": null,
   "metadata": {
    "editable": false,
    "hide_input": false
   },
   "outputs": [],
   "source": [
    "# Ensure that the batch column is of type category\n",
    "adata.obs[batch_column] = adata.obs[batch_column].astype(str).astype(\"category\")"
   ]
  },
  {
   "cell_type": "markdown",
   "metadata": {},
   "source": [
    "---------"
   ]
  },
  {
   "cell_type": "markdown",
   "metadata": {},
   "source": [
    "## 5 - Plot highly expressed genes\n",
    "<hr style=\"border:2px solid black\"> </hr>\n",
    "\n",
    "Show the top expressing genes to decide whether they should be included during the normalization (they are not removed from the dataset just excluded during normalization)."
   ]
  },
  {
   "cell_type": "code",
   "execution_count": null,
   "metadata": {
    "editable": false,
    "hide_input": false
   },
   "outputs": [],
   "source": [
    "sc.pl.highest_expr_genes(adata, show=False)\n",
    "pl.general._save_figure(\"highly_expressed.pdf\")"
   ]
  },
  {
   "cell_type": "markdown",
   "metadata": {},
   "source": [
    "### 5.1 - Parameter Overview\n",
    "\n",
    "| Parameter | Description | Options |\n",
    "|-----------|-------------|---------|\n",
    "| exclude_highly_expressed | Choose if highly expressed genes should be excluded | `True` or `False` |"
   ]
  },
  {
   "cell_type": "markdown",
   "metadata": {},
   "source": [
    "<h1><center>⬐ Fill in input data here ⬎</center></h1>"
   ]
  },
  {
   "cell_type": "code",
   "execution_count": null,
   "metadata": {
    "hide_input": false
   },
   "outputs": [],
   "source": [
    "exclude_highly_expressed = True"
   ]
  },
  {
   "cell_type": "markdown",
   "metadata": {},
   "source": [
    "-------------"
   ]
  },
  {
   "cell_type": "markdown",
   "metadata": {},
   "source": [
    "## 6 - Normalization\n",
    "<hr style=\"border:2px solid black\"> </hr>\n",
    "\n",
    "This section performs the normalization followed by a dimension reduction. The counts for each cell are normalized so that all cells have the same number of counts after normalization. This removes imbalances due to sampling effects or sequencing depth to make the cells comparable.\n",
    "\n",
    "To normalize the data we use a combination of the scanpy functions **sc.pp.normalize_total()** and **sc.pp.log1p()**. Hereby we aim to remove variability introduced by the sequencing depth by **sc.pp.normalize_total()**, which is basically a scaling resulting in values between 0 and 1. The function **sc.pp.log1p()** removes outliers by applying $f(x)=log(x+1)$ to the data.\n",
    "\n",
    "**DOI: https://doi.org/10.1038/s41576-023-00586-w**"
   ]
  },
  {
   "cell_type": "code",
   "execution_count": null,
   "metadata": {
    "editable": false,
    "hide_input": false
   },
   "outputs": [],
   "source": [
    "# Save a layer called raw before normalization\n",
    "adata.layers[\"raw\"] = adata.X.copy()"
   ]
  },
  {
   "cell_type": "code",
   "execution_count": null,
   "metadata": {
    "editable": false,
    "hide_input": false
   },
   "outputs": [],
   "source": [
    "adata = tools.norm_correct.normalize_adata(adata, method=\"total\", target_sum=None, exclude_highly_expressed=exclude_highly_expressed)"
   ]
  },
  {
   "cell_type": "markdown",
   "metadata": {},
   "source": [
    "----------"
   ]
  },
  {
   "cell_type": "markdown",
   "metadata": {},
   "source": [
    "## 7 - Predict Cell Cycle\n",
    "Predict the division phase of each cell."
   ]
  },
  {
   "cell_type": "code",
   "execution_count": null,
   "metadata": {
    "editable": false,
    "hide_input": false
   },
   "outputs": [],
   "source": [
    "tools.qc_filter.predict_cell_cycle(adata, species=species, s_genes=None, g2m_genes=None, inplace=True,\n",
    "                                   groupby=groupby,\n",
    "                                   save=\"cell_distribution_phase_barplot.pdf\")"
   ]
  },
  {
   "cell_type": "markdown",
   "metadata": {},
   "source": [
    "-----------"
   ]
  },
  {
   "cell_type": "markdown",
   "metadata": {},
   "source": [
    "## 8 - Find highly variable genes\n",
    "<hr style=\"border:2px solid black\"> </hr>\n",
    "\n",
    "Identify genes that rapidly change expression levels between cells. These genes are considered to be highly informative about the underlying biological structure.\n",
    "\n",
    "### 8.1 - Parameter Overview\n",
    "\n",
    "Try to find the optimal parameter combination using the boundaries below\n",
    "\n",
    "| Parameter | Description | Options |\n",
    "|-----------|-------------|---------|\n",
    "| min_limit | Minimum amount of expected variable genes | Default 1000 |\n",
    "| max_limit | Maximum amount of expected variable genes | Default 5000 |\n",
    "| min_disp | The minimum allowed spread the distribution of a gene can have | Default 0.5 |\n",
    "| max_disp | The maximum allowed spread the distribution of a gene can have | Default `inf` |\n",
    "| min_mean | Minimum allowed mean gene expression | Default 0.0125 |\n",
    "| max_mean | Maximum allowed mean gene expression | Default 3 |\n",
    "\n",
    "For more information see:\n",
    "\n",
    "https://loosolab.pages.gwdg.de/software/sc_framework/API/tools.html#sctoolbox.tools.highly_variable.annot_HVG\n",
    "\n",
    "https://scanpy.readthedocs.io/en/stable/generated/scanpy.pp.highly_variable_genes.html#scanpy-pp-highly-variable-genes"
   ]
  },
  {
   "cell_type": "markdown",
   "metadata": {},
   "source": [
    "<h1><center>⬐ Fill in input data here ⬎</center></h1>"
   ]
  },
  {
   "cell_type": "code",
   "execution_count": null,
   "metadata": {},
   "outputs": [],
   "source": [
    "%bgcolor PowderBlue\n",
    "\n",
    "min_limit = 1000\n",
    "max_limit = 5000 \n",
    "min_disp = 0.5\n",
    "max_disp = float('inf')\n",
    "min_mean = 0.0125\n",
    "max_mean = 3"
   ]
  },
  {
   "cell_type": "code",
   "execution_count": null,
   "metadata": {
    "editable": false,
    "hide_input": false
   },
   "outputs": [],
   "source": [
    "tools.highly_variable.annot_HVG(\n",
    "    adata, \n",
    "    hvg_range=(min_limit, max_limit),\n",
    "    min_disp=min_disp,\n",
    "    max_disp=max_disp,\n",
    "    min_mean=min_mean,\n",
    "    max_mean=max_mean,\n",
    "    save=\"highly_variable.pdf\"\n",
    ")"
   ]
  },
  {
   "cell_type": "code",
   "execution_count": null,
   "metadata": {
    "editable": false,
    "hide_input": false
   },
   "outputs": [],
   "source": [
    "# Number of variable genes selected\n",
    "adata.var[\"highly_variable\"].sum()"
   ]
  },
  {
   "cell_type": "markdown",
   "metadata": {},
   "source": [
    "---------"
   ]
  },
  {
   "cell_type": "markdown",
   "metadata": {},
   "source": [
    "## 9 - PCA and neighbors for uncorrected data\n",
    "<hr style=\"border:2px solid black\"> </hr>\n",
    "\n",
    "Another important property of our data is its high dimensionality. However, this complexity hinders in-depth analysis e.g. the identification of cell states. Thus, dimension reduction algorithms are applied to reduce complexity while simultaneously retaining patterns, a crucial step to enable embedding and clustering. In other words, noise is reduced by removing low variance components as well as components explaining technical or otherwise unwanted factors (e.g. number of active genes, cell cycle, etc.) which also has the benefit of reducing the computational demand.\n",
    "\n",
    "**DOI: [10.1038/nmeth.4346](https://doi.org/10.1038/nmeth.4346)**  \n",
    "\n",
    "The following heatmaps and barplots are intended to identify potentially unwanted PCs by showing the PCs in combination with available observations (cell-related metrics) and variables (gene-related metrics). In general, **selected PCs should avoid correlations with metrics**, but the importance of metrics and the stringency of thresholds depends on the experiment and the underlying questions, and therefore requires careful consideration by the analyst."
   ]
  },
  {
   "cell_type": "code",
   "execution_count": null,
   "metadata": {
    "editable": false
   },
   "outputs": [],
   "source": [
    "default_pca_color = [k for k in adata.uns[\"sctoolbox\"][\"report\"][\"qc\"][\"obs\"][\"threshold\"].keys() if k not in [\"before\", \"after\"]] + [\"phase\", batch_column]\n",
    "default_pca_color"
   ]
  },
  {
   "cell_type": "code",
   "execution_count": null,
   "metadata": {
    "editable": false
   },
   "outputs": [],
   "source": [
    "sctoolbox.tools.dim_reduction.compute_PCA(adata, svd_solver='arpack', mask_var=\"highly_variable\", inplace=True)"
   ]
  },
  {
   "cell_type": "markdown",
   "metadata": {},
   "source": [
    "### 9.1 - Parameter Overview\n",
    "\n",
    "| Parameter | Description | Options |\n",
    "|-----------|-------------|---------|\n",
    "| n_pcs_heatmap | number of PCs shown within the heatmap | Default 15 |\n",
    "| pca_color | columns in `adata.obs`or `adata.var` to be shown in the following PCA | list of **column names** (e.g. `[obs_column1, obs_column2, var_column2]`) or **leave empty** to use the list above |"
   ]
  },
  {
   "cell_type": "markdown",
   "metadata": {},
   "source": [
    "<h1><center>⬐ Fill in input data here ⬎</center></h1>"
   ]
  },
  {
   "cell_type": "code",
   "execution_count": null,
   "metadata": {
    "hide_input": false
   },
   "outputs": [],
   "source": [
    "n_pcs_heatmap = 15\n",
    "\n",
    "pca_color = []"
   ]
  },
  {
   "cell_type": "markdown",
   "metadata": {},
   "source": [
    "___"
   ]
  },
  {
   "cell_type": "code",
   "execution_count": null,
   "metadata": {
    "editable": false,
    "hide_input": false
   },
   "outputs": [],
   "source": [
    "# Plot QC variables on the PCA embedding to show potential correlations\n",
    "sctoolbox.plotting.embedding.plot_embedding(adata, method='pca', color=pca_color if pca_color else default_pca_color, ncols=3, show=False)\n",
    "pl.general._save_figure(\"PCA_embedding.pdf\")"
   ]
  },
  {
   "cell_type": "code",
   "execution_count": null,
   "metadata": {
    "editable": false,
    "hide_input": false
   },
   "outputs": [],
   "source": [
    "# PCA correlations with obs variables \n",
    "_ = pl.embedding.plot_pca_correlation(\n",
    "    adata,\n",
    "    n_components=n_pcs_heatmap,\n",
    "    which=\"obs\",\n",
    "    title=\"Correlation of .obs columns with PCA loadings\",\n",
    "    save=\"PCA_correlation_obs.pdf\"\n",
    ")"
   ]
  },
  {
   "cell_type": "code",
   "execution_count": null,
   "metadata": {
    "editable": false,
    "hide_input": false
   },
   "outputs": [],
   "source": [
    "# PCA correlations with var variables\n",
    "_ = pl.embedding.plot_pca_correlation(\n",
    "    adata,\n",
    "    n_components=n_pcs_heatmap,\n",
    "    which=\"var\",\n",
    "    title=\"Correlation of .var columns with PCA loadings\",\n",
    "    save=\"PCA_correlation_var.pdf\"\n",
    ")"
   ]
  },
  {
   "cell_type": "markdown",
   "metadata": {},
   "source": [
    "------------"
   ]
  },
  {
   "cell_type": "markdown",
   "metadata": {},
   "source": [
    "### 9.2 - Choose a subset of PCs (optional)\n",
    "<hr style=\"border:1px solid black\"> </hr>\n",
    "\n",
    "In case the above plots showed undesired correlation this section can be used to subset the PCs. The proposed PC subset is displayed as a plot with darker bars representing the selected PCs. Based on the selected `filter_methods`, a vertical and horizontal threshold line is displayed. PCs are filtered if they are below the horizontal threshold (`corr_thresh`) or if they are to the right of the vertical threshold line (`perc_thresh`).\n",
    "\n",
    "#### 9.2.1 - Parameter Overview\n",
    "\n",
    "| Parameter | Description | Options |\n",
    "|:---:|:---|:---|\n",
    "| subset_pcs | Whether the PCs should be filtered. | `True` or `False` |\n",
    "| corr_thresh | Highest absolute correlation that is allowed. Will take the maximum correlation for each PC as shown in the heatmap above. PCs with an absolut correlation above this will be filtered | Expects a value between `0-1`. |\n",
    "| perc_thresh | Top percentile of PCs that should be kept. | A value between `0-100`%. |\n",
    "| filter_methods | The PCs will be filtered based on the given methods. E.g. for \"variance\" and \"correlation\" PCs are filtered on values from both methods and the intersection is used as the final subset. | Any combination of `[\"variance\", \"cumulative variance\", \"correlation\"]` |\n",
    "| basis | Compute correlation based on observations (cells) or variables (genes). | Either `obs` for cells or `var` for genes. |\n",
    "|ignore_cols| List of column names to ignore for correlation | `None` or a list of column names|"
   ]
  },
  {
   "cell_type": "markdown",
   "metadata": {},
   "source": [
    "<h1><center>⬐ Fill in input data here ⬎</center></h1>"
   ]
  },
  {
   "cell_type": "code",
   "execution_count": null,
   "metadata": {
    "hide_input": false
   },
   "outputs": [],
   "source": [
    "subset_pcs = True\n",
    "\n",
    "corr_thresh = 0.3\n",
    "perc_thresh = 50\n",
    "filter_methods = ['variance', 'correlation']\n",
    "basis = 'obs'\n",
    "ignore_cols = []"
   ]
  },
  {
   "cell_type": "markdown",
   "metadata": {},
   "source": [
    "___"
   ]
  },
  {
   "cell_type": "code",
   "execution_count": null,
   "metadata": {
    "editable": false,
    "hide_input": false
   },
   "outputs": [],
   "source": [
    "selected_pcs = tools.dim_reduction.propose_pcs(\n",
    "    anndata=adata,\n",
    "    how=filter_methods,\n",
    "    corr_thresh=corr_thresh,\n",
    "    perc_thresh=perc_thresh,\n",
    "    corr_kwargs={'method': 'spearmanr', 'which': basis, 'ignore': ignore_cols}\n",
    ")\n",
    "\n",
    "# Plot and select number of PCs\n",
    "_ = pl.embedding.plot_pca_variance(\n",
    "    adata,\n",
    "    selected=selected_pcs,\n",
    "    save='PCA_variance_proposed_selection.pdf',\n",
    "    n_pcs=50,\n",
    "    n_thresh=max(selected_pcs),\n",
    "    corr_plot='spearmanr',\n",
    "    corr_thresh=corr_thresh,\n",
    "    corr_on=basis,\n",
    "    ignore=ignore_cols\n",
    ")"
   ]
  },
  {
   "cell_type": "code",
   "execution_count": null,
   "metadata": {
    "editable": false,
    "hide_input": false
   },
   "outputs": [],
   "source": [
    "f\"Proposed principal components: {selected_pcs}\""
   ]
  },
  {
   "cell_type": "markdown",
   "metadata": {},
   "source": [
    "Create a final PC-selection by changing the blue cell below:\n",
    "- Either copy and adjust the proposed list from directly above\n",
    "- create a custom list of PCs\n",
    "- or accept the proposed list by not changing the cell below.\n",
    "\n",
    "**Note: the selection will only be applied when `subset_pcs = True`.**"
   ]
  },
  {
   "cell_type": "markdown",
   "metadata": {},
   "source": [
    "<h1><center>⬐ Fill in input data here ⬎</center></h1>"
   ]
  },
  {
   "cell_type": "code",
   "execution_count": null,
   "metadata": {
    "hide_input": false
   },
   "outputs": [],
   "source": [
    "final_pc_selection = selected_pcs"
   ]
  },
  {
   "cell_type": "markdown",
   "metadata": {},
   "source": [
    "___"
   ]
  },
  {
   "cell_type": "code",
   "execution_count": null,
   "metadata": {
    "editable": false,
    "hide_input": false
   },
   "outputs": [],
   "source": [
    "_ = pl.embedding.plot_pca_variance(\n",
    "    adata, \n",
    "    selected=final_pc_selection if subset_pcs else None,\n",
    "    save='PCA_variance_final_selection.pdf',\n",
    "    n_pcs=50,\n",
    "    n_thresh=max(selected_pcs) if subset_pcs else None,\n",
    "    corr_plot='spearmanr',\n",
    "    corr_thresh=corr_thresh if subset_pcs else None,\n",
    "    corr_on=basis,\n",
    "    ignore=ignore_cols\n",
    ")"
   ]
  },
  {
   "cell_type": "code",
   "execution_count": null,
   "metadata": {
    "editable": false,
    "hide_input": false
   },
   "outputs": [],
   "source": [
    "# Subset the number of pcs if chosen in the parameters\n",
    "if subset_pcs:\n",
    "    tools.dim_reduction.subset_PCA(adata, select=final_pc_selection)"
   ]
  },
  {
   "cell_type": "markdown",
   "metadata": {},
   "source": [
    "------------"
   ]
  },
  {
   "cell_type": "markdown",
   "metadata": {},
   "source": [
    "### 9.3 - Calculate neighbors\n",
    "<hr style=\"border:1px solid black\"> </hr>\n",
    "This step constructs a graph connecting the cells with their k-nearest-neighbors based on the selected dimension reduction components. This graph represents the structure of the data and thus is used to detect clusters visualized in the UMAP in later steps.\n",
    "\n",
    "#### 9.3.1 - Parameter Overview\n",
    "\n",
    "| Parameter | Description | Options |\n",
    "|-----------|-------------|---------|\n",
    "| `n_neighbors` | Set the number of neighbors | Default 15 |"
   ]
  },
  {
   "cell_type": "markdown",
   "metadata": {},
   "source": [
    "<h1><center>⬐ Fill in input data here ⬎</center></h1>"
   ]
  },
  {
   "cell_type": "code",
   "execution_count": null,
   "metadata": {},
   "outputs": [],
   "source": [
    "n_neighbors = 15"
   ]
  },
  {
   "cell_type": "code",
   "execution_count": null,
   "metadata": {
    "editable": false,
    "hide_input": false
   },
   "outputs": [],
   "source": [
    "sc.pp.neighbors(adata, n_neighbors=n_neighbors)"
   ]
  },
  {
   "cell_type": "markdown",
   "metadata": {},
   "source": [
    "------------"
   ]
  },
  {
   "cell_type": "markdown",
   "metadata": {},
   "source": [
    "## 10 - Batch correction\n",
    "<hr style=\"border:1px solid black\"> </hr>\n",
    "\n",
    "Batch effects are variances in the data that are not intended by the experimental design (e.g. technical variance). They can be introduced through various sources. For example, sequencing samples at different timepoints may introduce batch effects. As batch effects could interfere with downstream analysis they are typically removed. However, it can be challenging to identify and correct for batch effects as this is highly dependent on the experimental setup of the dataset.\n",
    "\n",
    "**DOI: [10.1038/nrg2825](https://doi.org/10.1038/nrg2825)**\n",
    "\n",
    "There are several batch correction methods available, which may perform differently depending on the data set. Therefore, an overview is provided to compare batch correction methods and select the best performing one. To help in the decision making process, several metrics are shown that can be selected below and a score (LISI) is provided that explains whether the batches are well mixed after applying the correction.\n",
    "\n",
    "### 10.1 - Parameter Overview\n",
    "\n",
    "| Parameter | Description | Options |\n",
    "|-----------|-------------|---------|\n",
    "| perform_batch_correction | Whether or not you want to do batch correction | `True` or `False` |\n",
    "| batch_methods | A list of methods for batch correction | `bbknn`, `mnn`, `harmony`, `scanorama`, `combat` or list more than one method |"
   ]
  },
  {
   "cell_type": "markdown",
   "metadata": {},
   "source": [
    "<h1><center>⬐ Fill in input data here ⬎</center></h1>"
   ]
  },
  {
   "cell_type": "code",
   "execution_count": null,
   "metadata": {},
   "outputs": [],
   "source": [
    "perform_batch_correction = True\n",
    "batch_methods = [\"bbknn\", \"mnn\", \"harmony\", \"scanorama\"] # , combat (excluded in this example due to slow runtime)"
   ]
  },
  {
   "cell_type": "code",
   "execution_count": null,
   "metadata": {
    "editable": false,
    "hide_input": false
   },
   "outputs": [],
   "source": [
    "if perform_batch_correction:\n",
    "    batch_corrections = tools.norm_correct.wrap_corrections(\n",
    "        adata, \n",
    "        batch_key=batch_column,\n",
    "        methods=batch_methods\n",
    "    )\n",
    "else:\n",
    "    batch_corrections = {\"uncorrected\": adata}"
   ]
  },
  {
   "cell_type": "markdown",
   "metadata": {},
   "source": [
    "------------"
   ]
  },
  {
   "cell_type": "markdown",
   "metadata": {},
   "source": [
    "### 10.2 - Plot overview of batch corrections"
   ]
  },
  {
   "cell_type": "code",
   "execution_count": null,
   "metadata": {
    "editable": false,
    "hide_input": false
   },
   "outputs": [],
   "source": [
    "# Run standard umap for all adatas\n",
    "tools.embedding.wrap_umap(batch_corrections.values(), threads=threads)"
   ]
  },
  {
   "cell_type": "code",
   "execution_count": null,
   "metadata": {
    "editable": false
   },
   "outputs": [],
   "source": [
    "default_embed_color = [k for k in adata.uns[\"sctoolbox\"][\"report\"][\"qc\"][\"obs\"][\"threshold\"].keys() if k not in [\"before\", \"after\"]] + [\"phase\", batch_column]\n",
    "default_embed_color"
   ]
  },
  {
   "cell_type": "markdown",
   "metadata": {},
   "source": [
    "#### 10.2.1 - Parameter Overview\n",
    "\n",
    "| Parameter | Description | Options |\n",
    "|-----------|-------------|---------|\n",
    "| embed_color | Metrics shown in the following PCA and UMAP | only `batch_column`, a list of columns in `obs` or `var`, or leave it empty to use `default_embed_color` (see above) for relevant metrics |\n",
    "| do_clustering | Whether or not preliminary clustering should be performed | `True` or `False`"
   ]
  },
  {
   "cell_type": "markdown",
   "metadata": {},
   "source": [
    "<h1><center>⬐ Fill in input data here ⬎</center></h1>"
   ]
  },
  {
   "cell_type": "code",
   "execution_count": null,
   "metadata": {
    "hide_input": false
   },
   "outputs": [],
   "source": [
    "embed_color = [batch_column]\n",
    "\n",
    "do_clustering = True"
   ]
  },
  {
   "cell_type": "markdown",
   "metadata": {},
   "source": [
    "___"
   ]
  },
  {
   "cell_type": "code",
   "execution_count": null,
   "metadata": {
    "editable": false
   },
   "outputs": [],
   "source": [
    "if do_clustering:\n",
    "    for adata in batch_corrections.values():\n",
    "        sc.tl.leiden(adata, flavor=\"igraph\", n_iterations=2)\n",
    "    \n",
    "    (embed_color if embed_color else default_embed_color).append(\"leiden\")"
   ]
  },
  {
   "cell_type": "markdown",
   "metadata": {},
   "source": [
    "**LISI score:**  \n",
    "To determine the strength of a batch effect the Local Inverse Simpson's Index (LISI) can be used by measuring the heterogeneity within a local group. Comparing the LISI score between uncorrected data and the batch correction methods can help in deciding which method performed best.  \n",
    "The LISI score (stored in `adata.obs`) indicates the effective number of different categories represented in the local neighborhood of each cell. If the cells are well-mixed, then we expect the LISI score to be closer to `n` for a dataset with `n` batches.\n",
    "\n",
    "**DOI: [10.1038/s41592-019-0619-0](https://doi.org/10.1038/s41592-019-0619-0)**\n",
    "\n",
    "**The higher the LISI score is, the better the batch correction method worked to normalize the batch effect and mix the cells from different batches.**\n"
   ]
  },
  {
   "cell_type": "code",
   "execution_count": null,
   "metadata": {
    "editable": false,
    "hide_input": false
   },
   "outputs": [],
   "source": [
    "# Calculate LISI scores for batch\n",
    "tools.norm_correct.wrap_batch_evaluation(batch_corrections, batch_key=batch_column, threads=threads, inplace=True)"
   ]
  },
  {
   "cell_type": "code",
   "execution_count": null,
   "metadata": {
    "editable": false,
    "hide_input": false
   },
   "outputs": [],
   "source": [
    "# Plot the overview of batch correction methods\n",
    "_ = pl.embedding.anndata_overview(\n",
    "    batch_corrections,\n",
    "    color_by=embed_color if embed_color else default_embed_color, \n",
    "    output=\"batch_correction_overview.pdf\"\n",
    ")"
   ]
  },
  {
   "cell_type": "markdown",
   "metadata": {},
   "source": [
    "------------"
   ]
  },
  {
   "cell_type": "markdown",
   "metadata": {},
   "source": [
    "Choose a batch correction method object to proceed:"
   ]
  },
  {
   "cell_type": "markdown",
   "metadata": {},
   "source": [
    "<h1><center>⬐ Fill in input data here ⬎</center></h1>"
   ]
  },
  {
   "cell_type": "code",
   "execution_count": null,
   "metadata": {
    "hide_input": false
   },
   "outputs": [],
   "source": [
    "selected = \"harmony\""
   ]
  },
  {
   "cell_type": "markdown",
   "metadata": {},
   "source": [
    "___"
   ]
  },
  {
   "cell_type": "code",
   "execution_count": null,
   "metadata": {
    "editable": false,
    "hide_input": false
   },
   "outputs": [],
   "source": [
    "if not perform_batch_correction and selected != \"uncorrected\":\n",
    "    import warnings\n",
    "    warnings.warn(f\"Selected batch correction '{selected}' but batch correction is disabled. Falling back to 'uncorrected'.\")\n",
    "    \n",
    "    selected = \"uncorrected\"\n",
    "elif selected not in batch_corrections:\n",
    "    raise KeyError(f\"'{selected}' is not a key in batch_corrections. Choose one of: {list(batch_corrections.keys())}\")"
   ]
  },
  {
   "cell_type": "code",
   "execution_count": null,
   "metadata": {
    "editable": false,
    "hide_input": false
   },
   "outputs": [],
   "source": [
    "adata = batch_corrections[selected]"
   ]
  },
  {
   "cell_type": "markdown",
   "metadata": {},
   "source": [
    "-------------"
   ]
  },
  {
   "cell_type": "markdown",
   "metadata": {},
   "source": [
    "## 11 - Saving adata for the next notebook"
   ]
  },
  {
   "cell_type": "code",
   "execution_count": null,
   "metadata": {
    "editable": false,
    "hide_input": false
   },
   "outputs": [],
   "source": [
    "adata"
   ]
  },
  {
   "cell_type": "code",
   "execution_count": null,
   "metadata": {
    "editable": false,
    "hide_input": false
   },
   "outputs": [],
   "source": [
    "#Saving the data\n",
    "adata_output = \"anndata_3.h5ad\"\n",
    "utils.adata.save_h5ad(adata, adata_output)"
   ]
  },
  {
   "cell_type": "code",
   "execution_count": null,
   "metadata": {
    "editable": false,
    "hide_input": false
   },
   "outputs": [],
   "source": [
    "sctoolbox.settings.close_logfile()"
   ]
  }
 ],
 "metadata": {
  "kernelspec": {
   "display_name": "sctoolbox",
   "language": "python",
   "name": "sctoolbox"
  },
  "language_info": {
   "codemirror_mode": {
    "name": "ipython",
    "version": 3
   },
   "file_extension": ".py",
   "mimetype": "text/x-python",
   "name": "python",
   "nbconvert_exporter": "python",
   "pygments_lexer": "ipython3",
   "version": "3.12.6"
  },
  "sc_framework": {
   "version": "0.12.0"
  }
 },
 "nbformat": 4,
 "nbformat_minor": 4
}
