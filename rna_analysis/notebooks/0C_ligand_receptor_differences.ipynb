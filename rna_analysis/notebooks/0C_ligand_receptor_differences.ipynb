{
 "cells": [
  {
   "cell_type": "code",
   "execution_count": null,
   "metadata": {},
   "outputs": [],
   "source": [
    "from sctoolbox.utils.jupyter import bgcolor, _compare_version\n",
    "\n",
    "# change the background of input cells\n",
    "bgcolor(\"PowderBlue\", select=[2, 4, 6, 8, 10, 13, 15, 17])\n",
    "\n",
    "nb_name = \"0C_ligand_receptor_differences.ipynb\"\n",
    "\n",
    "_compare_version(nb_name)"
   ]
  },
  {
   "cell_type": "markdown",
   "metadata": {},
   "source": [
    "# 0C - Receptor-Ligand Differences Analysis\n",
    "<hr style=\"border:2px solid black\"> </hr>"
   ]
  },
  {
   "cell_type": "markdown",
   "metadata": {},
   "source": [
    "## 1 - Description\n",
    "\n",
    "**Requires an anndata object with precomputed clusters  and multiple timepoints or conditions. Clusters can be generated with the clustering notebook (`rna_analysis/notebooks/04_clustering.ipynb`).**\n",
    "\n",
    "This notebook extends the receptor-ligand analysis to identify and visualize differences in cell-cell communication interactions across:\n",
    " 1. Different timepoints\n",
    " 2. Different experimental conditions\n",
    "\n",
    " with network graphs.\n"
   ]
  },
  {
   "cell_type": "markdown",
   "metadata": {},
   "source": [
    "____"
   ]
  },
  {
   "cell_type": "markdown",
   "metadata": {},
   "source": [
    "## 2 - Setup"
   ]
  },
  {
   "cell_type": "code",
   "execution_count": null,
   "metadata": {},
   "outputs": [],
   "source": [
    "import sctoolbox.tools.receptor_ligand as rl\n",
    "import sctoolbox.utils as utils\n",
    "import pandas as pd\n",
    "import matplotlib.pyplot as plt\n",
    "from sctoolbox import settings\n",
    "\n",
    "settings.settings_from_config(\"config.yaml\", key=\"0C\")"
   ]
  },
  {
   "cell_type": "markdown",
   "metadata": {},
   "source": [
    "____"
   ]
  },
  {
   "cell_type": "markdown",
   "metadata": {},
   "source": [
    "## 3 - Load adata"
   ]
  },
  {
   "cell_type": "markdown",
   "metadata": {},
   "source": [
    "# <h1><center>⬐ Fill in input data here ⬎</center></h1>"
   ]
  },
  {
   "cell_type": "code",
   "execution_count": null,
   "metadata": {},
   "outputs": [],
   "source": [
    "anndata_file = 'adata_condition_rna.h5ad'"
   ]
  },
  {
   "cell_type": "code",
   "execution_count": null,
   "metadata": {},
   "outputs": [],
   "source": [
    "adata = utils.adata.load_h5ad(anndata_file)\n",
    "\n",
    "with pd.option_context(\"display.max.rows\", 5, \"display.max.columns\", None):\n",
    "    display(adata)\n",
    "    display(adata.obs)\n",
    "    display(adata.var)"
   ]
  },
  {
   "cell_type": "markdown",
   "metadata": {},
   "source": [
    "____"
   ]
  },
  {
   "cell_type": "markdown",
   "metadata": {},
   "source": [
    "## 4 - Download receptor-ligand database\n",
    "\n",
    "Supply a receptor-ligand database. This can be done in two ways:\n",
    "\n",
    "1. Provide the name of a recognized [LIANA resource](https://liana-py.readthedocs.io/en/latest/notebooks/prior_knowledge.html#Ligand-Receptor-Interactions).\n",
    "\n",
    "2. Provide a path or link to a table that consists of at least two columns - one for the receptors and one for the    ligands. Each row of this table must correspond to a unique interaction, e.g. `http://tcm.zju.edu.cn/celltalkdb/download/processed_data/human_lr_pair.txt`\n",
    "\n",
    "The databse will be stored in the adata object (`adata.uns['receptor-ligand]['database']`)."
   ]
  },
  {
   "cell_type": "markdown",
   "metadata": {},
   "source": [
    "<h1><center>⬐ Fill in input data here ⬎</center></h1>"
   ]
  },
  {
   "cell_type": "code",
   "execution_count": null,
   "metadata": {},
   "outputs": [],
   "source": [
    "# Either a path/link to a table or the name of a LIANA resource\n",
    "db_path = 'consensus'\n",
    "\n",
    "ligand_column = 'ligand'\n",
    "receptor_column = 'receptor'"
   ]
  },
  {
   "cell_type": "code",
   "execution_count": null,
   "metadata": {},
   "outputs": [],
   "source": [
    "rl.download_db(adata=adata,\n",
    "               db_path=db_path,\n",
    "               ligand_column=ligand_column,\n",
    "               receptor_column=receptor_column,\n",
    "               inplace=True,\n",
    "               overwrite=False)"
   ]
  },
  {
   "cell_type": "markdown",
   "metadata": {},
   "source": [
    "____"
   ]
  },
  {
   "cell_type": "markdown",
   "metadata": {},
   "source": [
    "## 5 - Difference Analysis"
   ]
  },
  {
   "cell_type": "markdown",
   "metadata": {},
   "source": [
    "### 5.1 `calculate_condition_differences` Function\n",
    "This function compares receptor-ligand interactions between different experimental conditions. It:\n",
    "- Analyzes differences in cell-cell communication across condition dimensions\n",
    "- Supports hierarchical comparison across multiple dimensions\n",
    "- Identifies which receptor-ligand interactions are stronger or weaker between conditions\n",
    "- Quantifies differences using quantile rank scoring"
   ]
  },
  {
   "cell_type": "markdown",
   "metadata": {},
   "source": [
    "<h1><center>⬐ Fill in input data here ⬎</center></h1>"
   ]
  },
  {
   "cell_type": "code",
   "execution_count": null,
   "metadata": {},
   "outputs": [],
   "source": [
    "condition_columns = ['condition', 'timepoint']  # Columns for hierarchical comparison by ordering of list\n",
    "cluster_col = \"celltype\"  # Name of the cluster column in adata.obs.\n",
    "normalize = None  # Normalize cell counts. \n",
    "                  # Scales expression values to correct for different cluster sizes, using this as the reference cell count.\n",
    "                  #  If None, max cluster size will be used.\n",
    "gene_col = None   # Column in adata.var that holds gene symbols/ ids. Set to None to use index"
   ]
  },
  {
   "cell_type": "code",
   "execution_count": null,
   "metadata": {},
   "outputs": [],
   "source": [
    "# Optional filtering of clusters or conditions\n",
    "condition_filters = None # Else define like so:\n",
    "'''\n",
    "condition_filters = {\n",
    "    \"condition\": [\"control\"],       # Compare these treatments\n",
    "    \"timepoint\": [\"tp1\", \"tp3\"],    # At these timepoints\n",
    "}\n",
    "'''\n",
    "# Optional filters to focus analysis on specific clusters or genes\n",
    "selected_clusters = None # Define list to select specific clusters, e.g., [\"cluster1\", \"clusterN\"]\n",
    "selected_genes =  None # Define list to select specific genes, e.g., [\"gene1\", \"geneN\"]\n"
   ]
  },
  {
   "cell_type": "code",
   "execution_count": null,
   "metadata": {},
   "outputs": [],
   "source": [
    "# Expression and interaction filtering\n",
    "min_perc = 15,  # Minimum percentage of cells expressing each gene\n",
    "interaction_perc = 90,  # Focus on top 90% of interactions"
   ]
  },
  {
   "cell_type": "code",
   "execution_count": null,
   "metadata": {},
   "outputs": [],
   "source": [
    "# Calculate differences between conditions\n",
    "diff_results = rl.calculate_condition_differences(\n",
    "    adata=adata,\n",
    "    condition_columns=condition_columns,\n",
    "    cluster_column=cluster_column,\n",
    "    condition_filters=condition_filters,\n",
    "    cluster_filter=selected_clusters,\n",
    "    gene_filter=selected_genes,\n",
    "    normalize=normalize,\n",
    "    min_perc=min_perc,\n",
    "    interaction_perc=interaction_perc,\n",
    "    inplace=False  # Return results instead of storing in adata\n",
    ")"
   ]
  },
  {
   "cell_type": "markdown",
   "metadata": {},
   "source": [
    "<h1><center>⬐ Fill in input data here ⬎</center></h1>"
   ]
  },
  {
   "cell_type": "code",
   "execution_count": null,
   "metadata": {},
   "outputs": [],
   "source": [
    "n_top=100  # Show top 100 differential interactions\n",
    "figsize = (24, 18)\n",
    "dpi=300\n",
    "save_prefix=\"condition_comparison_networks\"\n",
    "split_by_direction = True  # Create separate plots for upregulated/downregulated\n",
    "hub_threshold = 4 # Define hubs as nodes with 4+ connections\n",
    "show=True"
   ]
  },
  {
   "cell_type": "code",
   "execution_count": null,
   "metadata": {},
   "outputs": [],
   "source": [
    "# Visualize differences between conditions as multigrid networks\n",
    "comparision_figures = rl.plot_all_condition_differences(\n",
    "    diff_results=diff_results,\n",
    "    n_top=n_top,\n",
    "    figsize=figsize,\n",
    "    dpi=dpi,\n",
    "    save_prefix=save_prefix,\n",
    "    split_by_direction=split_by_direction,\n",
    "    hub_threshold=hub_threshold,\n",
    "    show=show\n",
    ")"
   ]
  },
  {
   "cell_type": "markdown",
   "metadata": {},
   "source": [
    "____"
   ]
  },
  {
   "cell_type": "markdown",
   "metadata": {},
   "source": [
    "### 5.2 `calculate_condition_differences_over_time` Function\n",
    "\n",
    "This function analyzes how receptor-ligand interactions between cell types change across multiple timepoints for a specific condition. It:\n",
    "- Takes timepoint-labeled data for a specific experimental condition\n",
    "- Compares receptor-ligand interactions either sequentially between timepoints or against a baseline timepoint\n",
    "- Calculates quantile rank differences to identify which interactions become stronger or weaker over time\n"
   ]
  },
  {
   "cell_type": "markdown",
   "metadata": {},
   "source": [
    "<h1><center>⬐ Fill in input data here ⬎</center></h1>"
   ]
  },
  {
   "cell_type": "code",
   "execution_count": null,
   "metadata": {},
   "outputs": [],
   "source": [
    "timepoint_column = \"timepoint\"  # Column containing timepoints\n",
    "condition_column = \"condition\"  # Column containing conditions\n",
    "cluster_col = \"clustering\"      # Name of the cluster column in adata.obs.\n",
    "condition_value = \"treatment\"   # The condition to be analyzed\n",
    "timepoint_order = [\"tp1\", \"tp2\", \"tp3\"] # Order of timepoints\n"
   ]
  },
  {
   "cell_type": "code",
   "execution_count": null,
   "metadata": {},
   "outputs": [],
   "source": [
    "# Optional\n",
    "reference_timepoint = None  # Compare all timepoints to baseline, e.g. \"tp1\"\n",
    "                            # Without reference_timepoints, the timepoints are considered in their sequential order\n"
   ]
  },
  {
   "cell_type": "code",
   "execution_count": 3,
   "metadata": {},
   "outputs": [],
   "source": [
    "# Optional filters to focus analysis on specific clusters or genes\n",
    "selected_clusters = None # Define list to select specific clusters, e.g., [\"cluster1\", \"clusterN\"]\n",
    "selected_genes =  None # Define list to select specific genes, e.g., [\"gene1\", \"geneN\"]"
   ]
  },
  {
   "cell_type": "code",
   "execution_count": null,
   "metadata": {},
   "outputs": [],
   "source": [
    "# Expression and interaction filtering\n",
    "min_perc = 15,  # Minimum percentage of cells expressing each gene\n",
    "interaction_perc = 90,  # Focus on top 90% of interactions"
   ]
  },
  {
   "cell_type": "code",
   "execution_count": null,
   "metadata": {},
   "outputs": [],
   "source": [
    "temp_diff_results = rl.calculate_condition_differences_over_time(\n",
    "    adata=adata,\n",
    "    timepoint_column=timepoint_column,\n",
    "    condition_column=condition_column,\n",
    "    condition_value=condition_value,\n",
    "    cluster_column=cluster_column,\n",
    "    timepoint_order=timepoint_order,\n",
    "    reference_timepoint=reference_timepoint,\n",
    "    min_perc=min_perc,\n",
    "    interaction_perc=interaction_perc,\n",
    "    cluster_filter=selected_clusters,\n",
    "    gene_filter=selected_genes,\n",
    "    normalize=normalize,\n",
    "    save=f\"{condition_value}_timepoint_differences\"\n",
    ")"
   ]
  },
  {
   "cell_type": "markdown",
   "metadata": {},
   "source": [
    "<h1><center>⬐ Fill in input data here ⬎</center></h1>"
   ]
  },
  {
   "cell_type": "code",
   "execution_count": null,
   "metadata": {},
   "outputs": [],
   "source": [
    "n_top=100  # Show top 100 differential interactions\n",
    "figsize = (24, 18)\n",
    "dpi=300\n",
    "save_prefix=f\"{condition_value}_comparison_networks\"\n",
    "split_by_direction = True  # Create separate plots for upregulated/downregulated\n",
    "hub_threshold = 4 # Define hubs as nodes with 4+ connections\n",
    "show=True"
   ]
  },
  {
   "cell_type": "code",
   "execution_count": null,
   "metadata": {},
   "outputs": [],
   "source": [
    "# Visualize differences between conditions as multigrid networks\n",
    "temp_comparision_figures = rl.plot_all_condition_differences(\n",
    "    diff_results=temp_diff_results,\n",
    "    n_top=n_top,\n",
    "    figsize=figsize,\n",
    "    dpi=dpi,\n",
    "    save_prefix=save_prefix,\n",
    "    split_by_direction=split_by_direction,\n",
    "    hub_threshold=hub_threshold,\n",
    "    show=show\n",
    ")"
   ]
  },
  {
   "cell_type": "markdown",
   "metadata": {},
   "source": [
    "____"
   ]
  },
  {
   "cell_type": "markdown",
   "metadata": {},
   "source": [
    "### 5.3 `track_clusters_or_genes` Function\n",
    "\n",
    "This function allows to focus on and visualize the evolution of specific receptor-ligand interactions of interest across timepoints. It:\n",
    "\n",
    "- Filters the differential analysis results to focus only on interactions involving specific genes and/or cell clusters\n",
    "- Creates targeted network visualizations showing how selected interactions change over the time course"
   ]
  },
  {
   "cell_type": "markdown",
   "metadata": {},
   "source": [
    "<h1><center>⬐ Fill in input data here ⬎</center></h1>"
   ]
  },
  {
   "cell_type": "code",
   "execution_count": null,
   "metadata": {},
   "outputs": [],
   "source": [
    "\n",
    "# Track only interactions involving specified clusters or genes\n",
    "selected_clusters = ['END','aSM'] # Define list to select specific clusters\n",
    "selected_genes = ['AC114498.1', 'AC136616.3'] # Define list to select specific genes\n",
    "timepoint_order = [\"tp1\", \"tp2\", \"tp3\"],\n",
    "min_interactions = 1, # Minimum number of interactions required to generate a visualization"
   ]
  },
  {
   "cell_type": "code",
   "execution_count": null,
   "metadata": {},
   "outputs": [],
   "source": [
    "n_top=100  # Show top 100 differential interactions\n",
    "figsize = (24, 18)\n",
    "dpi=300\n",
    "save_prefix=f\"{condition_value}_comparison_networks\"\n",
    "split_by_direction = True  # Create separate plots for upregulated/downregulated\n",
    "hub_threshold = 4 # Define hubs as nodes with 4+ connections\n",
    "show=True"
   ]
  },
  {
   "cell_type": "code",
   "execution_count": null,
   "metadata": {},
   "outputs": [],
   "source": [
    "clusters_suffix = \"_\".join(selected_clusters) if selected_clusters else \"all_clusters\"\n",
    "genes_suffix = \"_\".join(selected_genes) if selected_genes else \"all_genes\"\n",
    "\n",
    "save_prefix = f\"track_{clusters_suffix}_{genes_suffix}\""
   ]
  },
  {
   "cell_type": "code",
   "execution_count": null,
   "metadata": {},
   "outputs": [],
   "source": [
    "# Create network graphs for specified clusters/genes\n",
    "specific_figures = rl.track_clusters_or_genes(\n",
    "    diff_results=diff_results,\n",
    "    genes=selected_genes,\n",
    "    clusters=selected_clusters,\n",
    "    timepoint_order=timepoint_order,\n",
    "    min_interactions=min_interactions,\n",
    "    n_top=n_top,\n",
    "    figsize=figsize,\n",
    "    dpi=dpi,\n",
    "    save_prefix=save_prefix,\n",
    "    split_by_direction=split_by_direction\n",
    ")"
   ]
  },
  {
   "cell_type": "markdown",
   "metadata": {},
   "source": [
    "____"
   ]
  }
 ],
 "metadata": {
  "language_info": {
   "name": "python"
  }
 },
 "nbformat": 4,
 "nbformat_minor": 2
}
