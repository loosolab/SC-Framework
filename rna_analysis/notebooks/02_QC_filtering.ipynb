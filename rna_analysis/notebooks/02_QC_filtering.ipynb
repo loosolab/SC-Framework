{
 "cells": [
  {
   "cell_type": "code",
   "execution_count": null,
   "metadata": {
    "editable": false,
    "hide_input": true,
    "init_cell": true
   },
   "outputs": [],
   "source": [
    "from sctoolbox.utils.jupyter import bgcolor, _compare_version\n",
    "\n",
    "# change the background of input cells\n",
    "bgcolor(\"PowderBlue\", select=[3, 11, 15, 27])\n",
    "\n",
    "nb_name = \"02_QC_filtering.ipynb\"\n",
    "\n",
    "_compare_version(nb_name)"
   ]
  },
  {
   "cell_type": "markdown",
   "metadata": {},
   "source": [
    "# 02 - QC and filtering\n",
    "<hr style=\"border:2px solid black\"> </hr>"
   ]
  },
  {
   "cell_type": "markdown",
   "metadata": {},
   "source": [
    "## 1 - Description\n",
    "\n",
    "For subsequent analysis, it is crucial to ensure that all cellular barcodes correspond to viable cells. Quality control (QC) is mandatory for RNA-seq data and focuses on three key aspects:\n",
    "\n",
    " 1. The number of counts per barcode (count depth)\n",
    " 2. The number of genes per barcode\n",
    " 3. The fraction of reads derived from mitochondrial vs. nuclear origin\n",
    " \n",
    "Outliers based on these covariates are filtered out. Such outliers may occur if a cell is dying, leading to broken membranes that cause mRNA leakage, resulting in low count depth and detected genes, along with elevated mitochondrial counts.\n",
    "\n",
    "It is important to note that these covariates can vary between cell types. For example, cells involved in respiratory processes may have a higher mitochondrial content compared to other cells.\n",
    "\n",
    "Therefore, cutoffs should be chosen to remove only outliers. This can be achieved automatically using algorithms such as median absolute deviation (MAD) or a Gaussian mixture model (GMM).\n",
    "\n",
    "\n",
    "**DOI:** https://doi.org/10.1038/s41576-023-00586-w"
   ]
  },
  {
   "cell_type": "markdown",
   "metadata": {},
   "source": [
    "_______"
   ]
  },
  {
   "cell_type": "markdown",
   "metadata": {},
   "source": [
    "## 2 - Setup"
   ]
  },
  {
   "cell_type": "code",
   "execution_count": null,
   "metadata": {
    "editable": false,
    "hide_input": false
   },
   "outputs": [],
   "source": [
    "import sctoolbox\n",
    "import sctoolbox.utils as utils\n",
    "import sctoolbox.tools.qc_filter as qc\n",
    "import sctoolbox.tools.marker_genes as marker_genes\n",
    "import sctoolbox.plotting as pl\n",
    "\n",
    "import matplotlib.pyplot as plt\n",
    "import pandas as pd\n",
    "\n",
    "sctoolbox.settings.settings_from_config(\"config.yaml\", key=\"02\")"
   ]
  },
  {
   "cell_type": "markdown",
   "metadata": {},
   "source": [
    "_________"
   ]
  },
  {
   "cell_type": "markdown",
   "metadata": {},
   "source": [
    "## 3 - Load anndata\n",
    "Uses the anndata object written by the previous notebook."
   ]
  },
  {
   "cell_type": "code",
   "execution_count": null,
   "metadata": {
    "editable": false,
    "hide_input": false
   },
   "outputs": [],
   "source": [
    "adata = utils.adata.load_h5ad(\"anndata_1.h5ad\")\n",
    "\n",
    "with pd.option_context(\"display.max.rows\", 5, \"display.max.columns\", None):\n",
    "    display(adata)\n",
    "    display(adata.obs)\n",
    "    display(adata.var)"
   ]
  },
  {
   "cell_type": "markdown",
   "metadata": {},
   "source": [
    "__________"
   ]
  },
  {
   "cell_type": "markdown",
   "metadata": {},
   "source": [
    "## 4 - QC and filtering\n",
    "<hr style=\"border:2px solid black\"> </hr>"
   ]
  },
  {
   "cell_type": "markdown",
   "metadata": {},
   "source": [
    "<h1><center>⬐ Fill in input data here ⬎</center></h1>"
   ]
  },
  {
   "cell_type": "code",
   "execution_count": null,
   "metadata": {
    "hide_input": false
   },
   "outputs": [],
   "source": [
    "# Set the species of the data \n",
    "species = \"human\"  # available species: human, mouse, rat, zebrafish\n",
    "\n",
    "# Set the column in adata.obs containing the biological condition to evaluate\n",
    "condition_column = \"sample\"\n",
    "\n",
    "# Set the column in adata.var containing gene names (or set to None to use adata.var index)\n",
    "gene_column = None\n",
    "\n",
    "# Absolute minimum number of genes for pre-selection of cells before QC plotting\n",
    "min_genes = 1\n",
    "\n",
    "# Decide whether to remove doublets using scrublet (True) or to skip doublet calculation (False)\n",
    "# Set the threshold manually or use \"None\" for automatic threshold prediction\n",
    "filter_doublets = True\n",
    "threads = 4\n",
    "doublet_threshold = None\n",
    "use_native = False  # whether to use the scrublet package (set True in case of error)\n",
    "\n",
    "# Whether to predict the sex of samples using the expression of a female gene.\n",
    "predict_sex = True\n",
    "# Name of the gene to use for the sex assignment.\n",
    "# Note: gene expression can vary significantly across celltypes, disease and development stages. \n",
    "# Therefore, there is no guarantee that the example genes provided below will lead to accurate sex-determination.\n",
    "\n",
    "# Examples by species:\n",
    "# mouse: Xist https://www.science.org/doi/10.1126/science.adf1046\n",
    "# human: XIST https://doi.org/10.1016/j.fsigen.2016.10.018\n",
    "# rat: Xist https://www.science.org/doi/10.1126/science.adf1046\n",
    "# zebrafish: rbpms2a, rbpms2b, foxl2 https://doi.org/10.1007/s00018-021-04066-4\n",
    "\n",
    "female_gene = \"XIST\"\n",
    "\n",
    "# Decide whether to estimate thresholds individual per condition (False) or globally (True)\n",
    "global_threshold = True\n",
    "# function used for automatic filtering.\n",
    "# Either:\n",
    "# qc.gmm_threshold (gaussian-mixture model),\n",
    "# qc.mad_threshold (median aboslute deviation)\n",
    "# or a custom function\n",
    "filter_fun = qc.gmm_threshold\n",
    "fun_kwargs = {  # additional parameters of the filter function\n",
    "    \"min_n\": 3,  # Lower threshold (standard deviation) multiplier\n",
    "    \"max_n\": 3  # Upper threshold (standard deviation) multiplier\n",
    "}  \n",
    "\n",
    "# Identify mitochondrial, ribosomal or gender genes\n",
    "# 1. \"internal\" to use sctoolbox provided list, a list of gene names or a txt-file containing one gene per line or None\n",
    "# 2. case insesitive regex pattern used as a fallback to option one\n",
    "mito_list = \"internal\"  # 1.\n",
    "mito_regex = \"^mt\"  # 2.\n",
    "ribo_list = \"internal\"  # 1.\n",
    "ribo_regex = \"^rps|rpl\"  # 2.\n",
    "gen_list = \"internal\"  # 1.\n",
    "gen_regex = None  # 2.\n",
    "\n",
    "# Removal of Gene Subsets\n",
    "\n",
    "# Decide whether to remove unwanted genes, such as mitochondrial, ribosomal, or gender-related genes. \n",
    "# This can reduce complexity and eliminate potential biases in subsequent analyses.\n",
    "# Note: Removal is only possible if marker lists for these regions are available for the organism. \n",
    "# Marker lists are available by default for mouse, human, and rat.\n",
    "filter_mito = True\n",
    "filter_ribo = False\n",
    "filter_gender = False\n",
    "\n",
    "# Optional: Plot STARsolo quality if a path is given\n",
    "quant_folder = \"\"\n",
    "# correction of ambient RNA using scAR\n",
    "# Caution this process is expensive and thus will take time to run!\n",
    "# Requires the raw (unfiltered) AnnData object containing all droplets.\n",
    "path_raw_adata = \"\"  # The path to the raw h5ad file. Leave empty to skip.\n",
    "epochs = 150  # Number of iterations for the model.\n",
    "\n",
    "# overwrite previously applied sctoolbox filtering steps\n",
    "# set to apply new filtering on top of previously applied filters\n",
    "# Caution: Not recommended as it invalidates filter tracking\n",
    "overwrite = False"
   ]
  },
  {
   "cell_type": "markdown",
   "metadata": {},
   "source": [
    "________"
   ]
  },
  {
   "cell_type": "code",
   "execution_count": null,
   "metadata": {
    "editable": false,
    "hide_input": false
   },
   "outputs": [],
   "source": [
    "# Ensure that the condition column is of type category\n",
    "adata.obs[condition_column] = adata.obs[condition_column].astype(\"category\")"
   ]
  },
  {
   "cell_type": "markdown",
   "metadata": {},
   "source": [
    "### 4.1 - Show STARsolo quality (optional)\n",
    "\n",
    "If the data was mapped using STARsolo, use the parameter to set the path to the STARsolo runs and plot quality measures across runs. The path must be a folder, e.g. \"path/to/starsolo_output\", which contains folders per condition e.g. \"cond1\", \"cond2\", etc."
   ]
  },
  {
   "cell_type": "code",
   "execution_count": null,
   "metadata": {
    "editable": false,
    "hide_input": false
   },
   "outputs": [],
   "source": [
    "if quant_folder != \"\":\n",
    "    _ = pl.qc_filter.plot_starsolo_quality(quant_folder, save=\"starsolo_quality.pdf\")\n",
    "    _ = pl.qc_filter.plot_starsolo_UMI(quant_folder, ncol=3, save=\"starsolo_cell_selection.pdf\")"
   ]
  },
  {
   "cell_type": "markdown",
   "metadata": {},
   "source": [
    "_________"
   ]
  },
  {
   "cell_type": "markdown",
   "metadata": {},
   "source": [
    "### 4.2 - Label genes\n",
    "Mark genes on their general association. E.g. mitochondrial."
   ]
  },
  {
   "cell_type": "code",
   "execution_count": null,
   "metadata": {
    "editable": false,
    "hide_input": false
   },
   "outputs": [],
   "source": [
    "qc_vars = marker_genes.label_genes(adata,\n",
    "                                   gene_column=gene_column,\n",
    "                                   species=species,\n",
    "                                   m_genes=mito_list,\n",
    "                                   m_regex=mito_regex,\n",
    "                                   r_genes=ribo_list,\n",
    "                                   r_regex=ribo_regex,\n",
    "                                   g_genes=gen_list,\n",
    "                                   g_regex=gen_regex\n",
    "                                  )"
   ]
  },
  {
   "cell_type": "code",
   "execution_count": null,
   "metadata": {
    "editable": false,
    "hide_input": false
   },
   "outputs": [],
   "source": [
    "adata.obs"
   ]
  },
  {
   "cell_type": "markdown",
   "metadata": {},
   "source": [
    "_________"
   ]
  },
  {
   "cell_type": "markdown",
   "metadata": {},
   "source": [
    "### 4.3 - Calculate QC metrics\n",
    "Create quality control metrics to filter the data on."
   ]
  },
  {
   "cell_type": "code",
   "execution_count": null,
   "metadata": {
    "editable": false,
    "hide_input": false
   },
   "outputs": [],
   "source": [
    "adata = qc.calculate_qc_metrics(adata, qc_vars=qc_vars)"
   ]
  },
  {
   "cell_type": "markdown",
   "metadata": {},
   "source": [
    "_________"
   ]
  },
  {
   "cell_type": "markdown",
   "metadata": {},
   "source": [
    "### 4.5 Calculate and remove doublets\n",
    "Doublets are artifacts where two (doublet) or more (multiplet) cells receive the same barcode. As multiplets behave as a joined feature set of the collected cells they may show up as a separate group in downstream analysis, thus potentially skewing results. Therefore, it is recommended to remove doublets.\n",
    "\n",
    "**DOI: [10.1016/j.cels.2018.11.005](https://doi.org/10.1016/j.cels.2018.11.005)**"
   ]
  },
  {
   "cell_type": "code",
   "execution_count": null,
   "metadata": {
    "editable": false,
    "hide_input": false
   },
   "outputs": [],
   "source": [
    "# Set filter for number of genes before calculating doublets\n",
    "n_cells_before = len(adata)\n",
    "adata = adata[adata.obs[\"n_genes\"] >= min_genes]\n",
    "n_cells_after = len(adata)\n",
    "print(f\"Filtered out {n_cells_before-n_cells_after} cells which had less than {min_genes} gene(s) expressed.\")"
   ]
  },
  {
   "cell_type": "code",
   "execution_count": null,
   "metadata": {
    "editable": false,
    "hide_input": false
   },
   "outputs": [],
   "source": [
    "if filter_doublets:\n",
    "    qc.estimate_doublets(adata, groupby=condition_column, threads=threads, threshold=doublet_threshold, use_native=use_native)"
   ]
  },
  {
   "cell_type": "markdown",
   "metadata": {},
   "source": [
    "<h1><center>⬐ Fill in input data here ⬎</center></h1>"
   ]
  },
  {
   "cell_type": "code",
   "execution_count": null,
   "metadata": {},
   "outputs": [],
   "source": [
    "# Remove predicted doublet\n",
    "filter_doublets = True"
   ]
  },
  {
   "cell_type": "code",
   "execution_count": null,
   "metadata": {
    "editable": false
   },
   "outputs": [],
   "source": [
    "if filter_doublets:\n",
    "    # Remove the duplicates from adata\n",
    "    qc.filter_cells(adata, \"predicted_doublet\", name=\"doublet\", overwrite=overwrite)"
   ]
  },
  {
   "cell_type": "markdown",
   "metadata": {},
   "source": [
    "_________"
   ]
  },
  {
   "cell_type": "markdown",
   "metadata": {},
   "source": [
    "### 4.5 - Predict sex per sample"
   ]
  },
  {
   "cell_type": "code",
   "execution_count": null,
   "metadata": {
    "editable": false,
    "hide_input": false
   },
   "outputs": [],
   "source": [
    "if predict_sex:\n",
    "    qc.predict_sex(adata, groupby=condition_column, gene_column=gene_column, gene=female_gene, \n",
    "                   save=\"female_prediction.pdf\")"
   ]
  },
  {
   "cell_type": "markdown",
   "metadata": {},
   "source": [
    "_________"
   ]
  },
  {
   "cell_type": "markdown",
   "metadata": {},
   "source": [
    "### 4.6 - Cell filtering\n",
    "<hr style=\"border:1px solid black\"> </hr>"
   ]
  },
  {
   "cell_type": "markdown",
   "metadata": {},
   "source": [
    "Low and high count depth indicates cells with low integrity and doublets, respectively (DOI: 10.15252/msb.20188746)."
   ]
  },
  {
   "cell_type": "code",
   "execution_count": null,
   "metadata": {
    "editable": false
   },
   "outputs": [],
   "source": [
    "# available obs columns\n",
    "with pd.option_context(\"display.max.rows\", 5, \"display.max.columns\", None):\n",
    "    display(adata.obs)"
   ]
  },
  {
   "cell_type": "markdown",
   "metadata": {},
   "source": [
    "Any numeric column shown above can be used as filter metric. Here is a description of the commonly available metrics:\n",
    "\n",
    "| Metric | Description |\n",
    "|--------|-------------|\n",
    "|n_genes|The number of genes associated with a barcode (cell).|\n",
    "|total_counts|The total amount of reads detected for this barcode (cell).|\n",
    "|log1p_total_counts|Same as above but on a logarithmic scale.|\n",
    "|total_counts_is_mito|The total amount of reads associated with mitochondrial genes.|\n",
    "|log1p_total_counts_is_mito|Same as above but on a logarithmic scale.|\n",
    "|pct_counts_is_mito|Percentage of mitochondrial reads per barcode (cell).|\n",
    "|total_counts_is_ribo|The total amount of reads associated with ribosomal genes.|\n",
    "|log1p_total_counts_is_ribo|Same as above but on a logarithmic scale.|\n",
    "|pct_counts_is_ribo|Percentage of ribosomal reads per barcode (cell).|\n",
    "|total_counts_is_gender|The total amount of reads associated with gender genes.|\n",
    "|log1p_total_counts_is_gender|Same as above but on a logarithmic scale.|\n",
    "|pct_counts_is_gender|Percentage of gender related reads per barcode (cell).|"
   ]
  },
  {
   "cell_type": "code",
   "execution_count": null,
   "metadata": {},
   "outputs": [],
   "source": [
    "# Decide whether to estimate thresholds individual per condition (False) or globally (True)\n",
    "global_threshold = True\n",
    "\n",
    "# Before filtering the impact of the individual filters are plotted by an UpSet plot.\n",
    "# To restrict complexity of the plot the plotted combinations can be limited below.\n",
    "limit_combinations = 2 # Either provide the combination grade as Integer or None to include all\n",
    "\n",
    "# Set initial filter thresholds\n",
    "# The thresholds can be interactively changed later on\n",
    "# Note: Only metrics provided below are available for filtering\n",
    "default_obs_thresholds = {\n",
    "    'n_genes': {'min': None, 'max': None},\n",
    "    'log1p_total_counts': {'min': None, 'max': None},\n",
    "    'pct_counts_is_mito': {'min': None, 'max': None},\n",
    "    'pct_counts_is_ribo': {'min': None, 'max': None},\n",
    "    'pct_counts_is_gender': {'min': None, 'max': None}\n",
    "    # add additional thresholds based on the available columns shown above\n",
    "    # format: '<obs clolumn>': {'min': <threshold|None>, 'max': <threshold|None>}\n",
    "    # None = automatically derive initial threshold\n",
    "    # float('inf') or float('-inf') = no filter\n",
    "}"
   ]
  },
  {
   "cell_type": "markdown",
   "metadata": {},
   "source": [
    "#### 4.6.1 - Estimate initial thresholds automatically"
   ]
  },
  {
   "cell_type": "code",
   "execution_count": null,
   "metadata": {
    "editable": false
   },
   "outputs": [],
   "source": [
    "groupby = condition_column if global_threshold is False else None\n",
    "initial_obs_thresholds = qc.get_thresholds(adata,\n",
    "                                       default_obs_thresholds,\n",
    "                                       only_automatic=False,\n",
    "                                       groupby=groupby)\n",
    "obs_columns = list(initial_obs_thresholds.keys())\n",
    "qc.thresholds_as_table(initial_obs_thresholds)"
   ]
  },
  {
   "cell_type": "markdown",
   "metadata": {},
   "source": [
    "The plot below estimates the impact each metric (and combination of metrics) would have on the data. Metrics that filter the same amount of cells independent of being alone or combined with other metrics can be disregarded as they have little effect on the overall outcome of the filtering."
   ]
  },
  {
   "cell_type": "code",
   "execution_count": null,
   "metadata": {
    "editable": false
   },
   "outputs": [],
   "source": [
    "_ = pl.qc_filter.upset_plot_filter_impacts(adata, \n",
    "                                           thresholds=initial_obs_thresholds, \n",
    "                                           groupby=groupby,\n",
    "                                           limit_combinations=limit_combinations)"
   ]
  },
  {
   "cell_type": "markdown",
   "metadata": {},
   "source": [
    "#### 4.6.2 - Customize thresholds via sliders"
   ]
  },
  {
   "cell_type": "markdown",
   "metadata": {},
   "source": [
    " (Rerun cell if plot is not shown)"
   ]
  },
  {
   "cell_type": "code",
   "execution_count": null,
   "metadata": {
    "editable": false,
    "hide_input": false
   },
   "outputs": [],
   "source": [
    "%matplotlib widget\n",
    "\n",
    "# Plot violins and sliders\n",
    "obs_figure, obs_slider_dict = pl.qc_filter.quality_violin(\n",
    "    adata,\n",
    "    obs_columns,\n",
    "    groupby=condition_column,\n",
    "    which=\"obs\",\n",
    "    thresholds=initial_obs_thresholds,\n",
    "    global_threshold=global_threshold,\n",
    "    title=\"Cell quality control (before)\",\n",
    "    save=\"cell_filtering.png\"\n",
    ")\n",
    "obs_figure"
   ]
  },
  {
   "cell_type": "code",
   "execution_count": null,
   "metadata": {
    "editable": false,
    "hide_input": false
   },
   "outputs": [],
   "source": [
    "plt.close()\n",
    "\n",
    "# Get final thresholds\n",
    "final_obs_thresholds = pl.qc_filter.get_slider_thresholds(obs_slider_dict)\n",
    "qc.thresholds_as_table(final_obs_thresholds) # show thresholds"
   ]
  },
  {
   "cell_type": "code",
   "execution_count": null,
   "metadata": {
    "editable": false
   },
   "outputs": [],
   "source": [
    "%matplotlib inline\n",
    "\n",
    "_ = pl.qc_filter.upset_plot_filter_impacts(adata, \n",
    "                                           thresholds=final_obs_thresholds, \n",
    "                                           groupby=groupby,\n",
    "                                           limit_combinations=limit_combinations)"
   ]
  },
  {
   "cell_type": "code",
   "execution_count": null,
   "metadata": {
    "editable": false,
    "hide_input": false
   },
   "outputs": [],
   "source": [
    "# Show pairwise comparisons of column values w/ thresholds (mean values in case thresholds are grouped)\n",
    "\n",
    "if len(final_obs_thresholds) > 1:\n",
    "    mean_thresholds = qc.get_mean_thresholds(final_obs_thresholds)\n",
    "    _ = pl.general.pairwise_scatter(adata.obs, obs_columns, thresholds=mean_thresholds, save=\"cell_filtering_scatter.pdf\")"
   ]
  },
  {
   "cell_type": "markdown",
   "metadata": {},
   "source": [
    "#### 4.6.3 - Apply final thresholds\n",
    "Filter the anndata object based on the thresholds in the threshold table."
   ]
  },
  {
   "cell_type": "code",
   "execution_count": null,
   "metadata": {
    "editable": false,
    "hide_input": false
   },
   "outputs": [],
   "source": [
    "qc.apply_qc_thresholds(adata, which=\"obs\", thresholds=final_obs_thresholds, overwrite=overwrite)"
   ]
  },
  {
   "cell_type": "markdown",
   "metadata": {},
   "source": [
    "#### 4.6.4 - Show data after filtering"
   ]
  },
  {
   "cell_type": "code",
   "execution_count": null,
   "metadata": {
    "editable": false,
    "hide_input": false
   },
   "outputs": [],
   "source": [
    "%matplotlib inline \n",
    "\n",
    "# Plot violins and sliders\n",
    "figure, slider_dict = pl.qc_filter.quality_violin(\n",
    "    adata,\n",
    "    obs_columns,\n",
    "    groupby=condition_column,\n",
    "    which=\"obs\",\n",
    "    ncols=3,\n",
    "    global_threshold = global_threshold,\n",
    "    title=\"Cell quality control (after)\",\n",
    "    save=\"cell_filtering_final.png\"\n",
    ")\n",
    "figure"
   ]
  },
  {
   "cell_type": "markdown",
   "metadata": {},
   "source": [
    "_________"
   ]
  },
  {
   "cell_type": "markdown",
   "metadata": {},
   "source": [
    "### 4.7 - Gene filtering\n",
    "<hr style=\"border:1px solid black\"> </hr>\n",
    "The following section is about filtering genes. The user can specify thresholds to filter by the number of cells."
   ]
  },
  {
   "cell_type": "code",
   "execution_count": null,
   "metadata": {
    "editable": false,
    "hide_input": false
   },
   "outputs": [],
   "source": [
    "# Recalculate quality measures for genes\n",
    "adata = qc.calculate_qc_metrics(adata)"
   ]
  },
  {
   "cell_type": "code",
   "execution_count": null,
   "metadata": {
    "editable": false,
    "hide_input": false
   },
   "outputs": [],
   "source": [
    "# Remove genes with 0 count\n",
    "zero_bool = adata.var[\"n_cells_by_counts\"] == 0\n",
    "adata = adata[:,~zero_bool]"
   ]
  },
  {
   "cell_type": "code",
   "execution_count": null,
   "metadata": {
    "editable": false
   },
   "outputs": [],
   "source": [
    "# available var columns\n",
    "with pd.option_context(\"display.max.rows\", 5, \"display.max.columns\", None):\n",
    "    display(adata.var)"
   ]
  },
  {
   "cell_type": "markdown",
   "metadata": {},
   "source": [
    "Any numeric column shown above can be used as filter metric. Here is a description of the commonly available metrics:\n",
    "\n",
    "| Metric | Description |\n",
    "|--------|-------------|\n",
    "|n_cells_by_counts|The number of cells that contain reads associated with the gene.|\n",
    "|mean_counts|The mean amount of reads over all cells.|\n",
    "|log1p_mean_counts|Same as above but on a logarithmic scale.|\n",
    "|pct_dropout_by_counts|Percentage of cells this gene does not appear in.|\n",
    "|total_counts|The total amount of reads associated to this gene.|\n",
    "|log1p_total_counts|Same as above but on a logarithmic scale.|"
   ]
  },
  {
   "cell_type": "markdown",
   "metadata": {},
   "source": [
    "<h1><center>⬐ Fill in input data here ⬎</center></h1>"
   ]
  },
  {
   "cell_type": "code",
   "execution_count": null,
   "metadata": {},
   "outputs": [],
   "source": [
    "# Set initial filter thresholds\n",
    "# The thresholds can be interctively changed later on\n",
    "# Note: Only metrics provided below are available for filtering\n",
    "default_var_thresholds = {\n",
    "    'n_cells_by_counts': {'min': float('-inf'), 'max': float('inf')},\n",
    "    'log1p_mean_counts': {'min': float('-inf'), 'max': float('inf')}\n",
    "    # add additional thresholds based on the available columns shown above\n",
    "    # format: '<obs clolumn>': {'min': <threshold|None>, 'max': <threshold|None>}\n",
    "    # None = automatically derive initial threshold\n",
    "    # float('inf') or float('-inf') = no filter\n",
    "}"
   ]
  },
  {
   "cell_type": "code",
   "execution_count": null,
   "metadata": {
    "editable": false
   },
   "outputs": [],
   "source": [
    "initial_var_thresholds = qc.get_thresholds(adata, which=\"var\", manual_thresholds=default_var_thresholds)\n",
    "\n",
    "var_columns = list(initial_var_thresholds.keys())\n",
    "qc.thresholds_as_table(initial_var_thresholds)"
   ]
  },
  {
   "cell_type": "markdown",
   "metadata": {},
   "source": [
    "____________"
   ]
  },
  {
   "cell_type": "markdown",
   "metadata": {},
   "source": [
    "#### 4.7.1 - Customize thresholds via sliders"
   ]
  },
  {
   "cell_type": "markdown",
   "metadata": {},
   "source": [
    " (Rerun cell if plot is not shown)"
   ]
  },
  {
   "cell_type": "code",
   "execution_count": null,
   "metadata": {
    "editable": false,
    "hide_input": false
   },
   "outputs": [],
   "source": [
    "%matplotlib widget\n",
    "\n",
    "# Plot violins and sliders\n",
    "var_figure, var_slider_dict = pl.qc_filter.quality_violin(\n",
    "    adata,\n",
    "    var_columns,\n",
    "    which=\"var\",\n",
    "    title=\"Gene quality control (before)\",\n",
    "    save=\"gene_filtering.png\"\n",
    ")\n",
    "var_figure"
   ]
  },
  {
   "cell_type": "markdown",
   "metadata": {},
   "source": [
    "#### 4.7.2 - Apply gene filtering"
   ]
  },
  {
   "cell_type": "code",
   "execution_count": null,
   "metadata": {
    "editable": false,
    "hide_input": false
   },
   "outputs": [],
   "source": [
    "# Get final thresholds\n",
    "final_var_thresholds = pl.qc_filter.get_slider_thresholds(var_slider_dict)\n",
    "qc.thresholds_as_table(final_var_thresholds) # show thresholds"
   ]
  },
  {
   "cell_type": "code",
   "execution_count": null,
   "metadata": {
    "editable": false,
    "hide_input": false
   },
   "outputs": [],
   "source": [
    "qc.apply_qc_thresholds(adata, which=\"var\", thresholds=final_var_thresholds, overwrite=overwrite)"
   ]
  },
  {
   "cell_type": "markdown",
   "metadata": {},
   "source": [
    "#### 4.7.3 - Show data after filtering"
   ]
  },
  {
   "cell_type": "code",
   "execution_count": null,
   "metadata": {
    "editable": false,
    "hide_input": false
   },
   "outputs": [],
   "source": [
    "%matplotlib inline \n",
    "\n",
    "# Plot violins and sliders\n",
    "figure, slider_dict = pl.qc_filter.quality_violin(\n",
    "    adata,\n",
    "    var_columns,\n",
    "    which=\"var\",\n",
    "    ncols=3,\n",
    "    title=\"Gene quality control (after)\",\n",
    "    save=\"gene_filtering_final.png\"\n",
    ")\n",
    "figure"
   ]
  },
  {
   "cell_type": "markdown",
   "metadata": {
    "ExecuteTime": {
     "end_time": "2022-06-13T13:09:34.519228Z",
     "start_time": "2022-06-13T13:09:34.515398Z"
    }
   },
   "source": [
    "#### 4.7.4 - Filter additional marked genes\n",
    "Remove genes that are labeled as e.g. mitochondrial genes."
   ]
  },
  {
   "cell_type": "code",
   "execution_count": null,
   "metadata": {
    "editable": false,
    "hide_input": false
   },
   "outputs": [],
   "source": [
    "# Remove mitochrondrial genes\n",
    "if filter_mito:\n",
    "    print(\"Removing mitochrondrial genes:\")\n",
    "    qc.filter_genes(adata, \"is_mito\", name=\"mito\", overwrite=overwrite)\n",
    "\n",
    "# Remove ribosomal genes\n",
    "if filter_ribo:\n",
    "    print(\"Removing ribosomal genes:\")\n",
    "    qc.filter_genes(adata, \"is_ribo\", name=\"ribo\", overwrite=overwrite)\n",
    "\n",
    "# Remove gender genes\n",
    "if filter_gender:\n",
    "    print(\"Removing gender genes:\")\n",
    "    qc.filter_genes(adata, \"is_gender\", name=\"gender\", overwrite=overwrite)"
   ]
  },
  {
   "cell_type": "markdown",
   "metadata": {},
   "source": [
    "_________"
   ]
  },
  {
   "cell_type": "markdown",
   "metadata": {},
   "source": [
    "### 4.8 - Denoising\n",
    "Remove ambient RNA and technical noise from the count matrix using [scAR](https://www.biorxiv.org/content/10.1101/2022.01.14.476312v4). The tool estimates the ambient profile by averaging cell-free droplets. An autoencoder neural network later corrects the count matrix.\n",
    "<hr style=\"border:1px solid black\"> </hr>"
   ]
  },
  {
   "cell_type": "code",
   "execution_count": null,
   "metadata": {
    "editable": false
   },
   "outputs": [],
   "source": [
    "import scanpy as sc\n",
    "\n",
    "if path_raw_adata:\n",
    "    print(\"Loading raw anndata...\")\n",
    "    adata_raw = sc.read_h5ad(path_raw_adata)\n",
    "    print(\"Denoising data, this will take a while...\")\n",
    "    adata = qc.denoise_data(adata, adata_raw, feature_type='Gene Expression', epochs=epochs,\n",
    "                            verbose=False, save='droplets_kneeplot.pdf', overwrite=overwrite)"
   ]
  },
  {
   "cell_type": "markdown",
   "metadata": {},
   "source": [
    "_________"
   ]
  },
  {
   "cell_type": "markdown",
   "metadata": {},
   "source": [
    "## 5 - Save filtered adata\n",
    "<hr style=\"border:2px solid black\"> </hr>\n",
    "Store the final results"
   ]
  },
  {
   "cell_type": "code",
   "execution_count": null,
   "metadata": {
    "editable": false,
    "hide_input": false
   },
   "outputs": [],
   "source": [
    "adata"
   ]
  },
  {
   "cell_type": "code",
   "execution_count": null,
   "metadata": {
    "editable": false,
    "hide_input": false
   },
   "outputs": [],
   "source": [
    "#Saving the data\n",
    "adata_output = \"anndata_2.h5ad\"\n",
    "utils.adata.save_h5ad(adata, adata_output)"
   ]
  },
  {
   "cell_type": "code",
   "execution_count": null,
   "metadata": {
    "editable": false,
    "hide_input": false
   },
   "outputs": [],
   "source": [
    "sctoolbox.settings.close_logfile()"
   ]
  }
 ],
 "metadata": {
  "kernelspec": {
   "display_name": "sctoolbox",
   "language": "python",
   "name": "sctoolbox"
  },
  "language_info": {
   "codemirror_mode": {
    "name": "ipython",
    "version": 3
   },
   "file_extension": ".py",
   "mimetype": "text/x-python",
   "name": "python",
   "nbconvert_exporter": "python",
   "pygments_lexer": "ipython3",
   "version": "3.12.6"
  },
  "sc_framework": {
   "version": "0.12.0"
  }
 },
 "nbformat": 4,
 "nbformat_minor": 4
}
