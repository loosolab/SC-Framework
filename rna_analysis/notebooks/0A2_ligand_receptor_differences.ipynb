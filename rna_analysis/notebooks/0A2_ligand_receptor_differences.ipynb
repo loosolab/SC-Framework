{
 "cells": [
  {
   "cell_type": "code",
   "execution_count": null,
   "metadata": {
    "editable": false,
    "hide_input": true,
    "init_cell": true
   },
   "outputs": [],
   "source": [
    "from sctoolbox.utils.jupyter import bgcolor, _compare_version\n",
    "\n",
    "# change the background of input cells\n",
    "bgcolor(\"PowderBlue\", select=[2, 4, 6, 8, 10, 12])\n",
    "\n",
    "nb_name = \"0A2_ligand_receptor_differences.ipynb\"\n",
    "\n",
    "_compare_version(nb_name)"
   ]
  },
  {
   "cell_type": "markdown",
   "metadata": {},
   "source": [
    "# 0A2 - Receptor-Ligand Differential Analysis"
   ]
  },
  {
   "cell_type": "markdown",
   "metadata": {},
   "source": [
    "## 1 - Description\n",
    "\n",
    "\n",
    "This notebook is designed to be run after 0A1_ligand_receptor.ipynb.\n",
    "\n",
    "Cell-cell communication plays a crucial role in tissue function, development, and disease progression. When experimental conditions change (e.g., treatment vs. control) or as time progresses, these communication patterns can evolve significantly. This notebook helps identify and visualize these changes in receptor-ligand interactions across:\n",
    "\n",
    "1. Different experimental conditions (e.g., treatment vs. control)\n",
    "2. Different timepoints in a time series experiment\n",
    "\n",
    "By identifying which cell-cell interactions change between conditions or over time, it is possible to:\n",
    "\n",
    "- Understand mechanisms driving different cellular responses\n",
    "- Identify key signaling pathways that respond to experimental interventions\n",
    "- Track the evolution of intercellular communication during processes like development, differentiation, or disease progression\n",
    "\n",
    "The differential analysis computes quantile-ranked differences in receptor-ligand interaction strength and visualizes these differences through network graphs that highlight the most significantly changing interactions."
   ]
  },
  {
   "cell_type": "markdown",
   "metadata": {},
   "source": [
    "____"
   ]
  },
  {
   "cell_type": "markdown",
   "metadata": {},
   "source": [
    "## 2 - Setup"
   ]
  },
  {
   "cell_type": "code",
   "execution_count": null,
   "metadata": {
    "editable": false
   },
   "outputs": [],
   "source": [
    "import sctoolbox.tools.receptor_ligand as rl\n",
    "import sctoolbox.utils as utils\n",
    "import pandas as pd\n",
    "import matplotlib.pyplot as plt\n",
    "from sctoolbox import settings\n",
    "\n",
    "settings.settings_from_config(\"config.yaml\", key=\"0A2\")"
   ]
  },
  {
   "cell_type": "markdown",
   "metadata": {},
   "source": [
    "____"
   ]
  },
  {
   "cell_type": "markdown",
   "metadata": {},
   "source": [
    "## 3 - Load adata"
   ]
  },
  {
   "cell_type": "markdown",
   "metadata": {},
   "source": [
    "Load an annotated AnnData object with cluster annotations and ideally the basic receptor-ligand analysis already performed using the 0A1 notebook. This object should contain different experimental conditions or timepoints to enable differential analysis."
   ]
  },
  {
   "cell_type": "markdown",
   "metadata": {},
   "source": [
    "# <h1><center>⬐ Fill in input data here ⬎</center></h1>"
   ]
  },
  {
   "cell_type": "code",
   "execution_count": null,
   "metadata": {},
   "outputs": [],
   "source": [
    "# Input filename\n",
    "last_notebook_adata = \"anndata_0A1.h5ad\""
   ]
  },
  {
   "cell_type": "code",
   "execution_count": null,
   "metadata": {
    "editable": false
   },
   "outputs": [],
   "source": [
    "adata = utils.adata.load_h5ad(last_notebook_adata)\n",
    "\n",
    "with pd.option_context(\"display.max.rows\", 5, \"display.max.columns\", None):\n",
    "    display(adata)\n",
    "    display(adata.obs)\n",
    "    display(adata.var)"
   ]
  },
  {
   "cell_type": "markdown",
   "metadata": {},
   "source": [
    "____"
   ]
  },
  {
   "cell_type": "markdown",
   "metadata": {},
   "source": [
    "## 4 - Difference Analysis"
   ]
  },
  {
   "cell_type": "markdown",
   "metadata": {},
   "source": [
    "The difference analysis identifies receptor-ligand interactions that change between different conditions or across timepoints. This is crucial for understanding how cell-cell communication adapts to perturbations or evolves during biological processes.\n",
    "The analysis involves:\n",
    "\n",
    "Calculating receptor-ligand interaction scores for each condition or timepoint separately\n",
    "Computing quantile-ranked differences to identify which interactions change most dramatically\n",
    "Visualizing the changing interactions as network graphs\n",
    "\n",
    "The notebook covers two main types of analysis:\n",
    "\n",
    "- Pairwise Analysis: Compare interactions between specific conditions (e.g., treatment vs. control)\n",
    "- Progressive Analysis: Track how interactions evolve across an ordered series (typically timepoints)"
   ]
  },
  {
   "cell_type": "markdown",
   "metadata": {},
   "source": [
    "### 4.1 Pairwise Analysis Between Conditions"
   ]
  },
  {
   "cell_type": "markdown",
   "metadata": {},
   "source": [
    "Pairwise analysis compares receptor-ligand interactions between different experimental conditions to identify which interactions become stronger or weaker. This helps discover signaling pathways that respond to experimental settings.\n",
    "\n",
    "How to Interpret the Network Plots:\n",
    "\n",
    "1. Nodes represent cell type-specific receptor or ligand genes. The shape and color of each node corresponds to a cell type (see the legend on the right side of the plot).\n",
    "2. Edges (arrows) represent receptor-ligand interactions, pointing from ligand to receptor. The color intensity of the edge indicates the magnitude of change in interaction strength between conditions.\n",
    "3. Hub Networks: Genes with many connections (≥ hub_threshold) are displayed separately as \"hubs\". These represent key players that show changed interaction patterns across multiple signaling pathways.\n",
    "4. Quantile rank differences: The colorbar at the bottom indicates the magnitude and direction of change in interaction strength. In positive difference plots (red), interactions are stronger in condition B compared to condition A. In negative difference plots (blue), interactions are stronger in condition A.\n",
    "5. Direction: The arrows always point from ligand to receptor, showing the directionality of the signaling."
   ]
  },
  {
   "cell_type": "markdown",
   "metadata": {},
   "source": [
    "<h1><center>⬐ Fill in input data here ⬎</center></h1>"
   ]
  },
  {
   "cell_type": "code",
   "execution_count": null,
   "metadata": {},
   "outputs": [],
   "source": [
    "# Main parameters for condition comparison\n",
    "condition_columns = ['condition', 'timepoint']  # Columns in adata.obs for hierarchical comparison\n",
    "                                               # First column is primary comparison dimension\n",
    "cluster_column = \"celltype\"   # Column containing cell type/cluster labels\n",
    "gene_column = None           # Column in adata.var with gene symbols (None to use index)\n",
    "normalize = None             # Normalize cluster sizes (None uses max cluster size)\n",
    "\n",
    "save_diff = True  # Save difference tables to disk\n",
    "\n",
    "# Optional filtering to focus on specific conditions, clusters, or genes\n",
    "condition_filters = {}       # Restrict to specific values in condition columns\n",
    "                             # Example: {\"condition\": [\"control\"], \"timepoint\": [\"tp1\", \"tp3\"]}\n",
    "selected_clusters = None     # Restrict to specific clusters (list of names)\n",
    "selected_genes = None        # Restrict to specific genes (list of names)\n",
    "\n",
    "# Expression and interaction filtering - it is recommended to refreine from filtering before difference calculation\n",
    "min_perc = None                 # Minimum % of cells expressing each gene (0-100)\n",
    "interaction_perc = None       # Percentile threshold for interactions (0-100)\n",
    "\n",
    "# Data layer (advanced)\n",
    "# decide which processing state of the data should be used for computation\n",
    "# available layers can be seen above, e.g. \"norm\" to use normalized data\n",
    "# it is recommended to use raw or normalized data for statistical testing\n",
    "layer = \"norm\""
   ]
  },
  {
   "cell_type": "code",
   "execution_count": null,
   "metadata": {
    "editable": false
   },
   "outputs": [],
   "source": [
    "# Calculate differences between conditions\n",
    "rl.calculate_condition_differences(\n",
    "    adata=adata,\n",
    "    condition_columns=condition_columns,\n",
    "    cluster_column=cluster_column,\n",
    "    condition_filters=condition_filters,\n",
    "    cluster_filter=selected_clusters,\n",
    "    gene_filter=selected_genes,\n",
    "    gene_column=gene_column,\n",
    "    normalize=normalize,\n",
    "    min_perc=min_perc,\n",
    "    interaction_perc=interaction_perc,\n",
    "    inplace=True,\n",
    "    overwrite=True,\n",
    "    save_diff=save_diff,\n",
    "    layer=layer\n",
    ")"
   ]
  },
  {
   "cell_type": "markdown",
   "metadata": {},
   "source": [
    "<h1><center>⬐ Fill in input data here ⬎</center></h1>"
   ]
  },
  {
   "cell_type": "code",
   "execution_count": null,
   "metadata": {},
   "outputs": [],
   "source": [
    "# Visualization parameters\n",
    "n_top = 100                 # Number of top differential interactions to show\n",
    "figsize = (24, 18)          # Figure size in inches\n",
    "dpi = 300                   # Resolution of the figure\n",
    "split_by_direction = True   # Create separate plots for up/down-regulated interactions\n",
    "hub_threshold = 4           # Threshold that defines a hub\n",
    "save_prefix = \"condition_comparison_networks\"  # Prefix for saved figures\n",
    "save_format = \"pdf\"         # Format of saved figures"
   ]
  },
  {
   "cell_type": "code",
   "execution_count": null,
   "metadata": {
    "editable": false
   },
   "outputs": [],
   "source": [
    "# Visualize differences between conditions as networks\n",
    "figures = rl.plot_all_condition_differences(\n",
    "    adata=adata,\n",
    "    n_top=n_top,\n",
    "    hub_threshold=hub_threshold,\n",
    "    figsize=figsize,\n",
    "    dpi=dpi,\n",
    "    split_by_direction=split_by_direction,\n",
    "    save = (save_prefix, save_format)\n",
    ")"
   ]
  },
  {
   "cell_type": "markdown",
   "metadata": {},
   "source": [
    "____"
   ]
  },
  {
   "cell_type": "markdown",
   "metadata": {},
   "source": [
    "### 4.2 - Progressive Analysis Across Timepoints"
   ]
  },
  {
   "cell_type": "markdown",
   "metadata": {},
   "source": [
    "Progressive analysis tracks how receptor-ligand interactions evolve over a series of ordered points. This helps understand the dynamics of cell-cell communication during processes like disease progression."
   ]
  },
  {
   "cell_type": "markdown",
   "metadata": {},
   "source": [
    "<h1><center>⬐ Fill in input data here ⬎</center></h1>"
   ]
  },
  {
   "cell_type": "code",
   "execution_count": null,
   "metadata": {},
   "outputs": [],
   "source": [
    "# Main parameters for condition comparison\n",
    "condition_columns = ['timepoint', 'condition']  # First column must be the time dimension,\n",
    "                                                # i.e. the interaction differences will be calculated\n",
    "                                                # between the values of the first condition column in the list\n",
    "                                                # with respect to all combination of the subsequent conditions.\n",
    "\n",
    "                                                \n",
    "cluster_column = \"celltype\"   # Column containing cell type/cluster labels\n",
    "\n",
    "time_column = 'timepoint' # Column containing the timepoints\n",
    "time_order = ['tp1', 'tp2', 'tp3'] # Define the ordering of the timepoints\n",
    "\n",
    "gene_column = None           # Column in adata.var with gene symbols (None to use index)\n",
    "normalize = None             # Normalize cluster sizes (None uses max cluster size)\n",
    "\n",
    "save_diff = True  # Save difference tables to disk\n",
    "\n",
    "# Optional filtering to focus on specific conditions, clusters, or genes\n",
    "condition_filters = {}       # Restrict to specific values in condition columns\n",
    "                             # Example: {\"condition\": [\"control\"], \"timepoint\": [\"tp1\", \"tp3\"]}\n",
    "selected_clusters = None     # Restrict to specific clusters (list of names)\n",
    "selected_genes = None        # Restrict to specific genes (list of names)\n",
    "\n",
    "# Expression and interaction filtering - it is recommended to refreine from filtering before difference calculation\n",
    "min_perc = None                 # Minimum % of cells expressing each gene (0-100)\n",
    "interaction_perc = None       # Percentile threshold for interactions (0-100)\n",
    "\n",
    "inplace = True\n",
    "overwrite = True"
   ]
  },
  {
   "cell_type": "code",
   "execution_count": null,
   "metadata": {
    "editable": false
   },
   "outputs": [],
   "source": [
    "rl.calculate_condition_differences(\n",
    "    adata=adata,\n",
    "    condition_columns=condition_columns,\n",
    "    cluster_column=cluster_column,\n",
    "    time_column=time_column,\n",
    "    time_order=time_order,\n",
    "    condition_filters=condition_filters,\n",
    "    min_perc=min_perc,\n",
    "    inplace=inplace,\n",
    "    overwrite=overwrite,\n",
    "    layer=layer\n",
    ")"
   ]
  },
  {
   "cell_type": "markdown",
   "metadata": {},
   "source": [
    "<h1><center>⬐ Fill in input data here ⬎</center></h1>"
   ]
  },
  {
   "cell_type": "code",
   "execution_count": null,
   "metadata": {},
   "outputs": [],
   "source": [
    "# Visualization parameters\n",
    "n_top = 100                 # Number of top differential interactions to show\n",
    "figsize = (24, 18)          # Figure size in inches\n",
    "dpi = 300                   # Resolution of the figure\n",
    "split_by_direction = True   # Create separate plots for up/down-regulated interactions\n",
    "hub_threshold = 4            # Threshold that defines a hub\n",
    "save_prefix = \"timecourse_treatment\"  # Prefix for saved figures\n",
    "save_format = \"pdf\"\n",
    "n_cols = 4 # Number of subplot columns"
   ]
  },
  {
   "cell_type": "code",
   "execution_count": null,
   "metadata": {
    "editable": false
   },
   "outputs": [],
   "source": [
    "# Visualize the time-based differences\n",
    "figures = rl.plot_all_condition_differences(\n",
    "    adata=adata,\n",
    "    n_top=n_top, \n",
    "    split_by_direction=True,\n",
    "    hub_threshold=hub_threshold,\n",
    "    color_palette='tab20',\n",
    "    n_cols=n_cols,                     \n",
    "    show=True,\n",
    "    save=(save_prefix, save_format)\n",
    ")"
   ]
  },
  {
   "cell_type": "markdown",
   "metadata": {},
   "source": [
    "____"
   ]
  },
  {
   "cell_type": "markdown",
   "metadata": {},
   "source": [
    "## 4.3 Plot specfic interactions over time"
   ]
  },
  {
   "cell_type": "markdown",
   "metadata": {},
   "source": [
    "If specific interactions of interest are detected in the network graphs, it is possible to plot the evolution of the receptor and ligand expression levels over different timepoints for the interactions of interest.\n",
    "\n",
    "How to Interpret the Bar Plots:\n",
    "\n",
    "These bar plots show the raw expression levels of specific receptor-ligand pairs across timepoints, providing a more detailed view of how individual interactions change over time.\n",
    "\n",
    "1. Bar Colors: Blue bars represent receptor expression, orange bars represent ligand expression. (Default settings.)\n",
    "2. X-axis: Shows the different timepoints in chronological order.\n",
    "3. Y-axis: Shows the (mean) expression level of the gene in the specified cell type."
   ]
  },
  {
   "cell_type": "markdown",
   "metadata": {},
   "source": [
    "<h1><center>⬐ Fill in input data here ⬎</center></h1>"
   ]
  },
  {
   "cell_type": "code",
   "execution_count": null,
   "metadata": {},
   "outputs": [],
   "source": [
    "# Define interactions of interest\n",
    "interactions = [\n",
    "    # (receptor_gene, receptor_cluster, ligand_gene, ligand_cluster)\n",
    "    ('CD44', 'LC', 'TIMP3', 'FB')\n",
    "]\n",
    "\n",
    "cluster_column = \"celltype\"   # Column containing cell type/cluster labels\n",
    "time_column = 'timepoint' # Column containing the timepoints\n",
    "time_order = ['tp1', 'tp2', 'tp3'] # Define the ordering of the timepoints\n",
    "\n",
    "gene_column = None \n",
    "figsize = None # Figure dimensions in inches.\n",
    "dpi = 300 # Figure resolution.\n",
    "save = None # Output filename.\n",
    "title = None # Overall figure title.\n",
    "n_cols = 2 # Number of columns in the grid layout.\n",
    "receptor_color = None # Color for receptor bars.\n",
    "                      # If None, uses the first color from seaborn's default palette.\n",
    "ligand_color = None   # Color for ligand bars.\n",
    "                      # If None, uses the second color from seaborn's default palette.\n"
   ]
  },
  {
   "cell_type": "code",
   "execution_count": null,
   "metadata": {
    "editable": false
   },
   "outputs": [],
   "source": [
    "figure = rl.plot_interaction_timeline(\n",
    "    adata=adata,\n",
    "    interactions=interactions,\n",
    "    timepoint_column=time_column,\n",
    "    cluster_column=cluster_column,\n",
    "    time_order=time_order,\n",
    "    layer=layer,\n",
    "    save=save\n",
    ")"
   ]
  },
  {
   "cell_type": "markdown",
   "metadata": {},
   "source": [
    "## 5 - Saving adata"
   ]
  },
  {
   "cell_type": "markdown",
   "metadata": {},
   "source": [
    "Save the AnnData object with all the differential receptor-ligand analysis results for future reference or further analysis."
   ]
  },
  {
   "cell_type": "code",
   "execution_count": null,
   "metadata": {
    "editable": false
   },
   "outputs": [],
   "source": [
    "utils.adata.save_h5ad(adata, \"anndata_0A2.h5ad\")"
   ]
  },
  {
   "cell_type": "code",
   "execution_count": null,
   "metadata": {
    "editable": false
   },
   "outputs": [],
   "source": [
    "settings.close_logfile()"
   ]
  }
 ],
 "metadata": {
  "kernelspec": {
   "display_name": "sctoolbox",
   "language": "python",
   "name": "sctoolbox"
  },
  "language_info": {
   "codemirror_mode": {
    "name": "ipython",
    "version": 3
   },
   "file_extension": ".py",
   "mimetype": "text/x-python",
   "name": "python",
   "nbconvert_exporter": "python",
   "pygments_lexer": "ipython3",
   "version": "3.12.9"
  }
 },
 "nbformat": 4,
 "nbformat_minor": 2
}
