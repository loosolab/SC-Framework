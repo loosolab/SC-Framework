{
 "cells": [
  {
   "cell_type": "code",
   "execution_count": null,
   "id": "728e1d46",
   "metadata": {
    "editable": false,
    "hide_input": true,
    "init_cell": true
   },
   "outputs": [],
   "source": [
    "from sctoolbox.utils.jupyter import bgcolor, _compare_version\n",
    "\n",
    "# change the background of input cells\n",
    "bgcolor(\"PowderBlue\", select=[2, 4, 5])\n",
    "\n",
    "nb_name = \"99-report.ipynb\"\n",
    "_compare_version(nb_name)"
   ]
  },
  {
   "cell_type": "markdown",
   "id": "c4cec3c5",
   "metadata": {},
   "source": [
    "# 01 - Analysis report\n",
    "<hr style=\"border:2px solid black\"> </hr>"
   ]
  },
  {
   "cell_type": "markdown",
   "id": "3c0c3a6d",
   "metadata": {},
   "source": [
    "## 1 - Description\n",
    "This notebook creates an analysis report PowerPoint by collecting key information, e.g. plots, versions and thresholds, created during the individual analysis steps and combines them into a comprehensive report detailing the whole analysis."
   ]
  },
  {
   "cell_type": "markdown",
   "id": "613ede07",
   "metadata": {},
   "source": [
    "______"
   ]
  },
  {
   "cell_type": "markdown",
   "id": "f5370836",
   "metadata": {
    "ExecuteTime": {
     "end_time": "2025-07-24T06:21:23.347393Z",
     "start_time": "2025-07-24T06:21:23.344391Z"
    }
   },
   "source": [
    "## 2 - Setup"
   ]
  },
  {
   "cell_type": "code",
   "execution_count": null,
   "id": "810050e9",
   "metadata": {
    "editable": false
   },
   "outputs": [],
   "source": [
    "from pathlib import Path\n",
    "import sctoolbox.tools.report as reporter"
   ]
  },
  {
   "cell_type": "markdown",
   "id": "e75188d9",
   "metadata": {},
   "source": [
    "______"
   ]
  },
  {
   "cell_type": "markdown",
   "id": "d488738d",
   "metadata": {},
   "source": [
    "## 3 - Report options and content selection\n",
    "<hr style=\"border:2px solid black\"> </hr>"
   ]
  },
  {
   "cell_type": "markdown",
   "id": "950d391d",
   "metadata": {},
   "source": [
    "### 3.1 Global report settings\n",
    "The following box provides options concerning the whole report.\n",
    "\n",
    "|     Name     | Description | Default |\n",
    "|--------------|-------------|---------|\n",
    "|`dataset_name`|The name of the dataset. Will be displayed on the title slide.|-|\n",
    "| `report_dir` |The directory that contains all of the report information.|`../report/`|\n",
    "|  `template`  |A PowerPoint providing template slides. Used for the slide design.|`scATAC-template.pptx`|\n",
    "| `slide_size` |Set the slide format. Can be “standard”, “widescreen”, “a4-portait”, “a4-landscape” or a tuple of numbers indicating (height, width) in cm.|`widescreen`|\n",
    "| `max_pixels` |The maximum number of pixels an image is allowed to have. Images exceeding the size are automatically scaled down.|`5e7`|\n",
    "|  `file_ext`  | A list of the file extensions that will be used to fill the slides with content.|`[\"png\", \"md\", \"txt\"]`|\n",
    "\n",
    "<h1><center>⬐ Fill in input data here ⬎</center></h1>"
   ]
  },
  {
   "cell_type": "code",
   "execution_count": null,
   "id": "af2a76c7",
   "metadata": {},
   "outputs": [],
   "source": [
    "dataset_name = \"ext12345\"\n",
    "\n",
    "# advanced options\n",
    "report_dir = \"../report/\"\n",
    "template = \"scATAC-template.pptx\"\n",
    "slide_size = \"widescreen\"\n",
    "max_pixels = 5e7\n",
    "file_ext = [\"png\", \"md\", \"txt\"]"
   ]
  },
  {
   "cell_type": "markdown",
   "id": "0098f38f",
   "metadata": {
    "ExecuteTime": {
     "end_time": "2025-07-24T06:47:44.706545Z",
     "start_time": "2025-07-24T06:47:44.703593Z"
    }
   },
   "source": [
    "### 3.2 Sections\n",
    "Select the sections that should be displayed in the final PowerPoint report.\n",
    "\n",
    "**No changes required unless the section order or the displayed section names need changes or a new section should be included.**"
   ]
  },
  {
   "cell_type": "code",
   "execution_count": null,
   "id": "172275e7",
   "metadata": {
    "editable": false
   },
   "outputs": [],
   "source": [
    "print(\"Found the following sections to report:\")\n",
    "for sec in sorted(list(Path(report_dir).glob(\"*\"))):\n",
    "    if not Path(sec).is_dir():\n",
    "        continue\n",
    "\n",
    "    print(f\"    - {sec.name}\")"
   ]
  },
  {
   "cell_type": "markdown",
   "id": "266a4691",
   "metadata": {},
   "source": [
    "**Select** and **order** the sections of the final report PowerPoint by editing the dictionary below.  \n",
    "\n",
    "`\"<section_id>\": \"<title displayed in the slide>\"`  \n",
    "The *section_id* has to be in the list above. Sections that are specified below but not available are ignored."
   ]
  },
  {
   "cell_type": "markdown",
   "id": "c1c894e9",
   "metadata": {},
   "source": [
    "<h1><center>⬐ Fill in input data here ⬎</center></h1>"
   ]
  },
  {
   "cell_type": "code",
   "execution_count": null,
   "id": "a80dc827",
   "metadata": {},
   "outputs": [],
   "source": [
    "# a dict to define section order and the displayed titles\n",
    "section_titles = {\n",
    "    \"01_assembly\": \"Dataset Assembly\",\n",
    "    \"02_QC\": \"Quality Control\",\n",
    "    \"03_batch_correction\": \"Normalization and Noise Reduction\",\n",
    "    \"04_clustering\": \"Embedding and Clustering\",\n",
    "    \"group_markers\": \"Group Marker prediction\",\n",
    "    \"annotation\": \"Cell Type Annotation\",\n",
    "    \"GSEA\": \"Gene Set Enrichment Analysis\",\n",
    "    \"proportion_analysis\": \"Proportion Analysis\",\n",
    "    \"pseudotime_analysis\": \"Pseudotime Trajectory Analysis\"\n",
    "}"
   ]
  },
  {
   "cell_type": "markdown",
   "id": "6d5e031f",
   "metadata": {},
   "source": [
    "### 3.3 Slide options\n",
    "<hr style=\"border:1px solid black\"> </hr>\n",
    "The dictionary below holds all the information needed to format and populate the slides of the report.\n",
    "\n",
    "**No changes needed unless slide order or slide content needs to be changed or new slides are required.**\n",
    "\n",
    "#### Structure\n",
    "The top-level keys are the *section ids*, the corresponding value can either be a dictionary or a list containing dictionaries. The bottom-level dictionary provides the slide options. Available slide options can be found [here (PowerPointReport.add_slide)](https://loosolab.pages.gwdg.de/software/pptreport/API/index.html#pptreport.powerpointreport.PowerPointReport.add_slide).\n",
    "\n",
    "<h1><center>⬐ Fill in input data here ⬎</center></h1>"
   ]
  },
  {
   "cell_type": "code",
   "execution_count": null,
   "id": "75608139",
   "metadata": {},
   "outputs": [],
   "source": [
    "slide_section_args = {\n",
    "    \"01_assembly\": {\n",
    "        \"title\": \"Dataset Assembly\",\n",
    "        \"content\": [\n",
    "            \"../report/01_assembly/01_assembly.png\",\n",
    "            \"../report/01_assembly/01_dataset_overview.md\",\n",
    "            \"../report/01_assembly/01_obs.png\",\n",
    "            \"../report/01_assembly/01_var.png\"\n",
    "        ],\n",
    "        \"notes\": [\n",
    "            \"A dataset may be constructed from multiple parts (samples, sequenceing batches, etc.). The first table shows the individual parts and their location from which the dataset is constructed.\",\n",
    "            \"\\n\",\n",
    "            \"The text provides a short overview of the dataset dimensions and available information. In a typical scATAC experiment each observation translates to a cell and each variable to an open chromatin region (peak). This means that observation information contains information about each cell, e.g. the timepoint a cell belongs to. Likewise, provides variable information details about individual peaks, for example how many cells had a peak at a certain dna location.\",\n",
    "            \"Datasets can contain additional layers, i.e. data matrixes, such as raw expression or normalized expression values.\"\n",
    "            \"The last two tables show a detailed view on the observation (obs) and variable (var) of the dataset.\",\n",
    "        ],\n",
    "        \"content_alignment\": \"left\",\n",
    "        \"content_layout\": \"vertical\"\n",
    "    },\n",
    "    \"02_QC\": [\n",
    "        {\n",
    "            \"title\": \"Cell filter I\",\n",
    "            \"content\": \"../report/02_QC/01*\",\n",
    "            \"notes\": [\n",
    "                \"Low quality cells are removed from the dataset by applying thresholds to quality metrics. This is either done using global thresholds or thresholds for each individual sample.\",\n",
    "                \"\\n\",\n",
    "                \"Common quality metrics:\",\n",
    "                \"fld_score\",\n",
    "                \"A score describing the fit of the fragment length distribution to the expected nucleosome driven fragment length distribution. Bigger values are better.\",\n",
    "                \"mean_fragment_size\",\n",
    "                \"The mean size of the DNA fragments of each cell. Good quality data shows an enrichment for nucleosome free (<147bp) or low number nucleosome fragments.\",\n",
    "                \"n_fragments\",\n",
    "                \"The number of DNA fragments per cell. A lower bound should consider the trade of between a more lenient approach that will keep rarer cell types and low quality cells alike and a stricter threshold that filters more of both groups. The upper threshold should filter outliers as these are likely to be artifacts. Should correlate with n_features.\",\n",
    "                \"fold_change_promoters_fragments\",\n",
    "                \"The comparison of fragments within promoter regions vs. outside of promoter regions. A higher value (less fragments outside promoters) is preferable as fragments outside of promoters are considered noise.\",\n",
    "                \"frip\",\n",
    "                \"Fraction of reads in peaks. The fraction of reads that are located within the called peaks (0-1). Similar to fold_change_promoters_fragments higher is better as a high number of reads outside of the called peaks is considered a sign for bad quality.\",\n",
    "                \"tsse_score\",\n",
    "                \"Transcription start site enrichment score in other words a score that describes the proximity of signal to transcription start sites. More is better. However, extremely high values should be filtered as they are likely artifacts. The lower bound should be >0 to remove low quality cells.\",\n",
    "                \"n_features\",\n",
    "                \"The number of features (peaks) found within the respective cell. This should correlate with n_fragments (the detected DNA fragments per cell). Needs similar consideration as n_fragments.\",\n",
    "                \"log1p_n_features\",\n",
    "                \"Same as n_features but on a logarithmic scale. See above.\"\n",
    "            ]\n",
    "        },\n",
    "        {\n",
    "            \"title\": \"Cell filter II\",\n",
    "            \"content\": \"../report/02_QC/02*\",\n",
    "            \"notes\": \"This plot provides a pairwise view of the quality metrics, their distributions, and the respective thresholds.\"\n",
    "        },\n",
    "        {\n",
    "            \"title\": \"Cell filter III\",\n",
    "            \"content\": [\n",
    "                \"../report/02_QC/03_cell_filter_impact.png\",\n",
    "                \"../report/02_QC/03_doublet_info.txt\",\n",
    "                \"../report/02_QC/03_cell_filter_info.txt\"\n",
    "            ],\n",
    "            \"notes\": [\n",
    "                \"The UpSetPlot provides the impact each threshold has on the dataset. This is shown for each metric alone and in combination with other metrics to estimate the overlap between the filters.\",\n",
    "                \"The final amount of filtered cells is given in the text.\",\n",
    "                \"The dataset may also be filtered for doublets, observations that contain more than one cell, to avoid skewing the following analysis.\"\n",
    "            ],\n",
    "            \"content_layout\": \"vertical\",\n",
    "            \"height_ratios\": [0.8, 0.1, 0.1]\n",
    "        },\n",
    "        {\n",
    "            \"title\": \"Feature filter and Highly Variable Features\",\n",
    "            \"content\": \"../report/02_QC/04*\",\n",
    "            \"content_alignment\": \"left\",\n",
    "            \"notes\": [\n",
    "                \"Depending on the experiment, open chromatin regions (aka features) may be removed if they are located on mitochondrial or gender chromosomes.\",\n",
    "                \"Highly variable features (HFVs) are regions that show a lot of change between cells of the dataset. They are considered important as they tentatively drive the observed biological changes. Using the HFVs in later steps (e.g. embedding calculation) can be viewed as a noise reduction measure.\"\n",
    "            ]\n",
    "        }\n",
    "    ],\n",
    "    \"03_batch_correction\": [\n",
    "        {\n",
    "            \"title\": \"LSI - component subset\",\n",
    "            \"content\": \"../report/03_batch_correction/01*\",\n",
    "            \"notes\": [\n",
    "                \"scATAC is due to its elevated sparcity typically normalized using the term frequency-inverse document frequencies (TF-IDF). It scores each variable (here open chromatin region) by their importance by comparing the frequency of a variable within a cell against the global occurrence over all cells thus highlighting cell defining variables.\",\n",
    "                \"After normalization a dimension reduction is computed, latent semantic indexing (LSI), which analogous to the principal component analysis (PCA), in scRNA, reorganizes the data into components to reduce the dimensionality.\",\n",
    "                \"The plot shows the first two components with each dot (cell) colored for quality metrics.\",\n",
    "                \"There should be no gradient or grouping visible to provide a clean biological signal.\",\n",
    "                \"Each component is evaluated based on its correlation to quality metrics and variance. Components exceeding one of the two thresholds are filtered from the dataset, indicated as a lightgrey bar.\",\n",
    "                \"Removing components helps to reduce technical or other unwanted noise to create a clean biological signal.\"\n",
    "            ]\n",
    "            \n",
    "        },\n",
    "        {\n",
    "            \"title\": \"Batch correction\",\n",
    "            \"content\": \"../report/03_batch_correction/02*\",\n",
    "            \"width_ratios\": [0.4, 0.6],\n",
    "            \"notes\": [\n",
    "                \"Batch correction aims to reduce technical differences in the dataset. For example, two separate sequencing runs may show as two distinct groups despite being biologically similar. There are multiple batch correction methods available with different concepts causing them to perform differently for each dataset. The plot compares multiple batch correction methods (columns) to select the optimal one for the dataset.\",\n",
    "                \"The plot shows LSIs and preliminary UMAPs to assess how well the batches are mixed after batch correction. The bottom plots show the LISI score, a measurement for the 'mixedness' of the batches (maximum = number of batches). A high LISI is not a sufficient indicator, the LSI and UMAP shapes should be included into the consideration as well.\"\n",
    "            ]\n",
    "        }\n",
    "        \n",
    "    ],\n",
    "    \"04_clustering\": [\n",
    "        {\n",
    "            \"title\": \"Embedding I\",\n",
    "            \"content\": \"../report/04_clustering/01*\",\n",
    "            \"width_ratios\": [0.7, 0.3],\n",
    "            \"notes\": [\n",
    "                \"The final dimension reduction step is to compute a 2D embedding of the dataset. This can either be a Uniform Manifold Approximation and Projection (UMAP) or distributed stochastic neighbor embedding (t-SNE).\",\n",
    "                \"Both methods rely on two main parameters to compute the respective embedding, which are shown in the table. The plot shows the embedding colored for various quality measurements. Ideally, there shouldn't be a gradient or grouping visible, unless expected through the experimental design.\",\n",
    "                \"Note: Dot = Cell\"\n",
    "            ]\n",
    "        },\n",
    "        {\n",
    "            \"title\": \"Embedding II\",\n",
    "            \"content\": \"../report/04_clustering/02*\",\n",
    "            \"notes\": \"This plot shows how the cells for each sample/ condition are distributed across the dataset.\"\n",
    "        },\n",
    "        {\n",
    "            \"title\": \"Clustering I\",\n",
    "            \"content\": \"../report/04_clustering/03*\",\n",
    "            \"notes\": \"The embedding colored for sample/ condition (left) and cells assigned to clusters (right). Clustering is typically done using the leiden algorithm.\"\n",
    "        },\n",
    "        {\n",
    "            \"title\": \"Clustering II\",\n",
    "            \"content\": \"../report/04_clustering/04*\",\n",
    "            \"notes\": [\n",
    "                \"Here, the number of cells per clusters is shown. The color shows the proportion of cells assigned to samples/ conditions.\",\n",
    "                \"Small clusters or clusters predominantly from one sample/ condition may be outliers or part of a bigger cluster, as such, they may be removed or combined with another cluster. However, this is tied to the expectations of the individual dataset and must be decided on a case-by-case basis.\"\n",
    "            ]\n",
    "        }\n",
    "    ],\n",
    "    \"group_markers\": [\n",
    "        {\n",
    "            \"title\": \"Top Marker Features\",\n",
    "            \"content_layout\": \"vertical\",\n",
    "            \"notes\": [\n",
    "                \"The top marker genes (or peaks) for each group, e.g. a clustering or cell types, presented in heatmap and dotplot style.\",\n",
    "                \"Good quality marker are exclusively active in one group, meaning they show up in only one row of the plots.\",\n",
    "                \"A dataset with groups that are well separated by markers shows a 'stair-like' pattern in the plots.\",\n",
    "                \"Groups with shared markers might be combined to provide better separated groups.\"\n",
    "            ]\n",
    "        },\n",
    "        {\n",
    "            \"title\": \"Top Marker Expression per Group I\",\n",
    "            \"notes\": [\n",
    "                \"The top marker for each group (row). The first embedding shows the location of the group and the following plots show the respective expression binned into hexagonal tiles.\"\n",
    "            ]\n",
    "        },\n",
    "        {\n",
    "            \"title\": \"Top Marker Expression per Group II\",\n",
    "            \"notes\": [\n",
    "                \"The top marker for each group (row). The first embedding shows the location of the group and the following plots show which cells express the marker.\"\n",
    "            ]\n",
    "        },\n",
    "        {\n",
    "            \"title\": \"Features of Interest I\",\n",
    "            \"notes\": \"The mean expression of manually selected features and a separate embedding showing the expression of each feature summarized into hexagonal tiles.\"\n",
    "        },\n",
    "        {\n",
    "            \"title\": \"Features of Interest II\",\n",
    "            \"notes\": [\n",
    "                \"The expression of the manually selected feature next to each group (row).\",\n",
    "                \"The first embedding shows the location of the group and the following plots show the respective feature expression binned into hexagonal tiles.\"\n",
    "            ]\n",
    "        },\n",
    "        {\n",
    "            \"title\": \"Features of Interest III\",\n",
    "            \"notes\": [\n",
    "                \"The expression of the manually selected genes next to each group (row).\",\n",
    "                \"The first embedding shows the location of the group and the following plots show which cells express the feature.\"\n",
    "            ]\n",
    "        },\n",
    "        {\n",
    "            \"title\": \"Condition Markers\",\n",
    "            \"notes\": [\n",
    "                \"This slide shows markers that separate the condition within a group. A dotplot is shown for each group where condition markers are found.\"\n",
    "            ]\n",
    "        },\n",
    "    ],\n",
    "    \"annotation\": [\n",
    "        {\n",
    "            \"title\": \"Cell Type Annotation\",\n",
    "            \"content\": [\n",
    "                \"../report/annotation/01_marker_genes_*\",\n",
    "                \"../report/annotation/01_Comparison_of_cell_type_annotations.png\"\n",
    "            ],\n",
    "            \"content_layout\": \"vertical\",\n",
    "            \"notes\": [\n",
    "                \"The dotplot shows the groups to assign cell types and their respective top gene markers.\",\n",
    "                \"The table shows different annotation versions (columns) based on different algorithms. The Annotation is either based on SCSA or on the SC-Framework internal marker repo (MR).\"\n",
    "            ]\n",
    "        },\n",
    "        {\n",
    "            \"title\": \"Cell Type Annotation\",\n",
    "            \"notes\": [\n",
    "                \"The first embedding is colored for the initial groups, while the following embeddings show the different annotation versions from the previous slides.\"\n",
    "            ]\n",
    "        }\n",
    "    ],\n",
    "    \"GSEA\": [\n",
    "        {\n",
    "            \"title\": \"Top Pathways per Group\",\n",
    "            \"notes\": [\n",
    "                \"The dotplot shows the top enriched pathways per cluster. The size of the dot indicates the fraction of genes in the cluster that match the pathway and the color of the dot indicates statistical significance (higher is better).\"\n",
    "            ]\n",
    "        },\n",
    "        {\n",
    "            \"title\": \"Pathway related Genes\",\n",
    "            \"notes\": [\n",
    "                \"The term dotplot focuses on a single term/pathway and thus shows individual genes instead of pathways on the y-axis. A Z-Score is applied to the mean gene expression per cluster to highlight differences in expression between the clusters (x-axis).\",\n",
    "                \"Duplicate genes, e.g. 'RELA', 'RELA_1', 'RELA_2', etc., may occur when multiple genomic locations are assigned to the same gene.\"\n",
    "            ]\n",
    "        },\n",
    "        {\n",
    "            \"title\": \"Pathway Gene-sharing Network\",\n",
    "            \"notes\": \"The network plot shows connections between enriched pathways per cluster. The node size corresponds to the percentage of gene overlap in a certain term of interest. The colour of the node corresponds to the significance of the enriched terms and the edge size corresponds to the number of genes that overlap between two connected nodes.\"\n",
    "        }\n",
    "    ],\n",
    "    \"proportion_analysis\": [\n",
    "        {\n",
    "            \"title\": \"Proportion Analysis\",\n",
    "            \"notes\": [\n",
    "                \"The table shows the proportions for each group of the dataset (rows) split by the conditions.\",\n",
    "                \"\\n\",\n",
    "                \"Column descriptions:\",\n",
    "                \"baseline_props:\tThe proportion of cells belonging to the respective group.\",\n",
    "                \"mean_props_*:\t\tThe proportion of cells belonging to the respective group and condition.\",\n",
    "                \"t_/f_statistics:\t\tt-test or ANOVA statistical significance. Higher means bigger difference between conditions (higher is better).\",\n",
    "                \"p_values:\t\tSignificance of proportional changes between conditions.\",\n",
    "                \"adjusted_p_values:\tSignificance corrected for the number of groups.\"\n",
    "            ]\n",
    "        },\n",
    "        {\n",
    "            \"title\": \"Proportion Analysis\",\n",
    "            \"notes\": [\n",
    "                \"The plots show the proportion (amount) of cells of each group (e.g. cell type) allocated to each of the conditions. The p-value on top of each plot describes whether there is a significant change in proportion between any of the conditions. In case there are no replicates Scanpro will create simulated replicates (similar to random subsamples) to improve statistical robustness. The replicates are either shown as separate entities or as a box-distribution. E.g. for a dataset where clustering_col = 'celltype' and condition_col = 'injury' a plot with low p-value can be interpreted as 'Cell Type X shows a high change in the number of cells between injured and healthy' and a high p-value can be interpreted as 'Cell Type Y shows a low change in the number of cells between injured and healthy'.\"\n",
    "            ]\n",
    "        },\n",
    "        {\n",
    "            \"title\": \"Proportion Analysis\",\n",
    "            \"notes\": [\n",
    "                \"The plots show the proportion (amount) of cells of each group (e.g. cell type) allocated to each of the conditions. The p-value on top of each plot describes whether there is a significant change in proportion between any of the conditions. In case there are no replicates Scanpro will create simulated replicates (similar to random subsamples) to improve statistical robustness. The replicates are either shown as separate entities or as a box-distribution. E.g. for a dataset where clustering_col = 'celltype' and condition_col = 'injury' a plot with low p-value can be interpreted as 'Cell Type X shows a high change in the number of cells between injured and healthy' and a high p-value can be interpreted as 'Cell Type Y shows a low change in the number of cells between injured and healthy'.\"\n",
    "            ]\n",
    "        }\n",
    "    ],\n",
    "    \"pseudotime_analysis\": [\n",
    "        {\n",
    "            \"title\": \"Trajectory and Root Selection\",\n",
    "            \"notes\": [\n",
    "                \"A principal graph is inferred from the embedding. Cells are assigned to a node by a value between 0 and 1, which allows the use of probabilistic mappings to account for variability. In case of the clustering showing cell types this can be interpreted as potential differentiation paths a cell could take. However, they are not yet in a pseudotime context so there is no direction in the presented graph.\",\n",
    "                \"The pseudotime start point is either defined as one of the nodes or the expression strength and density of a gene.\"\n",
    "            ]\n",
    "        },\n",
    "        {\n",
    "            \"title\": \"Pseudotime Trajectory I\",\n",
    "            \"notes\": \"The same graph as before but with the directions defined through the previously selected root.\"\n",
    "        },\n",
    "        {\n",
    "            \"title\": \"Pseudotime Trajectory II\",\n",
    "            \"notes\": [\n",
    "                \"1. Segments are edges (or branches) in the trajectory tree or graph. Each segment represents a developmental transition between two milestones (nodes), corresponding to cells that are transitioning between states.\",\n",
    "                \"2. The milestones are the nodes of the trajectory tree. Each milestone represents a key point or “state” during the differentiation process.\",\n",
    "                \"3. The pseudotime values defines potential cell trajectories based on the root as starting points. The grey area is the starting location. The time progresses from light to dark red.\",\n",
    "                \"4. The grouping is shown as a reference to the other plots to identify e.g. potential biological differentiation paths.\"\n",
    "            ]\n",
    "        },\n",
    "        {\n",
    "            \"title\": \"Pseudotime Trajectory III\",\n",
    "            \"notes\": [\n",
    "                \"The dendrogram shows the branching of the segments as depicted in the previous slide.\",\n",
    "                \"The dendrogram is colored by the selected grouping to e.g. show the emergence of cell types over pseudotime.\"\n",
    "            ]\n",
    "        }\n",
    "    ]\n",
    "}"
   ]
  },
  {
   "cell_type": "markdown",
   "id": "bd38952f",
   "metadata": {},
   "source": [
    "______"
   ]
  },
  {
   "cell_type": "markdown",
   "id": "4ad20092",
   "metadata": {
    "ExecuteTime": {
     "end_time": "2025-07-24T06:21:23.347393Z",
     "start_time": "2025-07-24T06:21:23.344391Z"
    }
   },
   "source": [
    "## 4 - Generate the report\n",
    "This part combines all the information and settings from above into the final PowerPoint structure."
   ]
  },
  {
   "cell_type": "code",
   "execution_count": null,
   "id": "c6f6240b",
   "metadata": {
    "editable": false
   },
   "outputs": [],
   "source": [
    "report = reporter.generate_report(\n",
    "    dataset_name=dataset_name,\n",
    "    section_titles=section_titles,\n",
    "    slide_sec_kwargs=slide_section_args,\n",
    "    file_ext=file_ext,\n",
    "    template=template,\n",
    "    slide_format=slide_size,\n",
    "    report_dir=report_dir,\n",
    "    max_pixels=max_pixels\n",
    ")"
   ]
  },
  {
   "cell_type": "markdown",
   "id": "af8f2391",
   "metadata": {},
   "source": [
    "______"
   ]
  },
  {
   "cell_type": "markdown",
   "id": "33ea5f69",
   "metadata": {
    "ExecuteTime": {
     "end_time": "2025-07-24T06:21:23.347393Z",
     "start_time": "2025-07-24T06:21:23.344391Z"
    }
   },
   "source": [
    "## 5 - Save Report\n",
    "Render the PowerPoint report and save it to the disk."
   ]
  },
  {
   "cell_type": "code",
   "execution_count": null,
   "id": "b900fa0d",
   "metadata": {
    "editable": false
   },
   "outputs": [],
   "source": [
    "# Save presentation\n",
    "out_path = Path(report_dir) / \"report.pptx\"\n",
    "\n",
    "report.save(str(out_path))\n",
    "\n",
    "display(f\"Saved to: {out_path}\")"
   ]
  }
 ],
 "metadata": {
  "kernelspec": {
   "display_name": "sctoolbox",
   "language": "python",
   "name": "sctoolbox"
  },
  "language_info": {
   "codemirror_mode": {
    "name": "ipython",
    "version": 3
   },
   "file_extension": ".py",
   "mimetype": "text/x-python",
   "name": "python",
   "nbconvert_exporter": "python",
   "pygments_lexer": "ipython3",
   "version": "3.12.11"
  },
  "sc_framework": {
   "version": "0.13.4"
  }
 },
 "nbformat": 4,
 "nbformat_minor": 5
}
