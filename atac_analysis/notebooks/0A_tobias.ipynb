{
 "cells": [
  {
   "cell_type": "code",
   "execution_count": null,
   "id": "114ce4a9",
   "metadata": {
    "editable": false,
    "hide_input": true
   },
   "outputs": [],
   "source": [
    "from sctoolbox.utils.jupyter import bgcolor, _compare_version\n",
    "\n",
    "# change the background of input cells\n",
    "bgcolor(\"PowderBlue\", select=[2, 4])\n",
    "\n",
    "nb_name = \"0A_tobias.ipynb\"\n",
    "\n",
    "_compare_version(nb_name)"
   ]
  },
  {
   "cell_type": "markdown",
   "id": "3734c14e",
   "metadata": {},
   "source": [
    "#  05 - TOBIAS\n",
    "<hr style=\"border:2px solid black\"> </hr>"
   ]
  },
  {
   "cell_type": "markdown",
   "id": "a76c304a",
   "metadata": {},
   "source": [
    "## 1 - Description\n",
    "\n",
    "This notebook provides a streamlined interface for ATAC-seq footprinting analysis using the [TOBIAS](https://github.com/loosolab/TOBIAS) toolkit, wrapped via custom functions that leverage [TOBIAS-Snakemake](https://github.com/loosolab/TOBIAS_snakemake).\n",
    "\n",
    " **Key features:**\n",
    "\n",
    " * **Tn5 bias correction** — Adjusts for insertion bias in ATAC-seq libraries.\n",
    " * **Footprint scoring** — Computes footprint strength across regulatory regions.\n",
    " * **Binding site inference** — Distinguishes between bound and unbound transcription factor (TF) sites.\n",
    " * **Visualization** — Generates footprint plots for individual conditions or comparative analyses.\n",
    "\n",
    " At the end of this notebook, a TOBIAS configuration YAML file is generated.\n",
    " Since the full pipeline is compute-intensive, please execute it from the command line as described in the **Running the Pipeline** section below.\n",
    "\n",
    " For complete documentation, refer to:\n",
    "\n",
    " * [TOBIAS repository](https://github.com/loosolab/TOBIAS)\n",
    " * [TOBIAS Wiki](https://github.com/loosolab/TOBIAS/wiki/) for more information\n",
    " * [TOBIAS-Snakemake repository](https://github.com/loosolab/TOBIAS_snakemake)\n"
   ]
  },
  {
   "cell_type": "markdown",
   "id": "e4421bd2",
   "metadata": {},
   "source": [
    "---"
   ]
  },
  {
   "cell_type": "markdown",
   "id": "0bc45824",
   "metadata": {},
   "source": [
    "## 2 - Setup"
   ]
  },
  {
   "cell_type": "code",
   "execution_count": null,
   "id": "088728fa",
   "metadata": {
    "editable": false
   },
   "outputs": [],
   "source": [
    "import pandas as pd\n",
    "pd.set_option('display.max_columns', None)  # no limit to the number of columns shown\n",
    "import sctoolbox\n",
    "from sctoolbox import settings\n",
    "import sctoolbox.utils as utils\n",
    "import sctoolbox.tools as tools\n",
    "import os\n",
    "\n",
    "sctoolbox.settings.settings_from_config(\"config.yaml\", key=\"0A\")"
   ]
  },
  {
   "cell_type": "markdown",
   "id": "91c65aa2",
   "metadata": {},
   "source": [
    "---"
   ]
  },
  {
   "cell_type": "markdown",
   "id": "1c2727e7",
   "metadata": {},
   "source": [
    "## 3 - Load anndata"
   ]
  },
  {
   "cell_type": "markdown",
   "id": "737c5ca8",
   "metadata": {},
   "source": [
    "<h1><center>⬐ Fill in input data here ⬎</center></h1>"
   ]
  },
  {
   "cell_type": "code",
   "execution_count": null,
   "id": "36e3aa4e",
   "metadata": {},
   "outputs": [],
   "source": [
    "# Input/Output\n",
    "last_notebook_adata = \"anndata_4.h5ad\""
   ]
  },
  {
   "cell_type": "markdown",
   "id": "518c4452",
   "metadata": {},
   "source": [
    "---"
   ]
  },
  {
   "cell_type": "code",
   "execution_count": null,
   "id": "94033894",
   "metadata": {
    "editable": false
   },
   "outputs": [],
   "source": [
    "adata = utils.adata.load_h5ad(last_notebook_adata)\n",
    "\n",
    "with pd.option_context(\"display.max.rows\", 5, \"display.max.columns\", None):\n",
    "    display(adata)\n",
    "    display(adata.obs)"
   ]
  },
  {
   "cell_type": "markdown",
   "id": "b5f52d75",
   "metadata": {},
   "source": [
    "---"
   ]
  },
  {
   "cell_type": "markdown",
   "id": "580d1c2e",
   "metadata": {},
   "source": [
    "## 4 - General input"
   ]
  },
  {
   "cell_type": "markdown",
   "id": "653d95e3",
   "metadata": {},
   "source": [
    "Set the parameters to build the TOBIAS config YAML file."
   ]
  },
  {
   "cell_type": "markdown",
   "id": "c983a794",
   "metadata": {},
   "source": [
    "<h1><center>⬐ Fill in input data here ⬎</center></h1>"
   ]
  },
  {
   "cell_type": "code",
   "execution_count": null,
   "id": "d733214b",
   "metadata": {},
   "outputs": [],
   "source": [
    "# Set the column to evaluate. Pseudobulk bamfiles are created based on this column. \n",
    "groupby = \"sample\"\n",
    "\n",
    "# Barcode column  of the adata.obs table. If None index is used.\n",
    "barcode_column = None\n",
    "\n",
    "# Ouput directory\n",
    "output = \"../tobias/\"\n",
    "\n",
    "# The path to the ATAC experiment BAM file\n",
    "# Must contain all cells\n",
    "path_bam = \"test_data/10k_PBMCs_sampled_bam.bam\"\n",
    "\n",
    "# The path to the FASTA file for the organism\n",
    "fasta = \"homo_sapiens.104.mainChr.fa\"\n",
    "\n",
    "# The path to the (uncompressed) GTF file for the organism\n",
    "gtf = \"homo_sapiens.104.genes.gtf\"\n",
    "\n",
    "# The path to the blacklist file to use in the TOBIAS run (optional)\n",
    "# If 'None', a mock blacklist file will be generated for the run\n",
    "blacklist = 'hg38.blacklist.bed'\n",
    "\n",
    "# The Path to the motif file for the organism (JASPAR or MEME)\n",
    "motifs = \"individual_motifs/*\"\n",
    "\n",
    "# If the ATAC modality already has a column with read tags matching the tags used in the bam file\n",
    "# give the name of the column here\n",
    "# Must match \"ATAC:<name of coulmn in anndata.obs table>\"\n",
    "bam_barcodes = 'CB'\n",
    "\n",
    "# If bam_barcodes is None give the name of the column that contains the raw ATAC barcodes\n",
    "# Must match \"ATAC:<name of column in anndata.obs table>\"\n",
    "raw_barcodes_ATAC = None\n",
    "\n",
    "# Name of the organism from which the data stems\n",
    "# options = [\"mouse\", \"human\", \"zebrafish\"]\n",
    "organism = \"human\"\n",
    "\n",
    "# Give the name of the TOBIAS config yaml file in the format of \"<name of file>.yml\"\n",
    "# It cannot be 'config.yml' \n",
    "yaml = \"TOBIAS_config.yml\""
   ]
  },
  {
   "cell_type": "markdown",
   "id": "2b09f459",
   "metadata": {},
   "source": [
    "---"
   ]
  },
  {
   "cell_type": "markdown",
   "id": "b033d37f",
   "metadata": {},
   "source": [
    "## 5 - Prepare TOBIAS run"
   ]
  },
  {
   "cell_type": "code",
   "execution_count": null,
   "id": "3a37cca5",
   "metadata": {
    "editable": false
   },
   "outputs": [],
   "source": [
    "input_dir, _, yml = tools.tobias.prepare_tobias(adata,\n",
    "                                                groupby,\n",
    "                                                output=output,\n",
    "                                                path_bam=path_bam,\n",
    "                                                barcode_column=barcode_column,\n",
    "                                                barcode_tag='CB',\n",
    "                                                fasta=fasta,\n",
    "                                                motifs=motifs,\n",
    "                                                gtf=gtf,\n",
    "                                                blacklist=blacklist,\n",
    "                                                organism=organism,\n",
    "                                                yml=yaml,\n",
    "                                                plot_comparison=True,\n",
    "                                                plot_correction=True,\n",
    "                                                plot_venn=True,\n",
    "                                                coverage=False,\n",
    "                                                wilson=False,\n",
    "                                                threads=4)\n",
    "\n",
    "config_yaml = os.path.join(input_dir, yml)"
   ]
  },
  {
   "cell_type": "markdown",
   "id": "442944bc",
   "metadata": {},
   "source": [
    "---"
   ]
  },
  {
   "cell_type": "markdown",
   "id": "b7062ba6",
   "metadata": {},
   "source": [
    "## 6. Executing the TOBIAS Pipeline\n",
    "\n",
    "This section outlines how to launch the TOBIAS-Snakemake workflow using the configuration file generated above.\n",
    "\n",
    "More information on TOBIAS-Snakemake can be found in the [TOBIAS-Snakemake Wiki](https://github.com/loosolab/TOBIAS_snakemake/wiki).\n",
    "\n",
    " **Prerequisites:**\n",
    "\n",
    " * Clone the [TOBIAS-Snakemake](https://github.com/loosolab/TOBIAS_snakemake) repository.\n",
    " * Ensure [TOBIAS-Snakemake](https://github.com/loosolab/TOBIAS_snakemake) is installed (see “Getting Started” in the repository’s [README](https://github.com/loosolab/TOBIAS_snakemake)).\n",
    " * Verify that Conda is available for creating rule-specific environments.\n",
    "\n",
    " **Notes:**\n",
    "\n",
    " * The `--use-conda` flag automates environment setup for each rule.\n",
    " * Tweak `--cores` based on your available CPU resources.\n",
    " * For advanced options or troubleshooting, refer to the TOBIAS-Snakemake documentation.\n",
    "\n",
    " **Command:**\n",
    " In your terminal, move to the [TOBIAS-Snakemake](https://github.com/loosolab/TOBIAS_snakemake) directory and execute the following command:"
   ]
  },
  {
   "cell_type": "code",
   "execution_count": null,
   "id": "90210816",
   "metadata": {
    "editable": false
   },
   "outputs": [],
   "source": [
    "print('Bash Command:')\n",
    "print(f\"\"\"snakemake \\\\\n",
    "   --configfile {config_yaml} \\\\\n",
    "   --use-conda \\\\\n",
    "   --cores 10\"\"\")"
   ]
  }
 ],
 "metadata": {
  "kernelspec": {
   "display_name": "sctoolbox",
   "language": "python",
   "name": "sctoolbox"
  },
  "language_info": {
   "codemirror_mode": {
    "name": "ipython",
    "version": 3
   },
   "file_extension": ".py",
   "mimetype": "text/x-python",
   "name": "python",
   "nbconvert_exporter": "python",
   "pygments_lexer": "ipython3",
   "version": "3.12.9"
  },
  "sc_framework": {
   "version": "0.13.4"
  }
 },
 "nbformat": 4,
 "nbformat_minor": 5
}
