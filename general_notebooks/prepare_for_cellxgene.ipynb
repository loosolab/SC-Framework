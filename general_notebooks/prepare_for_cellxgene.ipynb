{
 "cells": [
  {
   "cell_type": "code",
   "execution_count": null,
   "id": "280c6775",
   "metadata": {
    "editable": false,
    "hide_input": true,
    "init_cell": true
   },
   "outputs": [],
   "source": [
    "from sctoolbox.utils.jupyter import bgcolor, _compare_version\n",
    "\n",
    "# change the background of input cells\n",
    "bgcolor(\"PowderBlue\", select=[2, 5])\n",
    "\n",
    "nb_name = \"prepare_for_cellxgene.ipynb\"\n",
    "\n",
    "_compare_version(nb_name)"
   ]
  },
  {
   "cell_type": "markdown",
   "id": "4aba1889",
   "metadata": {},
   "source": [
    "# Preparing adata for cellxgene / MaMPlan creation\n",
    "<hr style=\"border:2px solid black\"> </hr>"
   ]
  },
  {
   "cell_type": "markdown",
   "id": "13a7b71c",
   "metadata": {},
   "source": [
    "## 1 - Description\n",
    "### 1.1 - Preparing for cellxgene\n",
    "This Notebook prepares the anndata object for cellxgene.\n",
    "This preparation includes:\n",
    " - Removing unnessesary data to keep the resulting h5ad file as small as possible\n",
    " - Renaming columns for a nicer presentation in cellxgene\n",
    " - Converting unsupported datatypes to supported datatypes\n",
    " - Additional fixes for bugs between scanpy, anndata and cellxgene\n",
    "   \n",
    "### 1.2 - MaMPlan creation\n",
    "Additionally, a MaMPlan can be created which is needed to deploy the dataset to the BCU repository using mampok or the BCU repository overlay.  \n",
    "A MaMPlan acts as the config file for each specific dataset. It holds a variety of different parameters needed by mampok and the BCU repository.  \n",
    "To simplyfy the creation process only the importent parameters can be set. The other parameters get a (often) required default value.\n",
    "\n",
    "See the [MaMpok wiki](https://gitlab.gwdg.de/loosolab/software/mampok/-/wikis/Getting-Started/MaMPlan_keys) for more detailed information about each parameter.\n",
    "\n",
    "#### 1.2.1 - Parameters\n",
    "| Parameter | Description | Options | |\n",
    "|:---:|:---|:---|:---|\n",
    "| project_id | Project ID, e.g. 'ext123', 'dst123' | str | Required |\n",
    "| datatype | Technique used, e.g. 'sc RNA-seq', 'sc ATAC-seq' | [Options](https://gitlab.gwdg.de/loosolab/software/metadata_whitelists/-/blob/main/whitelists/technique?ref_type=heads) or list of [Options](https://gitlab.gwdg.de/loosolab/software/metadata_whitelists/-/blob/main/whitelists/technique?ref_type=heads) | Required |\n",
    "| tool | Select the cellxgene docker container. | 'cxg' for cellxgene, 'cxgv' for cellxgene VIP. Other [Options](https://gitlab.gwdg.de/loosolab/software/metadata_whitelists/-/blob/main/whitelists/abbrev/tool?ref_type=heads) | Required |\n",
    "| cluster | Select the kubernetes cluster. (Deprecated clusters: 'GI', 'GWDG') | 'BN', 'BN_public' | Required |\n",
    "| owner | Owner / Responsible person of the dataset. Set to public if public dataset.| LDAP user ID or public | Required |\n",
    "| organization | Select organizations related to the project.<br> Every user in one of the organizations will be able to access the dataset via the BCU repository. | [Options](https://gitlab.gwdg.de/loosolab/software/metadata_whitelists/-/blob/main/whitelists/department?ref_type=heads) | Required |\n",
    "| check_online | If True, validate certain parameters using an online database. | bool | Required |\n",
    "| auth | Controls authorization requirement. Access the deployment through the BCU website (True) or via direct URL (False). Is only set to false in special cases e.g. link is mentioned in a publication. | bool | Required |\n",
    "| label | Set label shown in the browser tab. | str | Optional |\n",
    "| user | List of users that, additonally to the organization, get access to the dataset via the BCU repository.  | List of LDAP user IDs | Optional |\n",
    "| analyst | Analyst of the dataset. If None, analyst is set as current user. | List of LDAP user ID; LDAP user ID or None |  Optional |\n",
    "| pubmedid | Pubmed ID of public datasets. | Pubmed user ID | Optional |\n",
    "| citation | Citation of public dataset. Will be set automatically if None and if pubmed ID is given.| str or None for automated citation| Optional |\n",
    "| cpu_limit | Set the limit of cpu cores that can be used by the deplyoment. | int | Optional |\n",
    "| mem_limit | Set the limit (in GB) of memory that can be used by the deplyoment. | int | Optional |\n",
    "| cpu_request | Set the requested amount of cpu cores that can be used by the deplyoment. | int | Optional |\n",
    "| mem_request | Set the requested amount (in GB) of memory that can be used by the deplyoment. | int | Optional |\n",
    "| email | Checking the pubmed ID might require a valid E-mail to be set. | str | Optional |"
   ]
  },
  {
   "cell_type": "markdown",
   "id": "c7497fa9",
   "metadata": {},
   "source": [
    "___"
   ]
  },
  {
   "cell_type": "markdown",
   "id": "df6b1586",
   "metadata": {
    "ExecuteTime": {
     "end_time": "2023-08-25T07:56:44.056692Z",
     "start_time": "2023-08-25T07:56:43.996638Z"
    }
   },
   "source": [
    "## 2 - Setup"
   ]
  },
  {
   "cell_type": "code",
   "execution_count": null,
   "id": "25449c61",
   "metadata": {
    "editable": false,
    "hide_input": false
   },
   "outputs": [],
   "source": [
    "from sctoolbox import settings\n",
    "import sctoolbox.utils as utils\n",
    "from packaging import version\n",
    "import pandas as pd"
   ]
  },
  {
   "cell_type": "markdown",
   "id": "c18c3c5c",
   "metadata": {},
   "source": [
    "___"
   ]
  },
  {
   "cell_type": "markdown",
   "id": "032bbcc5",
   "metadata": {},
   "source": [
    "## 3 - General Input"
   ]
  },
  {
   "cell_type": "markdown",
   "id": "93cbd04a",
   "metadata": {},
   "source": [
    "<h1><center>⬐ Fill in input data here ⬎</center></h1>"
   ]
  },
  {
   "cell_type": "code",
   "execution_count": null,
   "id": "1d676578",
   "metadata": {
    "hide_input": false
   },
   "outputs": [],
   "source": [
    "# sctoolbox settings\n",
    "settings.adata_input_dir = \"../adatas/\"\n",
    "settings.adata_output_dir = \"../adatas/cellxgene/\"\n",
    "settings.log_file = \"../logs/prepare_for_cellxgene_log.txt\"\n",
    "last_notebook_adata = \"anndata_4.h5ad\"\n",
    "\n",
    "# MaMPlan options\n",
    "check_online = True\n",
    "\n",
    "## Project options\n",
    "project_id = \"Test-ID\"\n",
    "datatype = \"sc RNA-seq\"\n",
    "tool = \"cxg\"  # cxgv\n",
    "cluster = \"BN\"\n",
    "organization = [\"AG-nerds\"]\n",
    "label = None\n",
    "user = None\n",
    "owner = \"Test-owner\"\n",
    "analyst = None\n",
    "\n",
    "## Options for public datasets\n",
    "pubmedid = None\n",
    "citation = None\n",
    "email = None\n",
    "\n",
    "## Options for computational resource manangemnt\n",
    "\n",
    "### Limit\n",
    "cpu_limit = None\n",
    "mem_limit = None\n",
    "### Requested\n",
    "cpu_request = None\n",
    "mem_request = None\n",
    "\n",
    "auth = True  # Only set to False in special cases!\n",
    "\n",
    "mamplan_filename = f\"{project_id}_MaMPlan.yaml\""
   ]
  },
  {
   "cell_type": "markdown",
   "id": "9cab3cf2",
   "metadata": {},
   "source": [
    "---------"
   ]
  },
  {
   "cell_type": "markdown",
   "id": "57b7874f",
   "metadata": {},
   "source": [
    "## 4 - Load anndata"
   ]
  },
  {
   "cell_type": "code",
   "execution_count": null,
   "id": "a7ec48f1",
   "metadata": {
    "editable": false,
    "hide_input": false
   },
   "outputs": [],
   "source": [
    "adata = utils.adata.load_h5ad(last_notebook_adata)\n",
    "display(adata)"
   ]
  },
  {
   "cell_type": "markdown",
   "id": "1d3ec7c9",
   "metadata": {
    "hide_input": false,
    "run_control": {
     "marked": false
    }
   },
   "source": [
    "___"
   ]
  },
  {
   "cell_type": "markdown",
   "id": "c3b8d100",
   "metadata": {},
   "source": [
    "## 5 - Prepare adata for cellxgene\n",
    "<hr style=\"border:2px solid black\"> </hr>"
   ]
  },
  {
   "cell_type": "markdown",
   "id": "d914d062",
   "metadata": {},
   "source": [
    "The cellxgene preparation removes all data from the anndata object that is not required for the cellxgene deplyoment.  \n",
    "This saves memory on the cluster and decreases runtime.\n",
    "\n",
    "In addition, every invalid or problematic datatype is checked for and cast to a fitting datatype if possible.\n",
    "\n",
    "**Note: Keep in mind that the resulting adata object should not be used for further analysis.**"
   ]
  },
  {
   "cell_type": "code",
   "execution_count": null,
   "id": "d64a3708",
   "metadata": {
    "editable": false,
    "hide_input": false
   },
   "outputs": [],
   "source": [
    "with pd.option_context(\"display.max.rows\", 5, \"display.max.columns\", None):\n",
    "    display(adata)\n",
    "    display(adata.obs)\n",
    "    display(adata.var)"
   ]
  },
  {
   "cell_type": "markdown",
   "id": "9bd64d77",
   "metadata": {},
   "source": [
    "<h1><center>⬐ Fill in input data here ⬎</center></h1>"
   ]
  },
  {
   "cell_type": "code",
   "execution_count": null,
   "id": "6e5fa668",
   "metadata": {
    "hide_input": false
   },
   "outputs": [],
   "source": [
    "# Keep columns in adata.obs (Cell metadata)\n",
    "# Set to None to keep all obs columns\n",
    "# An empty list removes all columns\n",
    "keep_obs = [\n",
    "    \"sample\",\n",
    "    \"batch\",\n",
    "    \"celltype\",\n",
    "    \"pct_counts_is_mito\",\n",
    "    \"pct_counts_is_ribo\",\n",
    "    \"phase\",\n",
    "    \"clustering\",\n",
    "    \"SCSA_pred_celltype\",\n",
    "    \"marker_pred_celltype\"\n",
    "]\n",
    "\n",
    "# Rename columns in adata.obs\n",
    "# Set to None to keep all original names\n",
    "rename_obs = {\n",
    "    \"sample\": \"Sample\",\n",
    "    \"batch\": \"Batch\",\n",
    "    \"celltype\": \"Celltype\",\n",
    "    \"pct_counts_is_mito\": \"Mitochondiral content (%)\",\n",
    "    \"pct_counts_is_ribo\": \"Ribosomal content (%)\",\n",
    "    \"phase\": \"Phase\",\n",
    "    \"clustering\": \"Final Clustering\",\n",
    "    \"SCSA_pred_celltype\": \"Predicted Celltype (SCSA)\",\n",
    "    \"marker_pred_celltype\": \"Predicted Celltype (Marker)\"\n",
    "}\n",
    "\n",
    "add_leiden = True  # Add leiden columns to keep_obs. Is only considered if keep_obs is not None\n",
    "\n",
    "# Keep columns in adata.var (Gene metadata)\n",
    "# An empty list removes all columns\n",
    "keep_var = []\n",
    "rename_var = {}"
   ]
  },
  {
   "cell_type": "markdown",
   "id": "97ede36c",
   "metadata": {},
   "source": [
    "___"
   ]
  },
  {
   "cell_type": "markdown",
   "id": "37a92570",
   "metadata": {
    "ExecuteTime": {
     "end_time": "2023-08-25T09:59:39.046458Z",
     "start_time": "2023-08-25T09:59:39.042760Z"
    }
   },
   "source": [
    "### 5.1 - Add leiden columns"
   ]
  },
  {
   "cell_type": "code",
   "execution_count": null,
   "id": "869f2eac",
   "metadata": {
    "editable": false,
    "hide_input": false
   },
   "outputs": [],
   "source": [
    "if add_leiden and keep_obs is not None:\n",
    "    leiden_cols = [col for col in adata.obs.columns if col.startswith(\"leiden\")]\n",
    "    keep_obs += leiden_cols\n",
    "    rename_obs |= {c: c.replace(\"_\", \" \").capitalize() for c in leiden_cols}"
   ]
  },
  {
   "cell_type": "markdown",
   "id": "075a514b",
   "metadata": {
    "hide_input": false,
    "run_control": {
     "marked": false
    }
   },
   "source": [
    "___"
   ]
  },
  {
   "cell_type": "markdown",
   "id": "b335b01d",
   "metadata": {},
   "source": [
    "### 5.2 - Clean up adata"
   ]
  },
  {
   "cell_type": "code",
   "execution_count": null,
   "id": "9f448a74",
   "metadata": {
    "editable": false,
    "hide_input": false
   },
   "outputs": [],
   "source": [
    "utils.adata.prepare_for_cellxgene(\n",
    "    adata,\n",
    "    keep_obs=keep_obs,\n",
    "    keep_var=keep_var,\n",
    "    rename_obs=rename_obs,\n",
    "    rename_var=rename_var,\n",
    "    inplace=True\n",
    ")"
   ]
  },
  {
   "cell_type": "code",
   "execution_count": null,
   "id": "d26136f0",
   "metadata": {
    "editable": false,
    "hide_input": false
   },
   "outputs": [],
   "source": [
    "with pd.option_context(\"display.max.rows\", 5, \"display.max.columns\", None):\n",
    "    display(adata)\n",
    "    display(adata.obs)\n",
    "    display(adata.var)"
   ]
  },
  {
   "cell_type": "markdown",
   "id": "a5ce942f",
   "metadata": {
    "hide_input": false,
    "run_control": {
     "marked": false
    }
   },
   "source": [
    "___"
   ]
  },
  {
   "cell_type": "markdown",
   "id": "56a447de",
   "metadata": {},
   "source": [
    "### 5.3 - Save adata"
   ]
  },
  {
   "cell_type": "code",
   "execution_count": null,
   "id": "8f8d3ce3",
   "metadata": {
    "editable": false,
    "hide_input": false
   },
   "outputs": [],
   "source": [
    "# Saving the data\n",
    "adata_output = f\"{project_id}_cellxgene.h5ad\"\n",
    "utils.adata.save_h5ad(adata, adata_output)"
   ]
  },
  {
   "cell_type": "markdown",
   "id": "d56ae4cd",
   "metadata": {
    "hide_input": false,
    "run_control": {
     "marked": false
    }
   },
   "source": [
    "___"
   ]
  },
  {
   "cell_type": "markdown",
   "id": "c9230877",
   "metadata": {},
   "source": [
    "## 6 - Write MaMPlan"
   ]
  },
  {
   "cell_type": "code",
   "execution_count": null,
   "id": "ca0539a5",
   "metadata": {
    "editable": false,
    "hide_input": false
   },
   "outputs": [],
   "source": [
    "try:\n",
    "    import mampok\n",
    "    import mampok.mamplan_creator as mc\n",
    "    if version.parse(mampok.__version__) < version.parse(\"3.0.5\"):\n",
    "        raise ModuleNotFoundError()\n",
    "except ModuleNotFoundError:\n",
    "    raise ModuleNotFoundError(\"Please install the latest mampok version.\")"
   ]
  },
  {
   "cell_type": "code",
   "execution_count": null,
   "id": "790a4a99",
   "metadata": {
    "editable": false,
    "hide_input": false
   },
   "outputs": [],
   "source": [
    "mamplan = mc.SimpleMamplan(\n",
    "    exp_id = project_id,\n",
    "    files = adata_output,\n",
    "    tool = tool,\n",
    "    analyst = analyst if analyst else utils.general.get_user(),\n",
    "    datatype = datatype,\n",
    "    cluster = cluster,\n",
    "    label = label,\n",
    "    organization = organization,\n",
    "    user = user,\n",
    "    owner = owner,\n",
    "    pubmedid = pubmedid,\n",
    "    citation = citation,\n",
    "    cpu_limit = cpu_limit,\n",
    "    mem_limit = mem_limit,\n",
    "    cpu_request = cpu_request,\n",
    "    mem_request = mem_request,\n",
    "    check_online = check_online,\n",
    "    auth = auth,\n",
    "    email = email\n",
    ")"
   ]
  },
  {
   "cell_type": "code",
   "execution_count": null,
   "id": "3d9299e3",
   "metadata": {
    "editable": false,
    "hide_input": false
   },
   "outputs": [],
   "source": [
    "mamplan.save(f\"{settings.adata_output_dir}/{project_id}\")"
   ]
  }
 ],
 "metadata": {
  "kernelspec": {
   "display_name": "sctoolbox",
   "language": "python",
   "name": "sctoolbox"
  },
  "language_info": {
   "codemirror_mode": {
    "name": "ipython",
    "version": 3
   },
   "file_extension": ".py",
   "mimetype": "text/x-python",
   "name": "python",
   "nbconvert_exporter": "python",
   "pygments_lexer": "ipython3",
   "version": "3.12.7"
  },
  "sc_framework": {
   "version": "0.12.0"
  }
 },
 "nbformat": 4,
 "nbformat_minor": 5
}
