{
 "cells": [
  {
   "cell_type": "code",
   "execution_count": null,
   "id": "20d2dd96",
   "metadata": {
    "editable": false,
    "hide_input": true,
    "init_cell": true
   },
   "outputs": [],
   "source": [
    "from sctoolbox.utils.jupyter import bgcolor, _compare_version\n",
    "\n",
    "# change the background of input cells\n",
    "bgcolor(\"PowderBlue\", select=[2, 6, 8, 11, 14])\n",
    "\n",
    "nb_name = \"GSEA.ipynb\"\n",
    "\n",
    "_compare_version(nb_name)"
   ]
  },
  {
   "cell_type": "markdown",
   "id": "92393a9a",
   "metadata": {},
   "source": [
    "# Gene Set Enrichment Analysis (GSEA)\n",
    "<hr style=\"border:2px solid black\"> </hr>"
   ]
  },
  {
   "cell_type": "markdown",
   "id": "4e8df964",
   "metadata": {},
   "source": [
    "## 1 - Description\n",
    "\n",
    "**Requires an anndata object with precomputed marker genes. Marker genes can be generated with the marker gene notebook (`general_notebooks/group_markers.ipynb`).**\n",
    "\n",
    "**Move this notebook into the notebook folder (e.g. `rna_analysis/notebooks/`) of the respective analysis before using it!**\n",
    "\n",
    "The main function of this notebook is to perform enrichment analysis described as \"\\[...\\] a computational method for inferring knowledge about an input gene set by comparing it to annotated gene sets representing prior biological knowledge.\"\\[[source](https://maayanlab.cloud/Enrichr/help#background)\\]. So in other words, the goal is to collect enriched GO pathways for clusters of cells (e.g. cell types) based on cluster defining sets of marker genes.  \n",
    "Available methods in this notebook are [Enrichr](https://maayanlab.cloud/Enrichr/) and [GSEA preank](https://www.genepattern.org/modules/docs/GSEAPreranked/1#gsc.tab=0), which are both implemented in [GSEApy](https://github.com/zqfang/GSEApy)."
   ]
  },
  {
   "cell_type": "markdown",
   "id": "10689dc1",
   "metadata": {},
   "source": [
    "---"
   ]
  },
  {
   "cell_type": "markdown",
   "id": "69e4730b",
   "metadata": {},
   "source": [
    "## 2 - Setup"
   ]
  },
  {
   "cell_type": "code",
   "execution_count": null,
   "id": "4fa4f3ca",
   "metadata": {
    "editable": false,
    "hide_input": false
   },
   "outputs": [],
   "source": [
    "import sctoolbox.utils as utils\n",
    "import sctoolbox.tools as tools\n",
    "import sctoolbox.plotting as pl\n",
    "from sctoolbox import settings\n",
    "\n",
    "import pandas as pd\n",
    "import gseapy as gp\n",
    "import tqdm\n",
    "import matplotlib.pyplot as plt\n",
    "import warnings"
   ]
  },
  {
   "cell_type": "markdown",
   "id": "2ed04507",
   "metadata": {},
   "source": [
    "---"
   ]
  },
  {
   "cell_type": "markdown",
   "id": "f915d7d2",
   "metadata": {},
   "source": [
    "## 3 - General Input"
   ]
  },
  {
   "cell_type": "markdown",
   "id": "a1019ece",
   "metadata": {},
   "source": [
    "<h1><center>⬐ Fill in input data here ⬎</center></h1>"
   ]
  },
  {
   "cell_type": "code",
   "execution_count": null,
   "id": "e4652c78",
   "metadata": {},
   "outputs": [],
   "source": [
    "# sctoolbox settings\n",
    "settings.adata_input_dir = \"../adatas/\"\n",
    "settings.adata_output_dir = \"../adatas/\"\n",
    "settings.figure_dir = \"../figures/GSEA/\"\n",
    "settings.log_file = \"../logs/GSEA_log.txt\"\n",
    "last_notebook_adata = \"anndata_marker.h5ad\"\n",
    "\n",
    "# Define the dataset species!\n",
    "organism = \"human\""
   ]
  },
  {
   "cell_type": "markdown",
   "id": "ab688743",
   "metadata": {},
   "source": [
    "---"
   ]
  },
  {
   "cell_type": "markdown",
   "id": "503e8ea0",
   "metadata": {},
   "source": [
    "## 4 - Load anndata"
   ]
  },
  {
   "cell_type": "code",
   "execution_count": null,
   "id": "e04f020c",
   "metadata": {
    "editable": false,
    "hide_input": false
   },
   "outputs": [],
   "source": [
    "adata = utils.adata.load_h5ad(last_notebook_adata)\n",
    "\n",
    "with pd.option_context(\"display.max.rows\", 5, \"display.max.columns\", None):\n",
    "    display(adata)\n",
    "    display(adata.obs)\n",
    "    display(adata.var)"
   ]
  },
  {
   "cell_type": "markdown",
   "id": "0ed3cadf",
   "metadata": {},
   "source": [
    "---"
   ]
  },
  {
   "cell_type": "markdown",
   "id": "ad742c46",
   "metadata": {},
   "source": [
    "## 5 - Select library\n",
    "\n",
    "**Molecular Function**  \n",
    "Molecular-level activities performed by gene products. Molecular function terms describe activities that occur at the molecular level, such as “catalysis” or “transport”. GO molecular function terms represent activities rather than the entities (molecules or complexes) that perform the actions, and do not specify where, when, or in what context the action takes place. Molecular functions generally correspond to activities that can be performed by individual gene products (i.e. a protein or RNA), but some activities are performed by molecular complexes composed of multiple gene products. Examples of broad functional terms are catalytic activity and transporter activity; examples of narrower functional terms are adenylate cyclase activity or Toll-like receptor binding. To avoid confusion between gene product names and their molecular functions, GO molecular functions are often appended with the word “activity” (a protein kinase would have the GO molecular function protein kinase activity).  \n",
    "\n",
    "**Cellular Component**  \n",
    "A location, relative to cellular compartments and structures, occupied by a macromolecular machine. There are two ways in which the gene ontology describes locations of gene products: (1) the cellular anatomical entities, in which a gene product carries out a molecular function. Cellular anatomical entities includes cellular structures such as the plasma membrane and the cytoskeleton, as well as membrane-enclosed cellular compartments such as the mitochondrion, and (2) the stable macromolecular complexes of which they are parts, e.g., the clathrin complex.  \n",
    "\n",
    "**Biological Process**  \n",
    "The larger processes, or ‘biological programs’ accomplished by multiple molecular activities. Examples of broad biological process terms are DNA repair or signal transduction. Examples of more specific terms are pyrimidine nucleobase biosynthetic process or glucose transmembrane transport. Note that a biological process is not equivalent to a pathway. At present, the GO does not try to represent the dynamics or dependencies that would be required to fully describe a pathway.\n",
    "\n",
    "-- https://geneontology.org/docs/ontology-documentation/"
   ]
  },
  {
   "cell_type": "markdown",
   "id": "b032a15f",
   "metadata": {},
   "source": [
    "**List of available librarys**"
   ]
  },
  {
   "cell_type": "code",
   "execution_count": null,
   "id": "df973f2c",
   "metadata": {
    "editable": false,
    "hide_input": false
   },
   "outputs": [],
   "source": [
    "[db for db in gp.get_library_name(organism) if db.startswith(\"GO\")]"
   ]
  },
  {
   "cell_type": "markdown",
   "id": "079d5bc7",
   "metadata": {
    "ExecuteTime": {
     "end_time": "2024-07-18T09:12:21.300795Z",
     "start_time": "2024-07-18T09:12:21.296992Z"
    }
   },
   "source": [
    "**List of available `marker_keys`**"
   ]
  },
  {
   "cell_type": "code",
   "execution_count": null,
   "id": "b8736d52",
   "metadata": {
    "editable": false
   },
   "outputs": [],
   "source": [
    "[k for k in adata.uns.keys() if k.startswith(\"rank_\")]"
   ]
  },
  {
   "cell_type": "markdown",
   "id": "2b70d7b8",
   "metadata": {},
   "source": [
    "<h1><center>⬐ Fill in input data here ⬎</center></h1>"
   ]
  },
  {
   "cell_type": "code",
   "execution_count": null,
   "id": "55e87875",
   "metadata": {},
   "outputs": [],
   "source": [
    "# key for marker table in adata.uns\n",
    "marker_key = \"rank_feature_leiden_0.1_filtered\"  # The marker_key should match the clustering below.\n",
    "clustering = \"leiden_0.1\"  # The marker_key is usually formatted as rank_genes_<clustering> or rank_genes_<clustering>_filtered.\n",
    "pvals_adj_tresh = 0.05\n",
    "\n",
    "# Select method. Available options: 'prerank', 'enrichr'\n",
    "method = \"prerank\"\n",
    "\n",
    "# Choose public library to use\n",
    "library_name = \"GO_Biological_Process_2023\"\n",
    "\n",
    "# If custom gene sets and background should be used set here.\n",
    "# The public library will be ignored if custom_gene_set is given.\n",
    "custom_gene_set = None  # {\"Pathway 1\": [\"Gene1\", \"Gene2\",...], ...}\n",
    "\n",
    "# enrichr specific parameters\n",
    "# To use a custom background for the public gene set library only set custom_background.\n",
    "custom_background = None  # [\"Gene 1\", \"Gene 2\", ....]\n",
    "\n",
    "# prerank specific parameters\n",
    "threads = 4  # Number of threadsused by prerank function\n",
    "min_size = 5  # Minimum allowed number of genes from gene set also the data set.\n",
    "max_size = 1000  # Maximum allowed number of genes from gene set also the data set.\n",
    "permutation_num = 1000  # Number of permutations.\n",
    "seed = 0  # Seed for prerank run"
   ]
  },
  {
   "cell_type": "markdown",
   "id": "c8607357",
   "metadata": {},
   "source": [
    "---"
   ]
  },
  {
   "cell_type": "markdown",
   "id": "f76163fb",
   "metadata": {},
   "source": [
    "## 6 - Run gene set enrichment analysis"
   ]
  },
  {
   "cell_type": "code",
   "execution_count": null,
   "id": "ac249567",
   "metadata": {
    "editable": false,
    "hide_input": false
   },
   "outputs": [],
   "source": [
    "combined = tools.gsea.gene_set_enrichment(adata,\n",
    "                                          method=method,\n",
    "                                          marker_key=marker_key,\n",
    "                                          organism=organism,\n",
    "                                          pvals_adj_tresh=pvals_adj_tresh,\n",
    "                                          gene_sets=custom_gene_set,\n",
    "                                          background=custom_background,\n",
    "                                          library_name=library_name,\n",
    "                                          seed = seed)"
   ]
  },
  {
   "cell_type": "markdown",
   "id": "e62e582b",
   "metadata": {},
   "source": [
    "---"
   ]
  },
  {
   "cell_type": "markdown",
   "id": "b530ff0c",
   "metadata": {},
   "source": [
    "## 7 - Plotting\n",
    "<hr style=\"border:2px solid black\"> </hr>"
   ]
  },
  {
   "cell_type": "markdown",
   "id": "d64ce8ea",
   "metadata": {},
   "source": [
    "### 7.1 - Dotplot\n",
    "\n",
    "The dotplot shows the top enriched pathways per cluster. The size of the dot indicates the fraction of genes in the cluster that match the pathway and the color of the dot indicates statistical significance (higher is better)."
   ]
  },
  {
   "cell_type": "markdown",
   "id": "8dd7ae48",
   "metadata": {},
   "source": [
    "<h1><center>⬐ Fill in input data here ⬎</center></h1>"
   ]
  },
  {
   "cell_type": "code",
   "execution_count": null,
   "id": "b6f664b8",
   "metadata": {},
   "outputs": [],
   "source": [
    "# Dotplot\n",
    "figsize = (10, 10)  # Set figure size for dotplot\n",
    "top_term = 10  # Number of pathways shown per cluster\n",
    "size = 2  # Size scale for dots\n",
    "\n",
    "# Custom column to be plotted.\n",
    "# If None uses default values:\n",
    "#     prerank -> FDR q-val\n",
    "#     enrichr -> \"Adjusted P-value\"\n",
    "column = None"
   ]
  },
  {
   "cell_type": "code",
   "execution_count": null,
   "id": "f7497a06",
   "metadata": {
    "editable": false
   },
   "outputs": [],
   "source": [
    "if column is None:\n",
    "    column = \"FDR q-val\" if method == \"prerank\" else \"Adjusted P-value\""
   ]
  },
  {
   "cell_type": "markdown",
   "id": "670fa1d4",
   "metadata": {},
   "source": [
    "---"
   ]
  },
  {
   "cell_type": "code",
   "execution_count": null,
   "id": "9e83d85c",
   "metadata": {
    "editable": false,
    "hide_input": false
   },
   "outputs": [],
   "source": [
    "for reg in [\"UP\", \"DOWN\"]:\n",
    "    comb = combined[combined[\"UP_DW\"] == reg]\n",
    "    if not comb.empty:\n",
    "        with warnings.catch_warnings():\n",
    "            # hide future warnings until gseapy fixes them\n",
    "            warnings.filterwarnings(action='ignore', message=\".*Series.replace.*|.*chained assignment.*\")\n",
    "\n",
    "            ax = gp.dotplot(\n",
    "                comb,\n",
    "                column=column,\n",
    "                figsize=figsize,\n",
    "                x='Cluster',\n",
    "                title=f\"Top {top_term} {reg} regulated Pathways per Cluster\",\n",
    "                cmap = plt.cm.autumn_r,\n",
    "                size=size,\n",
    "                show_ring=True,\n",
    "                top_term=top_term,\n",
    "                xticklabels_rot=45\n",
    "            )\n",
    "        ax.set_xlabel(\"\")\n",
    "        plt.tight_layout()\n",
    "        plt.savefig(f\"{settings.figure_dir}/GSEA_dotplot_top{top_term}_{reg}_pathways_per_cluster.pdf\", dpi=300)"
   ]
  },
  {
   "cell_type": "markdown",
   "id": "6c3dbf20",
   "metadata": {},
   "source": [
    "---"
   ]
  },
  {
   "cell_type": "markdown",
   "id": "2ae4f657",
   "metadata": {},
   "source": [
    "### 7.2 - Term dotplot\n",
    "The term dotplot focuses on a single term/pathway and thus shows individual genes instead of pathways on the y-axis. A Z-Score is applied to the mean gene expression per cluster to highlight differences in expression between the clusters (x-axis). A pathway of interest can be selected using the plot above."
   ]
  },
  {
   "cell_type": "markdown",
   "id": "73aefe2d",
   "metadata": {},
   "source": [
    "<h1><center>⬐ Fill in input data here ⬎</center></h1>"
   ]
  },
  {
   "cell_type": "code",
   "execution_count": null,
   "id": "705fb9e9",
   "metadata": {},
   "outputs": [],
   "source": [
    "# Term dotplot\n",
    "term = \"Actin Filament Organization (GO:0007015)\"  # The GO term of interest.\n",
    "groups = None  # Only show selected groups on x-axis e.g. [\"a\", \"b\"]. None to show all.\n",
    "figsize_term_dot = None # Set figure size for term dotplot e.g. (10, 5).\n",
    "save_term_dot = f\"term_dotplot_{term}_{clustering}.pdf\""
   ]
  },
  {
   "cell_type": "markdown",
   "id": "d1bbd9b5",
   "metadata": {},
   "source": [
    "---"
   ]
  },
  {
   "cell_type": "code",
   "execution_count": null,
   "id": "c7cd9550",
   "metadata": {
    "editable": false
   },
   "outputs": [],
   "source": [
    "gene_col = \"Lead_genes\" if method == \"prerank\" else \"Genes\""
   ]
  },
  {
   "cell_type": "code",
   "execution_count": null,
   "id": "32b0cca2",
   "metadata": {
    "editable": false,
    "hide_input": false
   },
   "outputs": [],
   "source": [
    "if term:\n",
    "    pl.gsea.term_dotplot(term=term,\n",
    "                         term_table=combined[combined[\"UP_DW\"] == \"UP\"],\n",
    "                         adata=adata,\n",
    "                         groupby=clustering,\n",
    "                         gene_col=gene_col,\n",
    "                         groups=groups,\n",
    "                         figsize=figsize_term_dot,\n",
    "                         save=save_term_dot)"
   ]
  },
  {
   "cell_type": "markdown",
   "id": "b6c2cf21",
   "metadata": {},
   "source": [
    "### 7.3 Network plot\n",
    "The network plot shows connections between enriched pathways per cluster. In the plot the node size corresponds to the percentage of gene overlap in a certain term of interest. The colour of the node corresponds to the significance of the enriched terms and the edge size corresponds to the number of genes that overlap between two connected nodes."
   ]
  },
  {
   "cell_type": "markdown",
   "id": "64270666",
   "metadata": {},
   "source": [
    "<h1><center>⬐ Fill in input data here ⬎</center></h1>"
   ]
  },
  {
   "cell_type": "code",
   "execution_count": null,
   "id": "93253122",
   "metadata": {},
   "outputs": [],
   "source": [
    "# Significance cutoff for (sig_column), e.g. \"FDR q-val\"\n",
    "# All terms with a sig_column value > cutoff are filtered.\n",
    "cutoff = 0.05 \n",
    "\n",
    "scale = 1  # Scale factor for node positions\n",
    "figsize_network = None # Set figure size for term dotplot e.g. (10, 5). Set to None to use default.\n",
    "ncols = 3  # Number of columns for network plots\n",
    "save_network = f\"pathway_network.pdf\"\n",
    "\n",
    "# Column containing significance of enrichted termn.\n",
    "# If None uses default values:\n",
    "#     prerank -> FDR q-val\n",
    "#     enrichr -> Adjusted P-value\n",
    "# Available options are:\n",
    "#     - for prerank: 'FDR q-val', 'NOM p-val'\n",
    "#     - for enrichr: 'Adjusted P-value', 'P-value'\n",
    "sig_column = None   "
   ]
  },
  {
   "cell_type": "code",
   "execution_count": null,
   "id": "38bc490b",
   "metadata": {
    "editable": false
   },
   "outputs": [],
   "source": [
    "if sig_column is None:\n",
    "    sig_column = \"FDR q-val\" if method == \"prerank\" else \"Adjusted P-value\"\n",
    "    \n",
    "score_col = \"NES\" if method == \"prerank\" else \"Combined Score\""
   ]
  },
  {
   "cell_type": "markdown",
   "id": "cf9df1a2",
   "metadata": {},
   "source": [
    "---"
   ]
  },
  {
   "cell_type": "code",
   "execution_count": null,
   "id": "99fb9384",
   "metadata": {
    "editable": false
   },
   "outputs": [],
   "source": [
    "pl.gsea.gsea_network(combined[combined[\"UP_DW\"] == \"UP\"],\n",
    "                     score_col = score_col,\n",
    "                     sig_col=sig_column,\n",
    "                     cutoff=cutoff,\n",
    "                     scale=scale,\n",
    "                     figsize=figsize_network,\n",
    "                     ncols=ncols,\n",
    "                     save=save_network)"
   ]
  }
 ],
 "metadata": {
  "kernelspec": {
   "display_name": "sctoolbox",
   "language": "python",
   "name": "sctoolbox"
  },
  "language_info": {
   "codemirror_mode": {
    "name": "ipython",
    "version": 3
   },
   "file_extension": ".py",
   "mimetype": "text/x-python",
   "name": "python",
   "nbconvert_exporter": "python",
   "pygments_lexer": "ipython3",
   "version": "3.12.6"
  },
  "sc_framework": {
   "version": "0.12.0"
  }
 },
 "nbformat": 4,
 "nbformat_minor": 5
}
