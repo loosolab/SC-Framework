{
 "cells": [
  {
   "cell_type": "code",
   "execution_count": null,
   "id": "e388ba22",
   "metadata": {
    "editable": false,
    "hide_input": true,
    "init_cell": true
   },
   "outputs": [],
   "source": [
    "from sctoolbox.utils.jupyter import bgcolor, _compare_version\n",
    "\n",
    "# change the background of input cells\n",
    "bgcolor(\"PowderBlue\", select=[3, 6, 9, 11])\n",
    "\n",
    "nb_name = \"annotation.ipynb\"\n",
    "\n",
    "_compare_version(nb_name)"
   ]
  },
  {
   "cell_type": "markdown",
   "id": "0f123ffb",
   "metadata": {},
   "source": [
    "# Cell type annotation and marker list assembly\n",
    "<hr style=\"border:2px solid black\"> </hr>"
   ]
  },
  {
   "cell_type": "markdown",
   "id": "32f27ac3",
   "metadata": {},
   "source": [
    "## 1 - Description\n",
    "\n",
    "**Requires a clustered or otherwise categorized anndata object. A clustering can be generated with a clustering notebook (e.g. `rna_analysis/notebooks/04_clustering.ipynb`).**\n",
    "\n",
    "**Move this notebook into the notebook folder (e.g. `rna_analysis/notebooks/`) of the respective analysis before using it!**\n",
    "\n",
    "This Jupyter Notebook is designed for annotating cell types in clustered AnnData objects. It is divided into two main parts:\n",
    "\n",
    "- **Marker List Assembly**: This part is used when no existing marker lists are available. It enables users to assemble custom marker lists using the MarkerRepo.\n",
    "\n",
    "- **Annotation**: This section applies the created or provided marker lists to annotate cell types in AnnData objects.\n",
    "\n",
    "\n",
    "For more information about MarkerRepo, click [here](https://gitlab.gwdg.de/loosolab/software/annotate_by_marker_and_features)."
   ]
  },
  {
   "cell_type": "markdown",
   "id": "5bd3d82a",
   "metadata": {},
   "source": [
    "--------------"
   ]
  },
  {
   "cell_type": "markdown",
   "id": "c33b11ce",
   "metadata": {},
   "source": [
    "## 2- Setup"
   ]
  },
  {
   "cell_type": "code",
   "execution_count": null,
   "id": "0f2d9d93",
   "metadata": {
    "editable": false,
    "hide_input": false
   },
   "outputs": [],
   "source": [
    "from sctoolbox import settings\n",
    "import sctoolbox.utils as utils\n",
    "import sctoolbox.plotting as pl\n",
    "import os\n",
    "import pandas as pd\n",
    "pd.set_option('display.max_columns', None)  # no limit to the number of columns shown"
   ]
  },
  {
   "cell_type": "code",
   "execution_count": null,
   "id": "9489125c",
   "metadata": {
    "editable": false,
    "hide_input": false
   },
   "outputs": [],
   "source": [
    "try:\n",
    "    import markerrepo.wrappers as wrap\n",
    "    import markerrepo.marker_repo as mr\n",
    "except ModuleNotFoundError:\n",
    "    raise ModuleNotFoundError(\"Please install the latest MarkerRepo version.\")"
   ]
  },
  {
   "cell_type": "markdown",
   "id": "a0b462fb",
   "metadata": {},
   "source": [
    "<h1><center>⬐ Fill in input data here ⬎</center></h1>"
   ]
  },
  {
   "cell_type": "code",
   "execution_count": null,
   "id": "d14e02b0",
   "metadata": {
    "hide_input": false
   },
   "outputs": [],
   "source": [
    "# sctoolbox settings\n",
    "settings.adata_input_dir = \"../adatas/\"\n",
    "settings.adata_output_dir = \"../adatas/\"\n",
    "settings.figure_dir = \"../figures/annotation/\"\n",
    "settings.table_dir = \"../tables/annotation/\"\n",
    "settings.log_file = \"../logs/annotation_log.txt\"\n",
    "\n",
    "clustered_adata = \"anndata_4.h5ad\""
   ]
  },
  {
   "cell_type": "markdown",
   "id": "f4b227d5",
   "metadata": {},
   "source": [
    "___"
   ]
  },
  {
   "cell_type": "markdown",
   "id": "f51d3a6b",
   "metadata": {},
   "source": [
    "## 3 - Loading adata"
   ]
  },
  {
   "cell_type": "code",
   "execution_count": null,
   "id": "e099e3a4",
   "metadata": {
    "editable": false,
    "hide_input": false
   },
   "outputs": [],
   "source": [
    "adata = utils.adata.load_h5ad(clustered_adata)"
   ]
  },
  {
   "cell_type": "code",
   "execution_count": null,
   "id": "0793596e",
   "metadata": {
    "editable": false,
    "hide_input": false
   },
   "outputs": [],
   "source": [
    "with pd.option_context(\"display.max.rows\", 5, \"display.max.columns\", None):\n",
    "    display(adata)\n",
    "    display(adata.obs)"
   ]
  },
  {
   "cell_type": "markdown",
   "id": "e6f53dad",
   "metadata": {},
   "source": [
    "___"
   ]
  },
  {
   "cell_type": "markdown",
   "id": "54a60a0f",
   "metadata": {},
   "source": [
    "## 4 - Essential Input\n",
    "<hr style=\"border:2px solid black\"> </hr>\n",
    "Adjust the parameters shown below to enable basic cell type annotation.\n",
    "\n",
    "### 4.1 - Parameter Overview\n",
    "<hr style=\"border:1px solid black\"> </hr>\n",
    "\n",
    "| Parameter | Description | Options |\n",
    "|-----------|-------------|--------------|\n",
    "| `clustering_column` | `.obs` column used for the cell type assignment. | `None` (select interactively) or String (e.g., `\"leiden\"`) |\n",
    "| `organism` | Specifies the organism for marker list assembly (see `4.1.1`). None to provide a custom marker list (see `marker_lists`). | `None` or String (e.g., `\"human\"`) |\n",
    "| `marker_lists` | Use preassembled marker lists. Either a path to a directory of marker lists, paths to marker lists or None to manually assemble one. See section `4.1.2` for details. | `None` or String or list of Strings (e.g., `\"/path/my_markers\"` or `[\"/heart_markers/markers\", \"/human/panglao\"]` |\n",
    "| `repo_path` | Path to MarkerRepo. if None, the MarkerRepo will be downloaded to the notebooks folder| `None` or String |\n",
    "\n",
    "#### 4.1.1 Available organisms\n",
    "The organism of the current dataset. Will be used to assemble a marker list based on the internally provided sources. \n",
    "\n",
    "Currently available organisms are:\n",
    "\n",
    "- `human`\n",
    "\n",
    "- `mouse`\n",
    "\n",
    "- `zebrafish`\n",
    "\n",
    "- `rat`\n",
    " \n",
    "This parameter will be ignored in favor of a custom marker list (see section `4.1.2` below). This will also cause the assembly section (`5`) to be skipped.\n",
    "\n",
    "\n",
    "#### 4.1.2 - Custom marker list\n",
    "Alternatively, the user can supply a custom list of marker genes by setting `marker_lists` to a user-supplied file. This has to be a **delimited text file (`.csv`, `.tsv`, ...), without a header and with two columns**. The first column contains the marker names and the second column has the cell types. For example:\n",
    "```\n",
    "marker_1    Fibroblast\n",
    "marker_2    Fibroblast\n",
    "marker_3    Endocardium\n",
    "...\n",
    "```"
   ]
  },
  {
   "cell_type": "markdown",
   "id": "234cd969",
   "metadata": {},
   "source": [
    "<h1><center>⬐ Fill in input data here ⬎</center></h1>"
   ]
  },
  {
   "cell_type": "code",
   "execution_count": null,
   "id": "1612d966",
   "metadata": {
    "hide_input": false
   },
   "outputs": [],
   "source": [
    "# Annotation settings\n",
    "clustering_column = \"leiden_0.1\"\n",
    "organism = \"human\"\n",
    "# set path to custom marker lists\n",
    "marker_lists = None\n",
    "\n",
    "# add the path to annotate_by_marker_and_features repo\n",
    "# set to None to clone the repository to your notebooks folder\n",
    "repo_path = None"
   ]
  },
  {
   "cell_type": "code",
   "execution_count": null,
   "id": "18c00956",
   "metadata": {
    "editable": false
   },
   "outputs": [],
   "source": [
    "# check path of MarkerRepo\n",
    "if repo_path is None or not os.path.exists(repo_path):\n",
    "    if not os.path.exists(\"./annotate_by_marker_and_features\"):\n",
    "        print(\"MarkerRepo was not found! Cloning repository...\")\n",
    "        !git clone https://gitlab.gwdg.de/loosolab/software/annotate_by_marker_and_features.git\n",
    "    else:\n",
    "        print(\"MarkerRepo was found! Changing path to <./annotate_by_marker_and_features>\")\n",
    "    repo_path = \"./annotate_by_marker_and_features\""
   ]
  },
  {
   "cell_type": "markdown",
   "id": "e6f1b8d8",
   "metadata": {},
   "source": [
    "--------------"
   ]
  },
  {
   "cell_type": "markdown",
   "id": "ade0158f",
   "metadata": {},
   "source": [
    "## 5 - Marker List Assembly\n",
    "<hr style=\"border:2px solid black\"> </hr>\n",
    "\n",
    "The marker list paths are stored in the <b>marker_lists</b> variable. They work as input for the actual cell type annotation of the next cell.\n",
    "\n",
    "### 5.1 - Parameter Overview\n",
    "<hr style=\"border:1px solid black\"> </hr>\n",
    "\n",
    "| Parameter | Description | Options |\n",
    "|-----------|-------------|---------|\n",
    "| `search_terms` | Search terms for the marker list assembly, targeting specific columns. | `None` or Dictionary (e.g., `{\"Source\": \"panglao.se\", \"Tissue\", \"Heart\"}`) |\n",
    "| `list_format` | Additional parameters for marker list assembly. One marker list is created per dictionary. | `None` or List of dictionaries (e.g., `[{\"style\":\"two_column\", \"file_name\":\"two_column\"}, {\"style\":\"score\", \"file_name\":\"score\"}]`|\n",
    "\n",
    "**Recommendation:** Set `search_terms` and `list_format` to `None` this enables an interactive guide to assemble the marker list. Manually setting `search_terms` and `list_format` is mostly intended for advanced users who already know what to search for.\n",
    "\n",
    "#### 5.1.1 search_terms (advanced)\n",
    "Each `key:value` pair will narrow the search in the marker list database to target specific lists, for example, setting `\"Organism name\": \"human\"` will ensure the use of marker lists relevant to the selected organism. Multiple search terms will be connected with a logical `AND` e.g. `\"Organism name\": \"human\", \"Tissue\": \"blood\"` will only consider human marker genes of blood during list assembly.\n",
    "\n",
    "**Run the following cell to see available input(s) for `search_terms`.**\n",
    "\n",
    "#### 5.1.2 list_format (advanced)\n",
    "The `list_format` parameter decides the method and format of the resulting annotation list. Each dictionary entry will result in a marker list, which will be saved locally as a separate annotation list.\n",
    "\n",
    "| Key | Value | Description |\n",
    "|-----|-------|-------------|\n",
    "| `file_name` | `None` or filename | The file where the finished list will be stored. Set `None` or skip entry to set the name interactively. |\n",
    "| `style` | One of `two_column`, `score` or `ui` | The style of the marker lists. Either a minimal list of gene to cell type assignments (`two_column`), a list including a score (average count of a marker gene across all lists, to measure specificity of markers to a cell type) (`score`) or a list where each gene is weighted by the ubiquitousness index (see below). |\n",
    "\n",
    ">[The] **ubiquitousness index** (UI), [...] is an indicator of how often the gene is expressed in cell clusters. UI takes values between 0 and 1. Values toward 1 indicate the gene is expressed in more cell clusters, indicating the gene to be involved in housekeeping tasks.\n",
    "\n",
    "[Franzén et al., 2019](https://doi.org/10.1093/database/baz046)"
   ]
  },
  {
   "cell_type": "markdown",
   "id": "9d7bf93b",
   "metadata": {},
   "source": [
    "**List of available inputs for `search_terms`**"
   ]
  },
  {
   "cell_type": "code",
   "execution_count": null,
   "id": "aca609b4",
   "metadata": {
    "editable": false
   },
   "outputs": [],
   "source": [
    "if not marker_lists and not organism:\n",
    "    raise ValueError(\"Please provide either <organism> or a path to custom marker list <marker_lists>\")\n",
    "if not marker_lists:\n",
    "    df = mr.search_df(df=mr.combine_dfs(repo_path=repo_path), col_to_search=\"Organism name\", search_terms=[f\"+{organism.split(' ')[0]}\"])\n",
    "    print(f\"* Possible keys for <column_specific_terms>:\\n {df.columns.to_list()}\\n\")\n",
    "    for col in df.columns[:12]: \n",
    "        print(f\"* Possible values for {col}: {df[col].dropna().drop_duplicates().to_list()}\\n\")"
   ]
  },
  {
   "cell_type": "markdown",
   "id": "e3576d29",
   "metadata": {},
   "source": [
    "<h1><center>⬐ Fill in input data here ⬎</center></h1>"
   ]
  },
  {
   "cell_type": "code",
   "execution_count": null,
   "id": "cf336332",
   "metadata": {
    "hide_input": false
   },
   "outputs": [],
   "source": [
    "# Marker list assembly\n",
    "if not marker_lists:\n",
    "    # we recommend specifying \"Tissue\" if possible to get more accurate results\n",
    "    search_terms = {\"Organism name\": organism}\n",
    "\n",
    "    list_format = [{\"file_name\":\"panglao_two_column\", \"style\":\"two_column\"}, \n",
    "                   {\"file_name\":\"panglao_score\", \"style\":\"score\"},\n",
    "                   #{\"file_name\":\"panglao_ui\", \"style\":\"ui\"}\n",
    "                  ]"
   ]
  },
  {
   "cell_type": "markdown",
   "id": "cb89835a",
   "metadata": {},
   "source": [
    "___"
   ]
  },
  {
   "cell_type": "code",
   "execution_count": null,
   "id": "5b4da604",
   "metadata": {
    "editable": false,
    "hide_input": false
   },
   "outputs": [],
   "source": [
    "if not marker_lists:\n",
    "    marker_lists = wrap.create_multiple_marker_lists(\n",
    "        cml_parameters=list_format, \n",
    "        repo_path=repo_path, \n",
    "        organism=organism, \n",
    "        ensembl=mr.check_ensembl(adata), \n",
    "        column_specific_terms=search_terms, \n",
    "        show_lists=True,\n",
    "        path=settings.table_dir\n",
    "    )"
   ]
  },
  {
   "cell_type": "markdown",
   "id": "edc09141",
   "metadata": {},
   "source": [
    "--------------"
   ]
  },
  {
   "cell_type": "markdown",
   "id": "3b737487",
   "metadata": {},
   "source": [
    "## 6 - Annotate adata\n",
    "<hr style=\"border:2px solid black\"> </hr>\n",
    "After selection and creation of the gene marker lists, potential cell types can be annotated in this final step. This notebook supports two methods of annotation, MarkerRepo and SCSA.\n",
    "\n",
    "### 6.1 - Parameter Overview\n",
    "\n",
    "| Parameter | Description | Options/Type |\n",
    "|-----------|-------------|--------------|\n",
    "| `marker_repo` | Use [MarkerRepo](https://gitlab.gwdg.de/loosolab/software/annotate_by_marker_and_features) for annotation. | Boolean |\n",
    "| `SCSA` | Use [SCSA](https://github.com/bioinfo-ibms-pumc/SCSA) for annotation. | Boolean |\n",
    "| `mr_obs` | Prefix of the MarkerRepo annotation columns added to `anndata.obs`. | String (e.g., \"mr\") |\n",
    "| `scsa_obs` | Prefix of the SCSA annotation columns added to `anndata.obs`. | String (e.g., \"scsa\") |\n",
    "| `rank_genes_column` | **Advanced users only** Column of `.uns` table with rank genes scores. If `None`, the ranking will be performed on the clustering_column. | `None` or String |\n",
    "| `reference_obs` | A reference annotation in `.obs` for comparison. See section `3 - Loading adata` for possible values. | `None` or String |"
   ]
  },
  {
   "cell_type": "markdown",
   "id": "9a1b486e",
   "metadata": {},
   "source": [
    "<h1><center>⬐ Fill in input data here ⬎</center></h1>"
   ]
  },
  {
   "cell_type": "code",
   "execution_count": null,
   "id": "c60c7d22",
   "metadata": {
    "hide_input": false
   },
   "outputs": [],
   "source": [
    "marker_repo = True\n",
    "SCSA = True\n",
    "mr_obs = \"MR\"\n",
    "scsa_obs = \"SCSA\"\n",
    "rank_genes_column = None\n",
    "reference_obs = None"
   ]
  },
  {
   "cell_type": "markdown",
   "id": "24d6f352",
   "metadata": {},
   "source": [
    "___"
   ]
  },
  {
   "cell_type": "code",
   "execution_count": null,
   "id": "1fd7660e",
   "metadata": {
    "editable": false,
    "hide_input": false
   },
   "outputs": [],
   "source": [
    "compare_df = wrap.run_annotation(adata, \n",
    "                                 marker_repo=marker_repo, \n",
    "                                 SCSA=SCSA, \n",
    "                                 marker_lists=marker_lists, \n",
    "                                 mr_obs=mr_obs, \n",
    "                                 scsa_obs=scsa_obs, \n",
    "                                 rank_genes_column=rank_genes_column, \n",
    "                                 clustering_column=clustering_column, \n",
    "                                 reference_obs=reference_obs, \n",
    "                                 show_comparison=True, \n",
    "                                 ignore_overwrite=True, \n",
    "                                 show_plots=False,\n",
    "                                 output_path=settings.table_dir\n",
    "                                )"
   ]
  },
  {
   "cell_type": "code",
   "execution_count": null,
   "id": "a2439d42",
   "metadata": {
    "editable": false,
    "hide_input": false
   },
   "outputs": [],
   "source": [
    "if not rank_genes_column:\n",
    "    rank_genes_column = f\"rank_genes_groups_{clustering_column}\"\n",
    "\n",
    "# Plot dotplot of markers\n",
    "_ = pl.marker_genes.rank_genes_plot(\n",
    "    adata,\n",
    "    key=rank_genes_column,\n",
    "    n_genes=10,\n",
    "    style=\"dots\",\n",
    "    save=f\"marker_genes_dots_{clustering_column}.pdf\"\n",
    ")"
   ]
  },
  {
   "cell_type": "code",
   "execution_count": null,
   "id": "2737a2a2",
   "metadata": {
    "editable": false,
    "hide_input": false
   },
   "outputs": [],
   "source": [
    "# Plot cell type annotations\n",
    "columns = [clustering_column] + list(compare_df.columns)\n",
    "_ = pl.embedding.plot_embedding(adata, method=\"umap\", color=columns, ncols=2,\n",
    "                                save=\"compare_annotations.pdf\")"
   ]
  },
  {
   "cell_type": "markdown",
   "id": "4b288700",
   "metadata": {},
   "source": [
    "--------------"
   ]
  },
  {
   "cell_type": "markdown",
   "id": "d3e686bd",
   "metadata": {},
   "source": [
    "### 6.1 - Show annotated .obs table"
   ]
  },
  {
   "cell_type": "code",
   "execution_count": null,
   "id": "f3e452b1",
   "metadata": {
    "editable": false,
    "hide_input": false
   },
   "outputs": [],
   "source": [
    "display(adata.obs)"
   ]
  },
  {
   "cell_type": "markdown",
   "id": "46678440",
   "metadata": {},
   "source": [
    "--------------"
   ]
  },
  {
   "cell_type": "markdown",
   "id": "f84f0579",
   "metadata": {},
   "source": [
    "## 7 - Save adata"
   ]
  },
  {
   "cell_type": "code",
   "execution_count": null,
   "id": "b684b120",
   "metadata": {
    "editable": false,
    "hide_input": false
   },
   "outputs": [],
   "source": [
    "utils.adata.save_h5ad(adata, \"anndata_annotated.h5ad\")"
   ]
  }
 ],
 "metadata": {
  "kernelspec": {
   "display_name": "sctoolbox",
   "language": "python",
   "name": "sctoolbox"
  },
  "language_info": {
   "codemirror_mode": {
    "name": "ipython",
    "version": 3
   },
   "file_extension": ".py",
   "mimetype": "text/x-python",
   "name": "python",
   "nbconvert_exporter": "python",
   "pygments_lexer": "ipython3",
   "version": "3.12.6"
  },
  "sc_framework": {
   "version": "0.12.0"
  }
 },
 "nbformat": 4,
 "nbformat_minor": 5
}
